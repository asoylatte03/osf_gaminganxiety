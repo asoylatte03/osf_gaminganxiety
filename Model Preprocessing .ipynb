{
 "cells": [
  {
   "cell_type": "markdown",
   "metadata": {},
   "source": [
    "# Model Preprocessing "
   ]
  },
  {
   "cell_type": "code",
   "execution_count": 271,
   "metadata": {},
   "outputs": [],
   "source": [
    "# importing libraries \n",
    "import numpy as np\n",
    "import pandas as pd\n",
    "from matplotlib import pyplot as plt\n",
    "import seaborn as sns\n",
    "from scipy import stats as stats\n",
    "from sklearn.metrics import precision_score, recall_score, confusion_matrix,ConfusionMatrixDisplay,classification_report\n",
    "from sklearn.model_selection import train_test_split, GridSearchCV,\\\n",
    "cross_val_score, RandomizedSearchCV\n",
    "from sklearn.compose import ColumnTransformer\n",
    "\n",
    "# model preprocessing libraries \n",
    "from sklearn.pipeline import Pipeline\n",
    "from sklearn.impute import SimpleImputer\n",
    "from sklearn.experimental import enable_iterative_imputer\n",
    "from sklearn.impute import IterativeImputer\n",
    "from sklearn.dummy import DummyClassifier\n",
    "from sklearn.preprocessing import LabelEncoder\n",
    "from sklearn.preprocessing import OrdinalEncoder\n",
    "from sklearn.preprocessing import OneHotEncoder\n",
    "from sklearn.preprocessing import StandardScaler\n",
    "from sklearn.preprocessing import MaxAbsScaler\n",
    "from sklearn.compose import ColumnTransformer\n",
    "\n",
    "# algorithm imports \n",
    "from sklearn.linear_model import LogisticRegression\n",
    "from sklearn.tree import DecisionTreeClassifier, plot_tree\n",
    "from sklearn.ensemble import RandomForestClassifier\n",
    "from sklearn.naive_bayes import GaussianNB"
   ]
  },
  {
   "cell_type": "code",
   "execution_count": 99,
   "metadata": {},
   "outputs": [
    {
     "data": {
      "text/html": [
       "<div>\n",
       "<style scoped>\n",
       "    .dataframe tbody tr th:only-of-type {\n",
       "        vertical-align: middle;\n",
       "    }\n",
       "\n",
       "    .dataframe tbody tr th {\n",
       "        vertical-align: top;\n",
       "    }\n",
       "\n",
       "    .dataframe thead th {\n",
       "        text-align: right;\n",
       "    }\n",
       "</style>\n",
       "<table border=\"1\" class=\"dataframe\">\n",
       "  <thead>\n",
       "    <tr style=\"text-align: right;\">\n",
       "      <th></th>\n",
       "      <th>GAD1</th>\n",
       "      <th>GAD2</th>\n",
       "      <th>GAD3</th>\n",
       "      <th>GAD4</th>\n",
       "      <th>GAD5</th>\n",
       "      <th>GAD6</th>\n",
       "      <th>GAD7</th>\n",
       "      <th>GADE</th>\n",
       "      <th>Game</th>\n",
       "      <th>Platform</th>\n",
       "      <th>...</th>\n",
       "      <th>streams</th>\n",
       "      <th>Gender</th>\n",
       "      <th>Age</th>\n",
       "      <th>Work</th>\n",
       "      <th>Degree</th>\n",
       "      <th>Birthplace</th>\n",
       "      <th>Residence</th>\n",
       "      <th>Playstyle</th>\n",
       "      <th>GAD_T</th>\n",
       "      <th>anxiety</th>\n",
       "    </tr>\n",
       "    <tr>\n",
       "      <th>S. No.</th>\n",
       "      <th></th>\n",
       "      <th></th>\n",
       "      <th></th>\n",
       "      <th></th>\n",
       "      <th></th>\n",
       "      <th></th>\n",
       "      <th></th>\n",
       "      <th></th>\n",
       "      <th></th>\n",
       "      <th></th>\n",
       "      <th></th>\n",
       "      <th></th>\n",
       "      <th></th>\n",
       "      <th></th>\n",
       "      <th></th>\n",
       "      <th></th>\n",
       "      <th></th>\n",
       "      <th></th>\n",
       "      <th></th>\n",
       "      <th></th>\n",
       "      <th></th>\n",
       "    </tr>\n",
       "  </thead>\n",
       "  <tbody>\n",
       "    <tr>\n",
       "      <th>1</th>\n",
       "      <td>0</td>\n",
       "      <td>0</td>\n",
       "      <td>0</td>\n",
       "      <td>0</td>\n",
       "      <td>1</td>\n",
       "      <td>0</td>\n",
       "      <td>0</td>\n",
       "      <td>Not difficult at all</td>\n",
       "      <td>Skyrim</td>\n",
       "      <td>Console (PS, Xbox, ...)</td>\n",
       "      <td>...</td>\n",
       "      <td>0.0</td>\n",
       "      <td>Male</td>\n",
       "      <td>25</td>\n",
       "      <td>Unemployed / between jobs</td>\n",
       "      <td>Bachelor (or equivalent)</td>\n",
       "      <td>USA</td>\n",
       "      <td>USA</td>\n",
       "      <td>Singleplayer</td>\n",
       "      <td>1</td>\n",
       "      <td>minimal anxiety</td>\n",
       "    </tr>\n",
       "    <tr>\n",
       "      <th>2</th>\n",
       "      <td>1</td>\n",
       "      <td>2</td>\n",
       "      <td>2</td>\n",
       "      <td>2</td>\n",
       "      <td>0</td>\n",
       "      <td>1</td>\n",
       "      <td>0</td>\n",
       "      <td>Somewhat difficult</td>\n",
       "      <td>Other</td>\n",
       "      <td>PC</td>\n",
       "      <td>...</td>\n",
       "      <td>2.0</td>\n",
       "      <td>Male</td>\n",
       "      <td>41</td>\n",
       "      <td>Unemployed / between jobs</td>\n",
       "      <td>Bachelor (or equivalent)</td>\n",
       "      <td>USA</td>\n",
       "      <td>USA</td>\n",
       "      <td>Multiplayer - online - with strangers</td>\n",
       "      <td>8</td>\n",
       "      <td>mild anxiety</td>\n",
       "    </tr>\n",
       "    <tr>\n",
       "      <th>3</th>\n",
       "      <td>0</td>\n",
       "      <td>2</td>\n",
       "      <td>2</td>\n",
       "      <td>0</td>\n",
       "      <td>0</td>\n",
       "      <td>3</td>\n",
       "      <td>1</td>\n",
       "      <td>Not difficult at all</td>\n",
       "      <td>Other</td>\n",
       "      <td>PC</td>\n",
       "      <td>...</td>\n",
       "      <td>0.0</td>\n",
       "      <td>Female</td>\n",
       "      <td>32</td>\n",
       "      <td>Employed</td>\n",
       "      <td>Bachelor (or equivalent)</td>\n",
       "      <td>Germany</td>\n",
       "      <td>Germany</td>\n",
       "      <td>Singleplayer</td>\n",
       "      <td>8</td>\n",
       "      <td>mild anxiety</td>\n",
       "    </tr>\n",
       "    <tr>\n",
       "      <th>4</th>\n",
       "      <td>0</td>\n",
       "      <td>0</td>\n",
       "      <td>0</td>\n",
       "      <td>0</td>\n",
       "      <td>0</td>\n",
       "      <td>0</td>\n",
       "      <td>0</td>\n",
       "      <td>Not difficult at all</td>\n",
       "      <td>Other</td>\n",
       "      <td>PC</td>\n",
       "      <td>...</td>\n",
       "      <td>5.0</td>\n",
       "      <td>Male</td>\n",
       "      <td>28</td>\n",
       "      <td>Employed</td>\n",
       "      <td>Bachelor (or equivalent)</td>\n",
       "      <td>USA</td>\n",
       "      <td>USA</td>\n",
       "      <td>Multiplayer - online - with online acquaintanc...</td>\n",
       "      <td>0</td>\n",
       "      <td>minimal anxiety</td>\n",
       "    </tr>\n",
       "    <tr>\n",
       "      <th>5</th>\n",
       "      <td>2</td>\n",
       "      <td>1</td>\n",
       "      <td>2</td>\n",
       "      <td>2</td>\n",
       "      <td>2</td>\n",
       "      <td>3</td>\n",
       "      <td>2</td>\n",
       "      <td>Very difficult</td>\n",
       "      <td>Other</td>\n",
       "      <td>Console (PS, Xbox, ...)</td>\n",
       "      <td>...</td>\n",
       "      <td>1.0</td>\n",
       "      <td>Male</td>\n",
       "      <td>19</td>\n",
       "      <td>Employed</td>\n",
       "      <td>High school diploma (or equivalent)</td>\n",
       "      <td>USA</td>\n",
       "      <td>South Korea</td>\n",
       "      <td>Multiplayer - online - with strangers</td>\n",
       "      <td>14</td>\n",
       "      <td>moderate anxiety</td>\n",
       "    </tr>\n",
       "    <tr>\n",
       "      <th>...</th>\n",
       "      <td>...</td>\n",
       "      <td>...</td>\n",
       "      <td>...</td>\n",
       "      <td>...</td>\n",
       "      <td>...</td>\n",
       "      <td>...</td>\n",
       "      <td>...</td>\n",
       "      <td>...</td>\n",
       "      <td>...</td>\n",
       "      <td>...</td>\n",
       "      <td>...</td>\n",
       "      <td>...</td>\n",
       "      <td>...</td>\n",
       "      <td>...</td>\n",
       "      <td>...</td>\n",
       "      <td>...</td>\n",
       "      <td>...</td>\n",
       "      <td>...</td>\n",
       "      <td>...</td>\n",
       "      <td>...</td>\n",
       "      <td>...</td>\n",
       "    </tr>\n",
       "    <tr>\n",
       "      <th>14246</th>\n",
       "      <td>1</td>\n",
       "      <td>0</td>\n",
       "      <td>0</td>\n",
       "      <td>1</td>\n",
       "      <td>0</td>\n",
       "      <td>1</td>\n",
       "      <td>1</td>\n",
       "      <td>Not difficult at all</td>\n",
       "      <td>Other</td>\n",
       "      <td>Console (PS, Xbox, ...)</td>\n",
       "      <td>...</td>\n",
       "      <td>10.0</td>\n",
       "      <td>Male</td>\n",
       "      <td>22</td>\n",
       "      <td>Student at college / university</td>\n",
       "      <td>Master (or equivalent)</td>\n",
       "      <td>France</td>\n",
       "      <td>France</td>\n",
       "      <td>Multiplayer - online - with strangers</td>\n",
       "      <td>4</td>\n",
       "      <td>minimal anxiety</td>\n",
       "    </tr>\n",
       "    <tr>\n",
       "      <th>14247</th>\n",
       "      <td>3</td>\n",
       "      <td>3</td>\n",
       "      <td>3</td>\n",
       "      <td>3</td>\n",
       "      <td>2</td>\n",
       "      <td>3</td>\n",
       "      <td>3</td>\n",
       "      <td>Extremely difficult</td>\n",
       "      <td>League of Legends</td>\n",
       "      <td>PC</td>\n",
       "      <td>...</td>\n",
       "      <td>20.0</td>\n",
       "      <td>Female</td>\n",
       "      <td>20</td>\n",
       "      <td>Student at college / university</td>\n",
       "      <td>High school diploma (or equivalent)</td>\n",
       "      <td>USA</td>\n",
       "      <td>USA</td>\n",
       "      <td>Multiplayer - online - with strangers</td>\n",
       "      <td>20</td>\n",
       "      <td>severe anxiety</td>\n",
       "    </tr>\n",
       "    <tr>\n",
       "      <th>14248</th>\n",
       "      <td>0</td>\n",
       "      <td>0</td>\n",
       "      <td>0</td>\n",
       "      <td>0</td>\n",
       "      <td>0</td>\n",
       "      <td>0</td>\n",
       "      <td>0</td>\n",
       "      <td>Not difficult at all</td>\n",
       "      <td>Starcraft 2</td>\n",
       "      <td>PC</td>\n",
       "      <td>...</td>\n",
       "      <td>14.0</td>\n",
       "      <td>Male</td>\n",
       "      <td>19</td>\n",
       "      <td>Student at college / university</td>\n",
       "      <td>High school diploma (or equivalent)</td>\n",
       "      <td>Norway</td>\n",
       "      <td>Norway</td>\n",
       "      <td>Multiplayer - online - with real life friends</td>\n",
       "      <td>0</td>\n",
       "      <td>minimal anxiety</td>\n",
       "    </tr>\n",
       "    <tr>\n",
       "      <th>14249</th>\n",
       "      <td>3</td>\n",
       "      <td>2</td>\n",
       "      <td>1</td>\n",
       "      <td>3</td>\n",
       "      <td>0</td>\n",
       "      <td>1</td>\n",
       "      <td>3</td>\n",
       "      <td>Somewhat difficult</td>\n",
       "      <td>Other</td>\n",
       "      <td>Console (PS, Xbox, ...)</td>\n",
       "      <td>...</td>\n",
       "      <td>0.0</td>\n",
       "      <td>Female</td>\n",
       "      <td>18</td>\n",
       "      <td>Student at school</td>\n",
       "      <td>High school diploma (or equivalent)</td>\n",
       "      <td>Canada</td>\n",
       "      <td>Canada</td>\n",
       "      <td>Singleplayer</td>\n",
       "      <td>13</td>\n",
       "      <td>moderate anxiety</td>\n",
       "    </tr>\n",
       "    <tr>\n",
       "      <th>14250</th>\n",
       "      <td>1</td>\n",
       "      <td>1</td>\n",
       "      <td>0</td>\n",
       "      <td>0</td>\n",
       "      <td>0</td>\n",
       "      <td>0</td>\n",
       "      <td>0</td>\n",
       "      <td>Somewhat difficult</td>\n",
       "      <td>Starcraft 2</td>\n",
       "      <td>PC</td>\n",
       "      <td>...</td>\n",
       "      <td>8.0</td>\n",
       "      <td>Male</td>\n",
       "      <td>19</td>\n",
       "      <td>Student at college / university</td>\n",
       "      <td>High school diploma (or equivalent)</td>\n",
       "      <td>Canada</td>\n",
       "      <td>Canada</td>\n",
       "      <td>Multiplayer - online - with strangers</td>\n",
       "      <td>2</td>\n",
       "      <td>minimal anxiety</td>\n",
       "    </tr>\n",
       "  </tbody>\n",
       "</table>\n",
       "<p>12058 rows × 23 columns</p>\n",
       "</div>"
      ],
      "text/plain": [
       "        GAD1  GAD2  GAD3  GAD4  GAD5  GAD6  GAD7                  GADE  \\\n",
       "S. No.                                                                   \n",
       "1          0     0     0     0     1     0     0  Not difficult at all   \n",
       "2          1     2     2     2     0     1     0    Somewhat difficult   \n",
       "3          0     2     2     0     0     3     1  Not difficult at all   \n",
       "4          0     0     0     0     0     0     0  Not difficult at all   \n",
       "5          2     1     2     2     2     3     2        Very difficult   \n",
       "...      ...   ...   ...   ...   ...   ...   ...                   ...   \n",
       "14246      1     0     0     1     0     1     1  Not difficult at all   \n",
       "14247      3     3     3     3     2     3     3   Extremely difficult   \n",
       "14248      0     0     0     0     0     0     0  Not difficult at all   \n",
       "14249      3     2     1     3     0     1     3    Somewhat difficult   \n",
       "14250      1     1     0     0     0     0     0    Somewhat difficult   \n",
       "\n",
       "                     Game                 Platform  ...  streams  Gender Age  \\\n",
       "S. No.                                              ...                        \n",
       "1                  Skyrim  Console (PS, Xbox, ...)  ...      0.0    Male  25   \n",
       "2                   Other                       PC  ...      2.0    Male  41   \n",
       "3                   Other                       PC  ...      0.0  Female  32   \n",
       "4                   Other                       PC  ...      5.0    Male  28   \n",
       "5                   Other  Console (PS, Xbox, ...)  ...      1.0    Male  19   \n",
       "...                   ...                      ...  ...      ...     ...  ..   \n",
       "14246               Other  Console (PS, Xbox, ...)  ...     10.0    Male  22   \n",
       "14247   League of Legends                       PC  ...     20.0  Female  20   \n",
       "14248         Starcraft 2                       PC  ...     14.0    Male  19   \n",
       "14249               Other  Console (PS, Xbox, ...)  ...      0.0  Female  18   \n",
       "14250         Starcraft 2                       PC  ...      8.0    Male  19   \n",
       "\n",
       "                                   Work                               Degree  \\\n",
       "S. No.                                                                         \n",
       "1             Unemployed / between jobs             Bachelor (or equivalent)   \n",
       "2             Unemployed / between jobs             Bachelor (or equivalent)   \n",
       "3                              Employed             Bachelor (or equivalent)   \n",
       "4                              Employed             Bachelor (or equivalent)   \n",
       "5                              Employed  High school diploma (or equivalent)   \n",
       "...                                 ...                                  ...   \n",
       "14246   Student at college / university               Master (or equivalent)   \n",
       "14247   Student at college / university  High school diploma (or equivalent)   \n",
       "14248   Student at college / university  High school diploma (or equivalent)   \n",
       "14249                 Student at school  High school diploma (or equivalent)   \n",
       "14250   Student at college / university  High school diploma (or equivalent)   \n",
       "\n",
       "        Birthplace    Residence  \\\n",
       "S. No.                            \n",
       "1              USA          USA   \n",
       "2              USA          USA   \n",
       "3          Germany      Germany   \n",
       "4              USA          USA   \n",
       "5              USA  South Korea   \n",
       "...            ...          ...   \n",
       "14246       France       France   \n",
       "14247          USA          USA   \n",
       "14248       Norway       Norway   \n",
       "14249       Canada       Canada   \n",
       "14250       Canada       Canada   \n",
       "\n",
       "                                                Playstyle GAD_T  \\\n",
       "S. No.                                                            \n",
       "1                                            Singleplayer     1   \n",
       "2                   Multiplayer - online - with strangers     8   \n",
       "3                                            Singleplayer     8   \n",
       "4       Multiplayer - online - with online acquaintanc...     0   \n",
       "5                   Multiplayer - online - with strangers    14   \n",
       "...                                                   ...   ...   \n",
       "14246               Multiplayer - online - with strangers     4   \n",
       "14247               Multiplayer - online - with strangers    20   \n",
       "14248       Multiplayer - online - with real life friends     0   \n",
       "14249                                        Singleplayer    13   \n",
       "14250               Multiplayer - online - with strangers     2   \n",
       "\n",
       "                 anxiety  \n",
       "S. No.                    \n",
       "1        minimal anxiety  \n",
       "2           mild anxiety  \n",
       "3           mild anxiety  \n",
       "4        minimal anxiety  \n",
       "5       moderate anxiety  \n",
       "...                  ...  \n",
       "14246    minimal anxiety  \n",
       "14247     severe anxiety  \n",
       "14248    minimal anxiety  \n",
       "14249   moderate anxiety  \n",
       "14250    minimal anxiety  \n",
       "\n",
       "[12058 rows x 23 columns]"
      ]
     },
     "execution_count": 99,
     "metadata": {},
     "output_type": "execute_result"
    }
   ],
   "source": [
    "# reading data for model preprocessing \n",
    "gamers_df = pd.read_csv('Data/preprocessed_data',index_col=0)\n",
    "gamers_df"
   ]
  },
  {
   "cell_type": "code",
   "execution_count": 100,
   "metadata": {},
   "outputs": [
    {
     "data": {
      "text/plain": [
       "GAD1            int64\n",
       "GAD2            int64\n",
       "GAD3            int64\n",
       "GAD4            int64\n",
       "GAD5            int64\n",
       "GAD6            int64\n",
       "GAD7            int64\n",
       "GADE           object\n",
       "Game           object\n",
       "Platform       object\n",
       "Hours         float64\n",
       "earnings       object\n",
       "whyplay        object\n",
       "streams       float64\n",
       "Gender         object\n",
       "Age             int64\n",
       "Work           object\n",
       "Degree         object\n",
       "Birthplace     object\n",
       "Residence      object\n",
       "Playstyle      object\n",
       "GAD_T           int64\n",
       "anxiety        object\n",
       "dtype: object"
      ]
     },
     "execution_count": 100,
     "metadata": {},
     "output_type": "execute_result"
    }
   ],
   "source": [
    "# looking at the different data types within the dataset \n",
    "gamers_df.dtypes"
   ]
  },
  {
   "cell_type": "code",
   "execution_count": 101,
   "metadata": {},
   "outputs": [
    {
     "data": {
      "text/plain": [
       "GAD1            0\n",
       "GAD2            0\n",
       "GAD3            0\n",
       "GAD4            0\n",
       "GAD5            0\n",
       "GAD6            0\n",
       "GAD7            0\n",
       "GADE          590\n",
       "Game            0\n",
       "Platform        0\n",
       "Hours          22\n",
       "earnings        0\n",
       "whyplay         0\n",
       "streams        81\n",
       "Gender          0\n",
       "Age             0\n",
       "Work           34\n",
       "Degree          0\n",
       "Birthplace      0\n",
       "Residence       0\n",
       "Playstyle       0\n",
       "GAD_T           0\n",
       "anxiety         0\n",
       "dtype: int64"
      ]
     },
     "execution_count": 101,
     "metadata": {},
     "output_type": "execute_result"
    }
   ],
   "source": [
    "gamers_df.isna().sum()"
   ]
  },
  {
   "cell_type": "markdown",
   "metadata": {},
   "source": [
    "### Data Preprocessing Workflow "
   ]
  },
  {
   "cell_type": "markdown",
   "metadata": {},
   "source": [
    "From our earlier EDA work, we identified several different strategies for dealing with NaN values in our dataset. \n",
    "- `GADE` NaN values should be imputed with \"Did not answer\"\n",
    "- `Hours` NaN values should be imputed using the `IterativeImputer` class\n",
    "- `streams` NaN values should be imputed with 0 \n",
    "- `Work` NaN values should be imputed using the `IterativeImputer` class\n",
    "- `Residence_ISO3` and `Birthplace_ISO3` NaN values should be imputed with 'AAA' to reflect 'Unknown' values in their corresponding columns. "
   ]
  },
  {
   "cell_type": "markdown",
   "metadata": {},
   "source": [
    "### Data Preprocessing Pipelines "
   ]
  },
  {
   "cell_type": "markdown",
   "metadata": {},
   "source": [
    "**Why pipelines?**"
   ]
  },
  {
   "cell_type": "code",
   "execution_count": 102,
   "metadata": {},
   "outputs": [],
   "source": [
    "# pipeline to replace NaNs in 'GADE' and 'Work' columns with 'Did not answer'\n",
    "survey_pipeline = Pipeline([('obj_imputer', SimpleImputer(strategy='constant',fill_value='Did not answer'))])\n",
    "\n",
    "# pipeline to replace NaNs in 'Hours and 'streams' with median value \n",
    "game_habits_pipeline = Pipeline([('numimputer', IterativeImputer(initial_strategy='median',random_state=42))])"
   ]
  },
  {
   "cell_type": "code",
   "execution_count": 103,
   "metadata": {},
   "outputs": [
    {
     "data": {
      "text/html": [
       "<style>#sk-container-id-30 {color: black;background-color: white;}#sk-container-id-30 pre{padding: 0;}#sk-container-id-30 div.sk-toggleable {background-color: white;}#sk-container-id-30 label.sk-toggleable__label {cursor: pointer;display: block;width: 100%;margin-bottom: 0;padding: 0.3em;box-sizing: border-box;text-align: center;}#sk-container-id-30 label.sk-toggleable__label-arrow:before {content: \"▸\";float: left;margin-right: 0.25em;color: #696969;}#sk-container-id-30 label.sk-toggleable__label-arrow:hover:before {color: black;}#sk-container-id-30 div.sk-estimator:hover label.sk-toggleable__label-arrow:before {color: black;}#sk-container-id-30 div.sk-toggleable__content {max-height: 0;max-width: 0;overflow: hidden;text-align: left;background-color: #f0f8ff;}#sk-container-id-30 div.sk-toggleable__content pre {margin: 0.2em;color: black;border-radius: 0.25em;background-color: #f0f8ff;}#sk-container-id-30 input.sk-toggleable__control:checked~div.sk-toggleable__content {max-height: 200px;max-width: 100%;overflow: auto;}#sk-container-id-30 input.sk-toggleable__control:checked~label.sk-toggleable__label-arrow:before {content: \"▾\";}#sk-container-id-30 div.sk-estimator input.sk-toggleable__control:checked~label.sk-toggleable__label {background-color: #d4ebff;}#sk-container-id-30 div.sk-label input.sk-toggleable__control:checked~label.sk-toggleable__label {background-color: #d4ebff;}#sk-container-id-30 input.sk-hidden--visually {border: 0;clip: rect(1px 1px 1px 1px);clip: rect(1px, 1px, 1px, 1px);height: 1px;margin: -1px;overflow: hidden;padding: 0;position: absolute;width: 1px;}#sk-container-id-30 div.sk-estimator {font-family: monospace;background-color: #f0f8ff;border: 1px dotted black;border-radius: 0.25em;box-sizing: border-box;margin-bottom: 0.5em;}#sk-container-id-30 div.sk-estimator:hover {background-color: #d4ebff;}#sk-container-id-30 div.sk-parallel-item::after {content: \"\";width: 100%;border-bottom: 1px solid gray;flex-grow: 1;}#sk-container-id-30 div.sk-label:hover label.sk-toggleable__label {background-color: #d4ebff;}#sk-container-id-30 div.sk-serial::before {content: \"\";position: absolute;border-left: 1px solid gray;box-sizing: border-box;top: 0;bottom: 0;left: 50%;z-index: 0;}#sk-container-id-30 div.sk-serial {display: flex;flex-direction: column;align-items: center;background-color: white;padding-right: 0.2em;padding-left: 0.2em;position: relative;}#sk-container-id-30 div.sk-item {position: relative;z-index: 1;}#sk-container-id-30 div.sk-parallel {display: flex;align-items: stretch;justify-content: center;background-color: white;position: relative;}#sk-container-id-30 div.sk-item::before, #sk-container-id-30 div.sk-parallel-item::before {content: \"\";position: absolute;border-left: 1px solid gray;box-sizing: border-box;top: 0;bottom: 0;left: 50%;z-index: -1;}#sk-container-id-30 div.sk-parallel-item {display: flex;flex-direction: column;z-index: 1;position: relative;background-color: white;}#sk-container-id-30 div.sk-parallel-item:first-child::after {align-self: flex-end;width: 50%;}#sk-container-id-30 div.sk-parallel-item:last-child::after {align-self: flex-start;width: 50%;}#sk-container-id-30 div.sk-parallel-item:only-child::after {width: 0;}#sk-container-id-30 div.sk-dashed-wrapped {border: 1px dashed gray;margin: 0 0.4em 0.5em 0.4em;box-sizing: border-box;padding-bottom: 0.4em;background-color: white;}#sk-container-id-30 div.sk-label label {font-family: monospace;font-weight: bold;display: inline-block;line-height: 1.2em;}#sk-container-id-30 div.sk-label-container {text-align: center;}#sk-container-id-30 div.sk-container {/* jupyter's `normalize.less` sets `[hidden] { display: none; }` but bootstrap.min.css set `[hidden] { display: none !important; }` so we also need the `!important` here to be able to override the default hidden behavior on the sphinx rendered scikit-learn.org. See: https://github.com/scikit-learn/scikit-learn/issues/21755 */display: inline-block !important;position: relative;}#sk-container-id-30 div.sk-text-repr-fallback {display: none;}</style><div id=\"sk-container-id-30\" class=\"sk-top-container\"><div class=\"sk-text-repr-fallback\"><pre>Pipeline(steps=[(&#x27;obj_imputer&#x27;,\n",
       "                 SimpleImputer(fill_value=&#x27;Did not answer&#x27;,\n",
       "                               strategy=&#x27;constant&#x27;))])</pre><b>In a Jupyter environment, please rerun this cell to show the HTML representation or trust the notebook. <br />On GitHub, the HTML representation is unable to render, please try loading this page with nbviewer.org.</b></div><div class=\"sk-container\" hidden><div class=\"sk-item sk-dashed-wrapped\"><div class=\"sk-label-container\"><div class=\"sk-label sk-toggleable\"><input class=\"sk-toggleable__control sk-hidden--visually\" id=\"sk-estimator-id-206\" type=\"checkbox\" ><label for=\"sk-estimator-id-206\" class=\"sk-toggleable__label sk-toggleable__label-arrow\">Pipeline</label><div class=\"sk-toggleable__content\"><pre>Pipeline(steps=[(&#x27;obj_imputer&#x27;,\n",
       "                 SimpleImputer(fill_value=&#x27;Did not answer&#x27;,\n",
       "                               strategy=&#x27;constant&#x27;))])</pre></div></div></div><div class=\"sk-serial\"><div class=\"sk-item\"><div class=\"sk-estimator sk-toggleable\"><input class=\"sk-toggleable__control sk-hidden--visually\" id=\"sk-estimator-id-207\" type=\"checkbox\" ><label for=\"sk-estimator-id-207\" class=\"sk-toggleable__label sk-toggleable__label-arrow\">SimpleImputer</label><div class=\"sk-toggleable__content\"><pre>SimpleImputer(fill_value=&#x27;Did not answer&#x27;, strategy=&#x27;constant&#x27;)</pre></div></div></div></div></div></div></div>"
      ],
      "text/plain": [
       "Pipeline(steps=[('obj_imputer',\n",
       "                 SimpleImputer(fill_value='Did not answer',\n",
       "                               strategy='constant'))])"
      ]
     },
     "execution_count": 103,
     "metadata": {},
     "output_type": "execute_result"
    }
   ],
   "source": [
    "survey_pipeline"
   ]
  },
  {
   "cell_type": "code",
   "execution_count": 104,
   "metadata": {},
   "outputs": [
    {
     "data": {
      "text/html": [
       "<style>#sk-container-id-31 {color: black;background-color: white;}#sk-container-id-31 pre{padding: 0;}#sk-container-id-31 div.sk-toggleable {background-color: white;}#sk-container-id-31 label.sk-toggleable__label {cursor: pointer;display: block;width: 100%;margin-bottom: 0;padding: 0.3em;box-sizing: border-box;text-align: center;}#sk-container-id-31 label.sk-toggleable__label-arrow:before {content: \"▸\";float: left;margin-right: 0.25em;color: #696969;}#sk-container-id-31 label.sk-toggleable__label-arrow:hover:before {color: black;}#sk-container-id-31 div.sk-estimator:hover label.sk-toggleable__label-arrow:before {color: black;}#sk-container-id-31 div.sk-toggleable__content {max-height: 0;max-width: 0;overflow: hidden;text-align: left;background-color: #f0f8ff;}#sk-container-id-31 div.sk-toggleable__content pre {margin: 0.2em;color: black;border-radius: 0.25em;background-color: #f0f8ff;}#sk-container-id-31 input.sk-toggleable__control:checked~div.sk-toggleable__content {max-height: 200px;max-width: 100%;overflow: auto;}#sk-container-id-31 input.sk-toggleable__control:checked~label.sk-toggleable__label-arrow:before {content: \"▾\";}#sk-container-id-31 div.sk-estimator input.sk-toggleable__control:checked~label.sk-toggleable__label {background-color: #d4ebff;}#sk-container-id-31 div.sk-label input.sk-toggleable__control:checked~label.sk-toggleable__label {background-color: #d4ebff;}#sk-container-id-31 input.sk-hidden--visually {border: 0;clip: rect(1px 1px 1px 1px);clip: rect(1px, 1px, 1px, 1px);height: 1px;margin: -1px;overflow: hidden;padding: 0;position: absolute;width: 1px;}#sk-container-id-31 div.sk-estimator {font-family: monospace;background-color: #f0f8ff;border: 1px dotted black;border-radius: 0.25em;box-sizing: border-box;margin-bottom: 0.5em;}#sk-container-id-31 div.sk-estimator:hover {background-color: #d4ebff;}#sk-container-id-31 div.sk-parallel-item::after {content: \"\";width: 100%;border-bottom: 1px solid gray;flex-grow: 1;}#sk-container-id-31 div.sk-label:hover label.sk-toggleable__label {background-color: #d4ebff;}#sk-container-id-31 div.sk-serial::before {content: \"\";position: absolute;border-left: 1px solid gray;box-sizing: border-box;top: 0;bottom: 0;left: 50%;z-index: 0;}#sk-container-id-31 div.sk-serial {display: flex;flex-direction: column;align-items: center;background-color: white;padding-right: 0.2em;padding-left: 0.2em;position: relative;}#sk-container-id-31 div.sk-item {position: relative;z-index: 1;}#sk-container-id-31 div.sk-parallel {display: flex;align-items: stretch;justify-content: center;background-color: white;position: relative;}#sk-container-id-31 div.sk-item::before, #sk-container-id-31 div.sk-parallel-item::before {content: \"\";position: absolute;border-left: 1px solid gray;box-sizing: border-box;top: 0;bottom: 0;left: 50%;z-index: -1;}#sk-container-id-31 div.sk-parallel-item {display: flex;flex-direction: column;z-index: 1;position: relative;background-color: white;}#sk-container-id-31 div.sk-parallel-item:first-child::after {align-self: flex-end;width: 50%;}#sk-container-id-31 div.sk-parallel-item:last-child::after {align-self: flex-start;width: 50%;}#sk-container-id-31 div.sk-parallel-item:only-child::after {width: 0;}#sk-container-id-31 div.sk-dashed-wrapped {border: 1px dashed gray;margin: 0 0.4em 0.5em 0.4em;box-sizing: border-box;padding-bottom: 0.4em;background-color: white;}#sk-container-id-31 div.sk-label label {font-family: monospace;font-weight: bold;display: inline-block;line-height: 1.2em;}#sk-container-id-31 div.sk-label-container {text-align: center;}#sk-container-id-31 div.sk-container {/* jupyter's `normalize.less` sets `[hidden] { display: none; }` but bootstrap.min.css set `[hidden] { display: none !important; }` so we also need the `!important` here to be able to override the default hidden behavior on the sphinx rendered scikit-learn.org. See: https://github.com/scikit-learn/scikit-learn/issues/21755 */display: inline-block !important;position: relative;}#sk-container-id-31 div.sk-text-repr-fallback {display: none;}</style><div id=\"sk-container-id-31\" class=\"sk-top-container\"><div class=\"sk-text-repr-fallback\"><pre>Pipeline(steps=[(&#x27;numimputer&#x27;,\n",
       "                 IterativeImputer(initial_strategy=&#x27;median&#x27;, random_state=42))])</pre><b>In a Jupyter environment, please rerun this cell to show the HTML representation or trust the notebook. <br />On GitHub, the HTML representation is unable to render, please try loading this page with nbviewer.org.</b></div><div class=\"sk-container\" hidden><div class=\"sk-item sk-dashed-wrapped\"><div class=\"sk-label-container\"><div class=\"sk-label sk-toggleable\"><input class=\"sk-toggleable__control sk-hidden--visually\" id=\"sk-estimator-id-208\" type=\"checkbox\" ><label for=\"sk-estimator-id-208\" class=\"sk-toggleable__label sk-toggleable__label-arrow\">Pipeline</label><div class=\"sk-toggleable__content\"><pre>Pipeline(steps=[(&#x27;numimputer&#x27;,\n",
       "                 IterativeImputer(initial_strategy=&#x27;median&#x27;, random_state=42))])</pre></div></div></div><div class=\"sk-serial\"><div class=\"sk-item\"><div class=\"sk-estimator sk-toggleable\"><input class=\"sk-toggleable__control sk-hidden--visually\" id=\"sk-estimator-id-209\" type=\"checkbox\" ><label for=\"sk-estimator-id-209\" class=\"sk-toggleable__label sk-toggleable__label-arrow\">IterativeImputer</label><div class=\"sk-toggleable__content\"><pre>IterativeImputer(initial_strategy=&#x27;median&#x27;, random_state=42)</pre></div></div></div></div></div></div></div>"
      ],
      "text/plain": [
       "Pipeline(steps=[('numimputer',\n",
       "                 IterativeImputer(initial_strategy='median', random_state=42))])"
      ]
     },
     "execution_count": 104,
     "metadata": {},
     "output_type": "execute_result"
    }
   ],
   "source": [
    "game_habits_pipeline"
   ]
  },
  {
   "cell_type": "markdown",
   "metadata": {},
   "source": [
    "## Building a Baseline Model "
   ]
  },
  {
   "cell_type": "markdown",
   "metadata": {},
   "source": [
    "Before we ..."
   ]
  },
  {
   "cell_type": "code",
   "execution_count": 105,
   "metadata": {},
   "outputs": [],
   "source": [
    "# splitting our dataset to predictor and target variables\n",
    "X = gamers_df.drop(columns = ['anxiety','GAD_T'])\n",
    "y = gamers_df['anxiety']"
   ]
  },
  {
   "cell_type": "code",
   "execution_count": 106,
   "metadata": {},
   "outputs": [
    {
     "data": {
      "text/plain": [
       "minimal anxiety     0.555067\n",
       "mild anxiety        0.271355\n",
       "moderate anxiety    0.119506\n",
       "severe anxiety      0.054072\n",
       "Name: anxiety, dtype: float64"
      ]
     },
     "execution_count": 106,
     "metadata": {},
     "output_type": "execute_result"
    }
   ],
   "source": [
    "# viewing the distribution of class values \n",
    "y.value_counts(normalize=True)"
   ]
  },
  {
   "cell_type": "code",
   "execution_count": 107,
   "metadata": {},
   "outputs": [],
   "source": [
    "# label encoding our target variable \n",
    "lab_enc = LabelEncoder()\n",
    "y = lab_enc.fit_transform(y)"
   ]
  },
  {
   "cell_type": "code",
   "execution_count": 108,
   "metadata": {},
   "outputs": [],
   "source": [
    "target_labels = ['minimal anxiety','mild anxiety','moderate anxiety','severe anxiety']"
   ]
  },
  {
   "cell_type": "code",
   "execution_count": 109,
   "metadata": {},
   "outputs": [],
   "source": [
    "# train-test splitting our data before imputation \n",
    "X_train, X_test, y_train, y_test = train_test_split(X, y, test_size = 0.25,random_state=42)"
   ]
  },
  {
   "cell_type": "code",
   "execution_count": 110,
   "metadata": {},
   "outputs": [
    {
     "data": {
      "text/plain": [
       "GAD1            0\n",
       "GAD2            0\n",
       "GAD3            0\n",
       "GAD4            0\n",
       "GAD5            0\n",
       "GAD6            0\n",
       "GAD7            0\n",
       "GADE          446\n",
       "Game            0\n",
       "Platform        0\n",
       "Hours          19\n",
       "earnings        0\n",
       "whyplay         0\n",
       "streams        67\n",
       "Gender          0\n",
       "Age             0\n",
       "Work           28\n",
       "Degree          0\n",
       "Birthplace      0\n",
       "Residence       0\n",
       "Playstyle       0\n",
       "dtype: int64"
      ]
     },
     "execution_count": 110,
     "metadata": {},
     "output_type": "execute_result"
    }
   ],
   "source": [
    "# looking at the NaNs in training set \n",
    "X_train.isna().sum()"
   ]
  },
  {
   "cell_type": "code",
   "execution_count": 111,
   "metadata": {},
   "outputs": [
    {
     "data": {
      "text/html": [
       "<style>#sk-container-id-32 {color: black;background-color: white;}#sk-container-id-32 pre{padding: 0;}#sk-container-id-32 div.sk-toggleable {background-color: white;}#sk-container-id-32 label.sk-toggleable__label {cursor: pointer;display: block;width: 100%;margin-bottom: 0;padding: 0.3em;box-sizing: border-box;text-align: center;}#sk-container-id-32 label.sk-toggleable__label-arrow:before {content: \"▸\";float: left;margin-right: 0.25em;color: #696969;}#sk-container-id-32 label.sk-toggleable__label-arrow:hover:before {color: black;}#sk-container-id-32 div.sk-estimator:hover label.sk-toggleable__label-arrow:before {color: black;}#sk-container-id-32 div.sk-toggleable__content {max-height: 0;max-width: 0;overflow: hidden;text-align: left;background-color: #f0f8ff;}#sk-container-id-32 div.sk-toggleable__content pre {margin: 0.2em;color: black;border-radius: 0.25em;background-color: #f0f8ff;}#sk-container-id-32 input.sk-toggleable__control:checked~div.sk-toggleable__content {max-height: 200px;max-width: 100%;overflow: auto;}#sk-container-id-32 input.sk-toggleable__control:checked~label.sk-toggleable__label-arrow:before {content: \"▾\";}#sk-container-id-32 div.sk-estimator input.sk-toggleable__control:checked~label.sk-toggleable__label {background-color: #d4ebff;}#sk-container-id-32 div.sk-label input.sk-toggleable__control:checked~label.sk-toggleable__label {background-color: #d4ebff;}#sk-container-id-32 input.sk-hidden--visually {border: 0;clip: rect(1px 1px 1px 1px);clip: rect(1px, 1px, 1px, 1px);height: 1px;margin: -1px;overflow: hidden;padding: 0;position: absolute;width: 1px;}#sk-container-id-32 div.sk-estimator {font-family: monospace;background-color: #f0f8ff;border: 1px dotted black;border-radius: 0.25em;box-sizing: border-box;margin-bottom: 0.5em;}#sk-container-id-32 div.sk-estimator:hover {background-color: #d4ebff;}#sk-container-id-32 div.sk-parallel-item::after {content: \"\";width: 100%;border-bottom: 1px solid gray;flex-grow: 1;}#sk-container-id-32 div.sk-label:hover label.sk-toggleable__label {background-color: #d4ebff;}#sk-container-id-32 div.sk-serial::before {content: \"\";position: absolute;border-left: 1px solid gray;box-sizing: border-box;top: 0;bottom: 0;left: 50%;z-index: 0;}#sk-container-id-32 div.sk-serial {display: flex;flex-direction: column;align-items: center;background-color: white;padding-right: 0.2em;padding-left: 0.2em;position: relative;}#sk-container-id-32 div.sk-item {position: relative;z-index: 1;}#sk-container-id-32 div.sk-parallel {display: flex;align-items: stretch;justify-content: center;background-color: white;position: relative;}#sk-container-id-32 div.sk-item::before, #sk-container-id-32 div.sk-parallel-item::before {content: \"\";position: absolute;border-left: 1px solid gray;box-sizing: border-box;top: 0;bottom: 0;left: 50%;z-index: -1;}#sk-container-id-32 div.sk-parallel-item {display: flex;flex-direction: column;z-index: 1;position: relative;background-color: white;}#sk-container-id-32 div.sk-parallel-item:first-child::after {align-self: flex-end;width: 50%;}#sk-container-id-32 div.sk-parallel-item:last-child::after {align-self: flex-start;width: 50%;}#sk-container-id-32 div.sk-parallel-item:only-child::after {width: 0;}#sk-container-id-32 div.sk-dashed-wrapped {border: 1px dashed gray;margin: 0 0.4em 0.5em 0.4em;box-sizing: border-box;padding-bottom: 0.4em;background-color: white;}#sk-container-id-32 div.sk-label label {font-family: monospace;font-weight: bold;display: inline-block;line-height: 1.2em;}#sk-container-id-32 div.sk-label-container {text-align: center;}#sk-container-id-32 div.sk-container {/* jupyter's `normalize.less` sets `[hidden] { display: none; }` but bootstrap.min.css set `[hidden] { display: none !important; }` so we also need the `!important` here to be able to override the default hidden behavior on the sphinx rendered scikit-learn.org. See: https://github.com/scikit-learn/scikit-learn/issues/21755 */display: inline-block !important;position: relative;}#sk-container-id-32 div.sk-text-repr-fallback {display: none;}</style><div id=\"sk-container-id-32\" class=\"sk-top-container\"><div class=\"sk-text-repr-fallback\"><pre>ColumnTransformer(transformers=[(&#x27;obj_imputer&#x27;,\n",
       "                                 Pipeline(steps=[(&#x27;obj_imputer&#x27;,\n",
       "                                                  SimpleImputer(fill_value=&#x27;Did &#x27;\n",
       "                                                                           &#x27;not &#x27;\n",
       "                                                                           &#x27;answer&#x27;,\n",
       "                                                                strategy=&#x27;constant&#x27;))]),\n",
       "                                 [&#x27;GADE&#x27;, &#x27;Work&#x27;]),\n",
       "                                (&#x27;numimputer&#x27;,\n",
       "                                 Pipeline(steps=[(&#x27;numimputer&#x27;,\n",
       "                                                  IterativeImputer(initial_strategy=&#x27;median&#x27;,\n",
       "                                                                   random_state=42))]),\n",
       "                                 [&#x27;Hours&#x27;, &#x27;streams&#x27;])])</pre><b>In a Jupyter environment, please rerun this cell to show the HTML representation or trust the notebook. <br />On GitHub, the HTML representation is unable to render, please try loading this page with nbviewer.org.</b></div><div class=\"sk-container\" hidden><div class=\"sk-item sk-dashed-wrapped\"><div class=\"sk-label-container\"><div class=\"sk-label sk-toggleable\"><input class=\"sk-toggleable__control sk-hidden--visually\" id=\"sk-estimator-id-210\" type=\"checkbox\" ><label for=\"sk-estimator-id-210\" class=\"sk-toggleable__label sk-toggleable__label-arrow\">ColumnTransformer</label><div class=\"sk-toggleable__content\"><pre>ColumnTransformer(transformers=[(&#x27;obj_imputer&#x27;,\n",
       "                                 Pipeline(steps=[(&#x27;obj_imputer&#x27;,\n",
       "                                                  SimpleImputer(fill_value=&#x27;Did &#x27;\n",
       "                                                                           &#x27;not &#x27;\n",
       "                                                                           &#x27;answer&#x27;,\n",
       "                                                                strategy=&#x27;constant&#x27;))]),\n",
       "                                 [&#x27;GADE&#x27;, &#x27;Work&#x27;]),\n",
       "                                (&#x27;numimputer&#x27;,\n",
       "                                 Pipeline(steps=[(&#x27;numimputer&#x27;,\n",
       "                                                  IterativeImputer(initial_strategy=&#x27;median&#x27;,\n",
       "                                                                   random_state=42))]),\n",
       "                                 [&#x27;Hours&#x27;, &#x27;streams&#x27;])])</pre></div></div></div><div class=\"sk-parallel\"><div class=\"sk-parallel-item\"><div class=\"sk-item\"><div class=\"sk-label-container\"><div class=\"sk-label sk-toggleable\"><input class=\"sk-toggleable__control sk-hidden--visually\" id=\"sk-estimator-id-211\" type=\"checkbox\" ><label for=\"sk-estimator-id-211\" class=\"sk-toggleable__label sk-toggleable__label-arrow\">obj_imputer</label><div class=\"sk-toggleable__content\"><pre>[&#x27;GADE&#x27;, &#x27;Work&#x27;]</pre></div></div></div><div class=\"sk-serial\"><div class=\"sk-item\"><div class=\"sk-serial\"><div class=\"sk-item\"><div class=\"sk-estimator sk-toggleable\"><input class=\"sk-toggleable__control sk-hidden--visually\" id=\"sk-estimator-id-212\" type=\"checkbox\" ><label for=\"sk-estimator-id-212\" class=\"sk-toggleable__label sk-toggleable__label-arrow\">SimpleImputer</label><div class=\"sk-toggleable__content\"><pre>SimpleImputer(fill_value=&#x27;Did not answer&#x27;, strategy=&#x27;constant&#x27;)</pre></div></div></div></div></div></div></div></div><div class=\"sk-parallel-item\"><div class=\"sk-item\"><div class=\"sk-label-container\"><div class=\"sk-label sk-toggleable\"><input class=\"sk-toggleable__control sk-hidden--visually\" id=\"sk-estimator-id-213\" type=\"checkbox\" ><label for=\"sk-estimator-id-213\" class=\"sk-toggleable__label sk-toggleable__label-arrow\">numimputer</label><div class=\"sk-toggleable__content\"><pre>[&#x27;Hours&#x27;, &#x27;streams&#x27;]</pre></div></div></div><div class=\"sk-serial\"><div class=\"sk-item\"><div class=\"sk-serial\"><div class=\"sk-item\"><div class=\"sk-estimator sk-toggleable\"><input class=\"sk-toggleable__control sk-hidden--visually\" id=\"sk-estimator-id-214\" type=\"checkbox\" ><label for=\"sk-estimator-id-214\" class=\"sk-toggleable__label sk-toggleable__label-arrow\">IterativeImputer</label><div class=\"sk-toggleable__content\"><pre>IterativeImputer(initial_strategy=&#x27;median&#x27;, random_state=42)</pre></div></div></div></div></div></div></div></div></div></div></div></div>"
      ],
      "text/plain": [
       "ColumnTransformer(transformers=[('obj_imputer',\n",
       "                                 Pipeline(steps=[('obj_imputer',\n",
       "                                                  SimpleImputer(fill_value='Did '\n",
       "                                                                           'not '\n",
       "                                                                           'answer',\n",
       "                                                                strategy='constant'))]),\n",
       "                                 ['GADE', 'Work']),\n",
       "                                ('numimputer',\n",
       "                                 Pipeline(steps=[('numimputer',\n",
       "                                                  IterativeImputer(initial_strategy='median',\n",
       "                                                                   random_state=42))]),\n",
       "                                 ['Hours', 'streams'])])"
      ]
     },
     "execution_count": 111,
     "metadata": {},
     "output_type": "execute_result"
    }
   ],
   "source": [
    "# writing a ColumnTransformer object with our imputation pipelines \n",
    "preprocess_ct = ColumnTransformer(\n",
    "    [(\"obj_imputer\", survey_pipeline, ['GADE','Work']), \n",
    "     (\"numimputer\", game_habits_pipeline, ['Hours','streams'])])\n",
    "preprocess_ct"
   ]
  },
  {
   "cell_type": "code",
   "execution_count": 112,
   "metadata": {},
   "outputs": [
    {
     "data": {
      "text/html": [
       "<style>#sk-container-id-33 {color: black;background-color: white;}#sk-container-id-33 pre{padding: 0;}#sk-container-id-33 div.sk-toggleable {background-color: white;}#sk-container-id-33 label.sk-toggleable__label {cursor: pointer;display: block;width: 100%;margin-bottom: 0;padding: 0.3em;box-sizing: border-box;text-align: center;}#sk-container-id-33 label.sk-toggleable__label-arrow:before {content: \"▸\";float: left;margin-right: 0.25em;color: #696969;}#sk-container-id-33 label.sk-toggleable__label-arrow:hover:before {color: black;}#sk-container-id-33 div.sk-estimator:hover label.sk-toggleable__label-arrow:before {color: black;}#sk-container-id-33 div.sk-toggleable__content {max-height: 0;max-width: 0;overflow: hidden;text-align: left;background-color: #f0f8ff;}#sk-container-id-33 div.sk-toggleable__content pre {margin: 0.2em;color: black;border-radius: 0.25em;background-color: #f0f8ff;}#sk-container-id-33 input.sk-toggleable__control:checked~div.sk-toggleable__content {max-height: 200px;max-width: 100%;overflow: auto;}#sk-container-id-33 input.sk-toggleable__control:checked~label.sk-toggleable__label-arrow:before {content: \"▾\";}#sk-container-id-33 div.sk-estimator input.sk-toggleable__control:checked~label.sk-toggleable__label {background-color: #d4ebff;}#sk-container-id-33 div.sk-label input.sk-toggleable__control:checked~label.sk-toggleable__label {background-color: #d4ebff;}#sk-container-id-33 input.sk-hidden--visually {border: 0;clip: rect(1px 1px 1px 1px);clip: rect(1px, 1px, 1px, 1px);height: 1px;margin: -1px;overflow: hidden;padding: 0;position: absolute;width: 1px;}#sk-container-id-33 div.sk-estimator {font-family: monospace;background-color: #f0f8ff;border: 1px dotted black;border-radius: 0.25em;box-sizing: border-box;margin-bottom: 0.5em;}#sk-container-id-33 div.sk-estimator:hover {background-color: #d4ebff;}#sk-container-id-33 div.sk-parallel-item::after {content: \"\";width: 100%;border-bottom: 1px solid gray;flex-grow: 1;}#sk-container-id-33 div.sk-label:hover label.sk-toggleable__label {background-color: #d4ebff;}#sk-container-id-33 div.sk-serial::before {content: \"\";position: absolute;border-left: 1px solid gray;box-sizing: border-box;top: 0;bottom: 0;left: 50%;z-index: 0;}#sk-container-id-33 div.sk-serial {display: flex;flex-direction: column;align-items: center;background-color: white;padding-right: 0.2em;padding-left: 0.2em;position: relative;}#sk-container-id-33 div.sk-item {position: relative;z-index: 1;}#sk-container-id-33 div.sk-parallel {display: flex;align-items: stretch;justify-content: center;background-color: white;position: relative;}#sk-container-id-33 div.sk-item::before, #sk-container-id-33 div.sk-parallel-item::before {content: \"\";position: absolute;border-left: 1px solid gray;box-sizing: border-box;top: 0;bottom: 0;left: 50%;z-index: -1;}#sk-container-id-33 div.sk-parallel-item {display: flex;flex-direction: column;z-index: 1;position: relative;background-color: white;}#sk-container-id-33 div.sk-parallel-item:first-child::after {align-self: flex-end;width: 50%;}#sk-container-id-33 div.sk-parallel-item:last-child::after {align-self: flex-start;width: 50%;}#sk-container-id-33 div.sk-parallel-item:only-child::after {width: 0;}#sk-container-id-33 div.sk-dashed-wrapped {border: 1px dashed gray;margin: 0 0.4em 0.5em 0.4em;box-sizing: border-box;padding-bottom: 0.4em;background-color: white;}#sk-container-id-33 div.sk-label label {font-family: monospace;font-weight: bold;display: inline-block;line-height: 1.2em;}#sk-container-id-33 div.sk-label-container {text-align: center;}#sk-container-id-33 div.sk-container {/* jupyter's `normalize.less` sets `[hidden] { display: none; }` but bootstrap.min.css set `[hidden] { display: none !important; }` so we also need the `!important` here to be able to override the default hidden behavior on the sphinx rendered scikit-learn.org. See: https://github.com/scikit-learn/scikit-learn/issues/21755 */display: inline-block !important;position: relative;}#sk-container-id-33 div.sk-text-repr-fallback {display: none;}</style><div id=\"sk-container-id-33\" class=\"sk-top-container\"><div class=\"sk-text-repr-fallback\"><pre>Pipeline(steps=[(&#x27;preprocess&#x27;,\n",
       "                 ColumnTransformer(transformers=[(&#x27;obj_imputer&#x27;,\n",
       "                                                  Pipeline(steps=[(&#x27;obj_imputer&#x27;,\n",
       "                                                                   SimpleImputer(fill_value=&#x27;Did &#x27;\n",
       "                                                                                            &#x27;not &#x27;\n",
       "                                                                                            &#x27;answer&#x27;,\n",
       "                                                                                 strategy=&#x27;constant&#x27;))]),\n",
       "                                                  [&#x27;GADE&#x27;, &#x27;Work&#x27;]),\n",
       "                                                 (&#x27;numimputer&#x27;,\n",
       "                                                  Pipeline(steps=[(&#x27;numimputer&#x27;,\n",
       "                                                                   IterativeImputer(initial_strategy=&#x27;median&#x27;,\n",
       "                                                                                    random_state=42))]),\n",
       "                                                  [&#x27;Hours&#x27;, &#x27;streams&#x27;])])),\n",
       "                (&#x27;model&#x27;,\n",
       "                 DummyClassifier(random_state=42, strategy=&#x27;stratified&#x27;))])</pre><b>In a Jupyter environment, please rerun this cell to show the HTML representation or trust the notebook. <br />On GitHub, the HTML representation is unable to render, please try loading this page with nbviewer.org.</b></div><div class=\"sk-container\" hidden><div class=\"sk-item sk-dashed-wrapped\"><div class=\"sk-label-container\"><div class=\"sk-label sk-toggleable\"><input class=\"sk-toggleable__control sk-hidden--visually\" id=\"sk-estimator-id-215\" type=\"checkbox\" ><label for=\"sk-estimator-id-215\" class=\"sk-toggleable__label sk-toggleable__label-arrow\">Pipeline</label><div class=\"sk-toggleable__content\"><pre>Pipeline(steps=[(&#x27;preprocess&#x27;,\n",
       "                 ColumnTransformer(transformers=[(&#x27;obj_imputer&#x27;,\n",
       "                                                  Pipeline(steps=[(&#x27;obj_imputer&#x27;,\n",
       "                                                                   SimpleImputer(fill_value=&#x27;Did &#x27;\n",
       "                                                                                            &#x27;not &#x27;\n",
       "                                                                                            &#x27;answer&#x27;,\n",
       "                                                                                 strategy=&#x27;constant&#x27;))]),\n",
       "                                                  [&#x27;GADE&#x27;, &#x27;Work&#x27;]),\n",
       "                                                 (&#x27;numimputer&#x27;,\n",
       "                                                  Pipeline(steps=[(&#x27;numimputer&#x27;,\n",
       "                                                                   IterativeImputer(initial_strategy=&#x27;median&#x27;,\n",
       "                                                                                    random_state=42))]),\n",
       "                                                  [&#x27;Hours&#x27;, &#x27;streams&#x27;])])),\n",
       "                (&#x27;model&#x27;,\n",
       "                 DummyClassifier(random_state=42, strategy=&#x27;stratified&#x27;))])</pre></div></div></div><div class=\"sk-serial\"><div class=\"sk-item sk-dashed-wrapped\"><div class=\"sk-label-container\"><div class=\"sk-label sk-toggleable\"><input class=\"sk-toggleable__control sk-hidden--visually\" id=\"sk-estimator-id-216\" type=\"checkbox\" ><label for=\"sk-estimator-id-216\" class=\"sk-toggleable__label sk-toggleable__label-arrow\">preprocess: ColumnTransformer</label><div class=\"sk-toggleable__content\"><pre>ColumnTransformer(transformers=[(&#x27;obj_imputer&#x27;,\n",
       "                                 Pipeline(steps=[(&#x27;obj_imputer&#x27;,\n",
       "                                                  SimpleImputer(fill_value=&#x27;Did &#x27;\n",
       "                                                                           &#x27;not &#x27;\n",
       "                                                                           &#x27;answer&#x27;,\n",
       "                                                                strategy=&#x27;constant&#x27;))]),\n",
       "                                 [&#x27;GADE&#x27;, &#x27;Work&#x27;]),\n",
       "                                (&#x27;numimputer&#x27;,\n",
       "                                 Pipeline(steps=[(&#x27;numimputer&#x27;,\n",
       "                                                  IterativeImputer(initial_strategy=&#x27;median&#x27;,\n",
       "                                                                   random_state=42))]),\n",
       "                                 [&#x27;Hours&#x27;, &#x27;streams&#x27;])])</pre></div></div></div><div class=\"sk-parallel\"><div class=\"sk-parallel-item\"><div class=\"sk-item\"><div class=\"sk-label-container\"><div class=\"sk-label sk-toggleable\"><input class=\"sk-toggleable__control sk-hidden--visually\" id=\"sk-estimator-id-217\" type=\"checkbox\" ><label for=\"sk-estimator-id-217\" class=\"sk-toggleable__label sk-toggleable__label-arrow\">obj_imputer</label><div class=\"sk-toggleable__content\"><pre>[&#x27;GADE&#x27;, &#x27;Work&#x27;]</pre></div></div></div><div class=\"sk-serial\"><div class=\"sk-item\"><div class=\"sk-serial\"><div class=\"sk-item\"><div class=\"sk-estimator sk-toggleable\"><input class=\"sk-toggleable__control sk-hidden--visually\" id=\"sk-estimator-id-218\" type=\"checkbox\" ><label for=\"sk-estimator-id-218\" class=\"sk-toggleable__label sk-toggleable__label-arrow\">SimpleImputer</label><div class=\"sk-toggleable__content\"><pre>SimpleImputer(fill_value=&#x27;Did not answer&#x27;, strategy=&#x27;constant&#x27;)</pre></div></div></div></div></div></div></div></div><div class=\"sk-parallel-item\"><div class=\"sk-item\"><div class=\"sk-label-container\"><div class=\"sk-label sk-toggleable\"><input class=\"sk-toggleable__control sk-hidden--visually\" id=\"sk-estimator-id-219\" type=\"checkbox\" ><label for=\"sk-estimator-id-219\" class=\"sk-toggleable__label sk-toggleable__label-arrow\">numimputer</label><div class=\"sk-toggleable__content\"><pre>[&#x27;Hours&#x27;, &#x27;streams&#x27;]</pre></div></div></div><div class=\"sk-serial\"><div class=\"sk-item\"><div class=\"sk-serial\"><div class=\"sk-item\"><div class=\"sk-estimator sk-toggleable\"><input class=\"sk-toggleable__control sk-hidden--visually\" id=\"sk-estimator-id-220\" type=\"checkbox\" ><label for=\"sk-estimator-id-220\" class=\"sk-toggleable__label sk-toggleable__label-arrow\">IterativeImputer</label><div class=\"sk-toggleable__content\"><pre>IterativeImputer(initial_strategy=&#x27;median&#x27;, random_state=42)</pre></div></div></div></div></div></div></div></div></div></div><div class=\"sk-item\"><div class=\"sk-estimator sk-toggleable\"><input class=\"sk-toggleable__control sk-hidden--visually\" id=\"sk-estimator-id-221\" type=\"checkbox\" ><label for=\"sk-estimator-id-221\" class=\"sk-toggleable__label sk-toggleable__label-arrow\">DummyClassifier</label><div class=\"sk-toggleable__content\"><pre>DummyClassifier(random_state=42, strategy=&#x27;stratified&#x27;)</pre></div></div></div></div></div></div></div>"
      ],
      "text/plain": [
       "Pipeline(steps=[('preprocess',\n",
       "                 ColumnTransformer(transformers=[('obj_imputer',\n",
       "                                                  Pipeline(steps=[('obj_imputer',\n",
       "                                                                   SimpleImputer(fill_value='Did '\n",
       "                                                                                            'not '\n",
       "                                                                                            'answer',\n",
       "                                                                                 strategy='constant'))]),\n",
       "                                                  ['GADE', 'Work']),\n",
       "                                                 ('numimputer',\n",
       "                                                  Pipeline(steps=[('numimputer',\n",
       "                                                                   IterativeImputer(initial_strategy='median',\n",
       "                                                                                    random_state=42))]),\n",
       "                                                  ['Hours', 'streams'])])),\n",
       "                ('model',\n",
       "                 DummyClassifier(random_state=42, strategy='stratified'))])"
      ]
     },
     "execution_count": 112,
     "metadata": {},
     "output_type": "execute_result"
    }
   ],
   "source": [
    "baseline_pipe = Pipeline([('preprocess', ct),\n",
    "                      ('model', DummyClassifier(strategy='stratified',random_state=42))])\n",
    "baseline_pipe"
   ]
  },
  {
   "cell_type": "code",
   "execution_count": 113,
   "metadata": {},
   "outputs": [
    {
     "data": {
      "text/html": [
       "<style>#sk-container-id-34 {color: black;background-color: white;}#sk-container-id-34 pre{padding: 0;}#sk-container-id-34 div.sk-toggleable {background-color: white;}#sk-container-id-34 label.sk-toggleable__label {cursor: pointer;display: block;width: 100%;margin-bottom: 0;padding: 0.3em;box-sizing: border-box;text-align: center;}#sk-container-id-34 label.sk-toggleable__label-arrow:before {content: \"▸\";float: left;margin-right: 0.25em;color: #696969;}#sk-container-id-34 label.sk-toggleable__label-arrow:hover:before {color: black;}#sk-container-id-34 div.sk-estimator:hover label.sk-toggleable__label-arrow:before {color: black;}#sk-container-id-34 div.sk-toggleable__content {max-height: 0;max-width: 0;overflow: hidden;text-align: left;background-color: #f0f8ff;}#sk-container-id-34 div.sk-toggleable__content pre {margin: 0.2em;color: black;border-radius: 0.25em;background-color: #f0f8ff;}#sk-container-id-34 input.sk-toggleable__control:checked~div.sk-toggleable__content {max-height: 200px;max-width: 100%;overflow: auto;}#sk-container-id-34 input.sk-toggleable__control:checked~label.sk-toggleable__label-arrow:before {content: \"▾\";}#sk-container-id-34 div.sk-estimator input.sk-toggleable__control:checked~label.sk-toggleable__label {background-color: #d4ebff;}#sk-container-id-34 div.sk-label input.sk-toggleable__control:checked~label.sk-toggleable__label {background-color: #d4ebff;}#sk-container-id-34 input.sk-hidden--visually {border: 0;clip: rect(1px 1px 1px 1px);clip: rect(1px, 1px, 1px, 1px);height: 1px;margin: -1px;overflow: hidden;padding: 0;position: absolute;width: 1px;}#sk-container-id-34 div.sk-estimator {font-family: monospace;background-color: #f0f8ff;border: 1px dotted black;border-radius: 0.25em;box-sizing: border-box;margin-bottom: 0.5em;}#sk-container-id-34 div.sk-estimator:hover {background-color: #d4ebff;}#sk-container-id-34 div.sk-parallel-item::after {content: \"\";width: 100%;border-bottom: 1px solid gray;flex-grow: 1;}#sk-container-id-34 div.sk-label:hover label.sk-toggleable__label {background-color: #d4ebff;}#sk-container-id-34 div.sk-serial::before {content: \"\";position: absolute;border-left: 1px solid gray;box-sizing: border-box;top: 0;bottom: 0;left: 50%;z-index: 0;}#sk-container-id-34 div.sk-serial {display: flex;flex-direction: column;align-items: center;background-color: white;padding-right: 0.2em;padding-left: 0.2em;position: relative;}#sk-container-id-34 div.sk-item {position: relative;z-index: 1;}#sk-container-id-34 div.sk-parallel {display: flex;align-items: stretch;justify-content: center;background-color: white;position: relative;}#sk-container-id-34 div.sk-item::before, #sk-container-id-34 div.sk-parallel-item::before {content: \"\";position: absolute;border-left: 1px solid gray;box-sizing: border-box;top: 0;bottom: 0;left: 50%;z-index: -1;}#sk-container-id-34 div.sk-parallel-item {display: flex;flex-direction: column;z-index: 1;position: relative;background-color: white;}#sk-container-id-34 div.sk-parallel-item:first-child::after {align-self: flex-end;width: 50%;}#sk-container-id-34 div.sk-parallel-item:last-child::after {align-self: flex-start;width: 50%;}#sk-container-id-34 div.sk-parallel-item:only-child::after {width: 0;}#sk-container-id-34 div.sk-dashed-wrapped {border: 1px dashed gray;margin: 0 0.4em 0.5em 0.4em;box-sizing: border-box;padding-bottom: 0.4em;background-color: white;}#sk-container-id-34 div.sk-label label {font-family: monospace;font-weight: bold;display: inline-block;line-height: 1.2em;}#sk-container-id-34 div.sk-label-container {text-align: center;}#sk-container-id-34 div.sk-container {/* jupyter's `normalize.less` sets `[hidden] { display: none; }` but bootstrap.min.css set `[hidden] { display: none !important; }` so we also need the `!important` here to be able to override the default hidden behavior on the sphinx rendered scikit-learn.org. See: https://github.com/scikit-learn/scikit-learn/issues/21755 */display: inline-block !important;position: relative;}#sk-container-id-34 div.sk-text-repr-fallback {display: none;}</style><div id=\"sk-container-id-34\" class=\"sk-top-container\"><div class=\"sk-text-repr-fallback\"><pre>Pipeline(steps=[(&#x27;preprocess&#x27;,\n",
       "                 ColumnTransformer(transformers=[(&#x27;obj_imputer&#x27;,\n",
       "                                                  Pipeline(steps=[(&#x27;obj_imputer&#x27;,\n",
       "                                                                   SimpleImputer(fill_value=&#x27;Did &#x27;\n",
       "                                                                                            &#x27;not &#x27;\n",
       "                                                                                            &#x27;answer&#x27;,\n",
       "                                                                                 strategy=&#x27;constant&#x27;))]),\n",
       "                                                  [&#x27;GADE&#x27;, &#x27;Work&#x27;]),\n",
       "                                                 (&#x27;numimputer&#x27;,\n",
       "                                                  Pipeline(steps=[(&#x27;numimputer&#x27;,\n",
       "                                                                   IterativeImputer(initial_strategy=&#x27;median&#x27;,\n",
       "                                                                                    random_state=42))]),\n",
       "                                                  [&#x27;Hours&#x27;, &#x27;streams&#x27;])])),\n",
       "                (&#x27;model&#x27;,\n",
       "                 DummyClassifier(random_state=42, strategy=&#x27;stratified&#x27;))])</pre><b>In a Jupyter environment, please rerun this cell to show the HTML representation or trust the notebook. <br />On GitHub, the HTML representation is unable to render, please try loading this page with nbviewer.org.</b></div><div class=\"sk-container\" hidden><div class=\"sk-item sk-dashed-wrapped\"><div class=\"sk-label-container\"><div class=\"sk-label sk-toggleable\"><input class=\"sk-toggleable__control sk-hidden--visually\" id=\"sk-estimator-id-222\" type=\"checkbox\" ><label for=\"sk-estimator-id-222\" class=\"sk-toggleable__label sk-toggleable__label-arrow\">Pipeline</label><div class=\"sk-toggleable__content\"><pre>Pipeline(steps=[(&#x27;preprocess&#x27;,\n",
       "                 ColumnTransformer(transformers=[(&#x27;obj_imputer&#x27;,\n",
       "                                                  Pipeline(steps=[(&#x27;obj_imputer&#x27;,\n",
       "                                                                   SimpleImputer(fill_value=&#x27;Did &#x27;\n",
       "                                                                                            &#x27;not &#x27;\n",
       "                                                                                            &#x27;answer&#x27;,\n",
       "                                                                                 strategy=&#x27;constant&#x27;))]),\n",
       "                                                  [&#x27;GADE&#x27;, &#x27;Work&#x27;]),\n",
       "                                                 (&#x27;numimputer&#x27;,\n",
       "                                                  Pipeline(steps=[(&#x27;numimputer&#x27;,\n",
       "                                                                   IterativeImputer(initial_strategy=&#x27;median&#x27;,\n",
       "                                                                                    random_state=42))]),\n",
       "                                                  [&#x27;Hours&#x27;, &#x27;streams&#x27;])])),\n",
       "                (&#x27;model&#x27;,\n",
       "                 DummyClassifier(random_state=42, strategy=&#x27;stratified&#x27;))])</pre></div></div></div><div class=\"sk-serial\"><div class=\"sk-item sk-dashed-wrapped\"><div class=\"sk-label-container\"><div class=\"sk-label sk-toggleable\"><input class=\"sk-toggleable__control sk-hidden--visually\" id=\"sk-estimator-id-223\" type=\"checkbox\" ><label for=\"sk-estimator-id-223\" class=\"sk-toggleable__label sk-toggleable__label-arrow\">preprocess: ColumnTransformer</label><div class=\"sk-toggleable__content\"><pre>ColumnTransformer(transformers=[(&#x27;obj_imputer&#x27;,\n",
       "                                 Pipeline(steps=[(&#x27;obj_imputer&#x27;,\n",
       "                                                  SimpleImputer(fill_value=&#x27;Did &#x27;\n",
       "                                                                           &#x27;not &#x27;\n",
       "                                                                           &#x27;answer&#x27;,\n",
       "                                                                strategy=&#x27;constant&#x27;))]),\n",
       "                                 [&#x27;GADE&#x27;, &#x27;Work&#x27;]),\n",
       "                                (&#x27;numimputer&#x27;,\n",
       "                                 Pipeline(steps=[(&#x27;numimputer&#x27;,\n",
       "                                                  IterativeImputer(initial_strategy=&#x27;median&#x27;,\n",
       "                                                                   random_state=42))]),\n",
       "                                 [&#x27;Hours&#x27;, &#x27;streams&#x27;])])</pre></div></div></div><div class=\"sk-parallel\"><div class=\"sk-parallel-item\"><div class=\"sk-item\"><div class=\"sk-label-container\"><div class=\"sk-label sk-toggleable\"><input class=\"sk-toggleable__control sk-hidden--visually\" id=\"sk-estimator-id-224\" type=\"checkbox\" ><label for=\"sk-estimator-id-224\" class=\"sk-toggleable__label sk-toggleable__label-arrow\">obj_imputer</label><div class=\"sk-toggleable__content\"><pre>[&#x27;GADE&#x27;, &#x27;Work&#x27;]</pre></div></div></div><div class=\"sk-serial\"><div class=\"sk-item\"><div class=\"sk-serial\"><div class=\"sk-item\"><div class=\"sk-estimator sk-toggleable\"><input class=\"sk-toggleable__control sk-hidden--visually\" id=\"sk-estimator-id-225\" type=\"checkbox\" ><label for=\"sk-estimator-id-225\" class=\"sk-toggleable__label sk-toggleable__label-arrow\">SimpleImputer</label><div class=\"sk-toggleable__content\"><pre>SimpleImputer(fill_value=&#x27;Did not answer&#x27;, strategy=&#x27;constant&#x27;)</pre></div></div></div></div></div></div></div></div><div class=\"sk-parallel-item\"><div class=\"sk-item\"><div class=\"sk-label-container\"><div class=\"sk-label sk-toggleable\"><input class=\"sk-toggleable__control sk-hidden--visually\" id=\"sk-estimator-id-226\" type=\"checkbox\" ><label for=\"sk-estimator-id-226\" class=\"sk-toggleable__label sk-toggleable__label-arrow\">numimputer</label><div class=\"sk-toggleable__content\"><pre>[&#x27;Hours&#x27;, &#x27;streams&#x27;]</pre></div></div></div><div class=\"sk-serial\"><div class=\"sk-item\"><div class=\"sk-serial\"><div class=\"sk-item\"><div class=\"sk-estimator sk-toggleable\"><input class=\"sk-toggleable__control sk-hidden--visually\" id=\"sk-estimator-id-227\" type=\"checkbox\" ><label for=\"sk-estimator-id-227\" class=\"sk-toggleable__label sk-toggleable__label-arrow\">IterativeImputer</label><div class=\"sk-toggleable__content\"><pre>IterativeImputer(initial_strategy=&#x27;median&#x27;, random_state=42)</pre></div></div></div></div></div></div></div></div></div></div><div class=\"sk-item\"><div class=\"sk-estimator sk-toggleable\"><input class=\"sk-toggleable__control sk-hidden--visually\" id=\"sk-estimator-id-228\" type=\"checkbox\" ><label for=\"sk-estimator-id-228\" class=\"sk-toggleable__label sk-toggleable__label-arrow\">DummyClassifier</label><div class=\"sk-toggleable__content\"><pre>DummyClassifier(random_state=42, strategy=&#x27;stratified&#x27;)</pre></div></div></div></div></div></div></div>"
      ],
      "text/plain": [
       "Pipeline(steps=[('preprocess',\n",
       "                 ColumnTransformer(transformers=[('obj_imputer',\n",
       "                                                  Pipeline(steps=[('obj_imputer',\n",
       "                                                                   SimpleImputer(fill_value='Did '\n",
       "                                                                                            'not '\n",
       "                                                                                            'answer',\n",
       "                                                                                 strategy='constant'))]),\n",
       "                                                  ['GADE', 'Work']),\n",
       "                                                 ('numimputer',\n",
       "                                                  Pipeline(steps=[('numimputer',\n",
       "                                                                   IterativeImputer(initial_strategy='median',\n",
       "                                                                                    random_state=42))]),\n",
       "                                                  ['Hours', 'streams'])])),\n",
       "                ('model',\n",
       "                 DummyClassifier(random_state=42, strategy='stratified'))])"
      ]
     },
     "execution_count": 113,
     "metadata": {},
     "output_type": "execute_result"
    }
   ],
   "source": [
    "baseline_pipe.fit(X_train,y_train)"
   ]
  },
  {
   "cell_type": "code",
   "execution_count": 122,
   "metadata": {},
   "outputs": [],
   "source": [
    "base_y_pred = baseline_pipe.predict(X_test)"
   ]
  },
  {
   "cell_type": "code",
   "execution_count": 123,
   "metadata": {},
   "outputs": [
    {
     "data": {
      "text/plain": [
       "<sklearn.metrics._plot.confusion_matrix.ConfusionMatrixDisplay at 0x204ab2b8340>"
      ]
     },
     "execution_count": 123,
     "metadata": {},
     "output_type": "execute_result"
    },
    {
     "data": {
      "image/png": "[encoded data removed]",
      "text/plain": [
       "<Figure size 640x480 with 2 Axes>"
      ]
     },
     "metadata": {},
     "output_type": "display_data"
    }
   ],
   "source": [
    "# confusion matrix for baseline DummyClassifier model \n",
    "ConfusionMatrixDisplay.from_predictions(y_test,y_pred, normalize='all')"
   ]
  },
  {
   "cell_type": "code",
   "execution_count": 124,
   "metadata": {},
   "outputs": [
    {
     "name": "stdout",
     "output_type": "stream",
     "text": [
      "                  precision    recall  f1-score   support\n",
      "\n",
      " minimal anxiety       0.27      0.27      0.27       817\n",
      "    mild anxiety       0.55      0.56      0.56      1683\n",
      "moderate anxiety       0.11      0.10      0.11       373\n",
      "  severe anxiety       0.04      0.04      0.04       142\n",
      "\n",
      "        accuracy                           0.40      3015\n",
      "       macro avg       0.24      0.24      0.24      3015\n",
      "    weighted avg       0.40      0.40      0.40      3015\n",
      "\n"
     ]
    }
   ],
   "source": [
    "print(classification_report(y_test,y_pred,target_names=target_labels))"
   ]
  },
  {
   "cell_type": "markdown",
   "metadata": {},
   "source": [
    "### Baseline Model Conclusions "
   ]
  },
  {
   "cell_type": "markdown",
   "metadata": {},
   "source": [
    "**Conclusion**:"
   ]
  },
  {
   "cell_type": "markdown",
   "metadata": {},
   "source": [
    "## Model I | Logistic Regression"
   ]
  },
  {
   "cell_type": "code",
   "execution_count": 117,
   "metadata": {},
   "outputs": [],
   "source": [
    "ohe_cols = ['GADE','Game','Platform','earnings','whyplay','Gender','Work','Degree','Birthplace','Residence','Playstyle']"
   ]
  },
  {
   "cell_type": "code",
   "execution_count": 118,
   "metadata": {},
   "outputs": [],
   "source": [
    "# feature selection \n",
    "non_predict_cols = ['anxiety','GAD_T']\n",
    "X_1 = gamers_df.drop(columns=non_predict_cols)\n",
    "y_1 = gamers_df['anxiety']"
   ]
  },
  {
   "cell_type": "code",
   "execution_count": 119,
   "metadata": {},
   "outputs": [],
   "source": [
    "# label encoding our target variable \n",
    "y_1 = lab_enc.fit_transform(y_1)"
   ]
  },
  {
   "cell_type": "code",
   "execution_count": 120,
   "metadata": {},
   "outputs": [],
   "source": [
    "X1_train, X1_test, y1_train, y1_test = train_test_split(X_1, y_1, test_size = 0.25,random_state=42)"
   ]
  },
  {
   "cell_type": "markdown",
   "metadata": {},
   "source": [
    "#### Feature Engineering Pipelines "
   ]
  },
  {
   "cell_type": "code",
   "execution_count": 146,
   "metadata": {},
   "outputs": [],
   "source": [
    "age_pipeline = Pipeline([('agenorm',StandardScaler())])\n",
    "survey_pipeline = Pipeline([('ohe_transform', OneHotEncoder(sparse_output=False,handle_unknown='ignore'))])"
   ]
  },
  {
   "cell_type": "code",
   "execution_count": 147,
   "metadata": {},
   "outputs": [
    {
     "data": {
      "text/html": [
       "<style>#sk-container-id-40 {color: black;background-color: white;}#sk-container-id-40 pre{padding: 0;}#sk-container-id-40 div.sk-toggleable {background-color: white;}#sk-container-id-40 label.sk-toggleable__label {cursor: pointer;display: block;width: 100%;margin-bottom: 0;padding: 0.3em;box-sizing: border-box;text-align: center;}#sk-container-id-40 label.sk-toggleable__label-arrow:before {content: \"▸\";float: left;margin-right: 0.25em;color: #696969;}#sk-container-id-40 label.sk-toggleable__label-arrow:hover:before {color: black;}#sk-container-id-40 div.sk-estimator:hover label.sk-toggleable__label-arrow:before {color: black;}#sk-container-id-40 div.sk-toggleable__content {max-height: 0;max-width: 0;overflow: hidden;text-align: left;background-color: #f0f8ff;}#sk-container-id-40 div.sk-toggleable__content pre {margin: 0.2em;color: black;border-radius: 0.25em;background-color: #f0f8ff;}#sk-container-id-40 input.sk-toggleable__control:checked~div.sk-toggleable__content {max-height: 200px;max-width: 100%;overflow: auto;}#sk-container-id-40 input.sk-toggleable__control:checked~label.sk-toggleable__label-arrow:before {content: \"▾\";}#sk-container-id-40 div.sk-estimator input.sk-toggleable__control:checked~label.sk-toggleable__label {background-color: #d4ebff;}#sk-container-id-40 div.sk-label input.sk-toggleable__control:checked~label.sk-toggleable__label {background-color: #d4ebff;}#sk-container-id-40 input.sk-hidden--visually {border: 0;clip: rect(1px 1px 1px 1px);clip: rect(1px, 1px, 1px, 1px);height: 1px;margin: -1px;overflow: hidden;padding: 0;position: absolute;width: 1px;}#sk-container-id-40 div.sk-estimator {font-family: monospace;background-color: #f0f8ff;border: 1px dotted black;border-radius: 0.25em;box-sizing: border-box;margin-bottom: 0.5em;}#sk-container-id-40 div.sk-estimator:hover {background-color: #d4ebff;}#sk-container-id-40 div.sk-parallel-item::after {content: \"\";width: 100%;border-bottom: 1px solid gray;flex-grow: 1;}#sk-container-id-40 div.sk-label:hover label.sk-toggleable__label {background-color: #d4ebff;}#sk-container-id-40 div.sk-serial::before {content: \"\";position: absolute;border-left: 1px solid gray;box-sizing: border-box;top: 0;bottom: 0;left: 50%;z-index: 0;}#sk-container-id-40 div.sk-serial {display: flex;flex-direction: column;align-items: center;background-color: white;padding-right: 0.2em;padding-left: 0.2em;position: relative;}#sk-container-id-40 div.sk-item {position: relative;z-index: 1;}#sk-container-id-40 div.sk-parallel {display: flex;align-items: stretch;justify-content: center;background-color: white;position: relative;}#sk-container-id-40 div.sk-item::before, #sk-container-id-40 div.sk-parallel-item::before {content: \"\";position: absolute;border-left: 1px solid gray;box-sizing: border-box;top: 0;bottom: 0;left: 50%;z-index: -1;}#sk-container-id-40 div.sk-parallel-item {display: flex;flex-direction: column;z-index: 1;position: relative;background-color: white;}#sk-container-id-40 div.sk-parallel-item:first-child::after {align-self: flex-end;width: 50%;}#sk-container-id-40 div.sk-parallel-item:last-child::after {align-self: flex-start;width: 50%;}#sk-container-id-40 div.sk-parallel-item:only-child::after {width: 0;}#sk-container-id-40 div.sk-dashed-wrapped {border: 1px dashed gray;margin: 0 0.4em 0.5em 0.4em;box-sizing: border-box;padding-bottom: 0.4em;background-color: white;}#sk-container-id-40 div.sk-label label {font-family: monospace;font-weight: bold;display: inline-block;line-height: 1.2em;}#sk-container-id-40 div.sk-label-container {text-align: center;}#sk-container-id-40 div.sk-container {/* jupyter's `normalize.less` sets `[hidden] { display: none; }` but bootstrap.min.css set `[hidden] { display: none !important; }` so we also need the `!important` here to be able to override the default hidden behavior on the sphinx rendered scikit-learn.org. See: https://github.com/scikit-learn/scikit-learn/issues/21755 */display: inline-block !important;position: relative;}#sk-container-id-40 div.sk-text-repr-fallback {display: none;}</style><div id=\"sk-container-id-40\" class=\"sk-top-container\"><div class=\"sk-text-repr-fallback\"><pre>ColumnTransformer(transformers=[(&#x27;obj_imputer&#x27;,\n",
       "                                 Pipeline(steps=[(&#x27;ohe_transform&#x27;,\n",
       "                                                  OneHotEncoder(handle_unknown=&#x27;ignore&#x27;,\n",
       "                                                                sparse_output=False))]),\n",
       "                                 [&#x27;GADE&#x27;, &#x27;Work&#x27;]),\n",
       "                                (&#x27;numimputer&#x27;,\n",
       "                                 Pipeline(steps=[(&#x27;numimputer&#x27;,\n",
       "                                                  IterativeImputer(initial_strategy=&#x27;median&#x27;,\n",
       "                                                                   random_state=42))]),\n",
       "                                 [&#x27;Hours&#x27;, &#x27;streams&#x27;]),\n",
       "                                (&#x27;age_pipe&#x27;,\n",
       "                                 Pipeline(steps=[(&#x27;agenorm&#x27;,\n",
       "                                                  StandardScaler())]),\n",
       "                                 [&#x27;Age&#x27;]),\n",
       "                                (&#x27;survey_pipe&#x27;,\n",
       "                                 Pipeline(steps=[(&#x27;ohe_transform&#x27;,\n",
       "                                                  OneHotEncoder(handle_unknown=&#x27;ignore&#x27;,\n",
       "                                                                sparse_output=False))]),\n",
       "                                 [&#x27;GADE&#x27;, &#x27;Game&#x27;, &#x27;Platform&#x27;, &#x27;earnings&#x27;,\n",
       "                                  &#x27;whyplay&#x27;, &#x27;Gender&#x27;, &#x27;Work&#x27;, &#x27;Degree&#x27;,\n",
       "                                  &#x27;Birthplace&#x27;, &#x27;Residence&#x27;, &#x27;Playstyle&#x27;])])</pre><b>In a Jupyter environment, please rerun this cell to show the HTML representation or trust the notebook. <br />On GitHub, the HTML representation is unable to render, please try loading this page with nbviewer.org.</b></div><div class=\"sk-container\" hidden><div class=\"sk-item sk-dashed-wrapped\"><div class=\"sk-label-container\"><div class=\"sk-label sk-toggleable\"><input class=\"sk-toggleable__control sk-hidden--visually\" id=\"sk-estimator-id-278\" type=\"checkbox\" ><label for=\"sk-estimator-id-278\" class=\"sk-toggleable__label sk-toggleable__label-arrow\">ColumnTransformer</label><div class=\"sk-toggleable__content\"><pre>ColumnTransformer(transformers=[(&#x27;obj_imputer&#x27;,\n",
       "                                 Pipeline(steps=[(&#x27;ohe_transform&#x27;,\n",
       "                                                  OneHotEncoder(handle_unknown=&#x27;ignore&#x27;,\n",
       "                                                                sparse_output=False))]),\n",
       "                                 [&#x27;GADE&#x27;, &#x27;Work&#x27;]),\n",
       "                                (&#x27;numimputer&#x27;,\n",
       "                                 Pipeline(steps=[(&#x27;numimputer&#x27;,\n",
       "                                                  IterativeImputer(initial_strategy=&#x27;median&#x27;,\n",
       "                                                                   random_state=42))]),\n",
       "                                 [&#x27;Hours&#x27;, &#x27;streams&#x27;]),\n",
       "                                (&#x27;age_pipe&#x27;,\n",
       "                                 Pipeline(steps=[(&#x27;agenorm&#x27;,\n",
       "                                                  StandardScaler())]),\n",
       "                                 [&#x27;Age&#x27;]),\n",
       "                                (&#x27;survey_pipe&#x27;,\n",
       "                                 Pipeline(steps=[(&#x27;ohe_transform&#x27;,\n",
       "                                                  OneHotEncoder(handle_unknown=&#x27;ignore&#x27;,\n",
       "                                                                sparse_output=False))]),\n",
       "                                 [&#x27;GADE&#x27;, &#x27;Game&#x27;, &#x27;Platform&#x27;, &#x27;earnings&#x27;,\n",
       "                                  &#x27;whyplay&#x27;, &#x27;Gender&#x27;, &#x27;Work&#x27;, &#x27;Degree&#x27;,\n",
       "                                  &#x27;Birthplace&#x27;, &#x27;Residence&#x27;, &#x27;Playstyle&#x27;])])</pre></div></div></div><div class=\"sk-parallel\"><div class=\"sk-parallel-item\"><div class=\"sk-item\"><div class=\"sk-label-container\"><div class=\"sk-label sk-toggleable\"><input class=\"sk-toggleable__control sk-hidden--visually\" id=\"sk-estimator-id-279\" type=\"checkbox\" ><label for=\"sk-estimator-id-279\" class=\"sk-toggleable__label sk-toggleable__label-arrow\">obj_imputer</label><div class=\"sk-toggleable__content\"><pre>[&#x27;GADE&#x27;, &#x27;Work&#x27;]</pre></div></div></div><div class=\"sk-serial\"><div class=\"sk-item\"><div class=\"sk-serial\"><div class=\"sk-item\"><div class=\"sk-estimator sk-toggleable\"><input class=\"sk-toggleable__control sk-hidden--visually\" id=\"sk-estimator-id-280\" type=\"checkbox\" ><label for=\"sk-estimator-id-280\" class=\"sk-toggleable__label sk-toggleable__label-arrow\">OneHotEncoder</label><div class=\"sk-toggleable__content\"><pre>OneHotEncoder(handle_unknown=&#x27;ignore&#x27;, sparse_output=False)</pre></div></div></div></div></div></div></div></div><div class=\"sk-parallel-item\"><div class=\"sk-item\"><div class=\"sk-label-container\"><div class=\"sk-label sk-toggleable\"><input class=\"sk-toggleable__control sk-hidden--visually\" id=\"sk-estimator-id-281\" type=\"checkbox\" ><label for=\"sk-estimator-id-281\" class=\"sk-toggleable__label sk-toggleable__label-arrow\">numimputer</label><div class=\"sk-toggleable__content\"><pre>[&#x27;Hours&#x27;, &#x27;streams&#x27;]</pre></div></div></div><div class=\"sk-serial\"><div class=\"sk-item\"><div class=\"sk-serial\"><div class=\"sk-item\"><div class=\"sk-estimator sk-toggleable\"><input class=\"sk-toggleable__control sk-hidden--visually\" id=\"sk-estimator-id-282\" type=\"checkbox\" ><label for=\"sk-estimator-id-282\" class=\"sk-toggleable__label sk-toggleable__label-arrow\">IterativeImputer</label><div class=\"sk-toggleable__content\"><pre>IterativeImputer(initial_strategy=&#x27;median&#x27;, random_state=42)</pre></div></div></div></div></div></div></div></div><div class=\"sk-parallel-item\"><div class=\"sk-item\"><div class=\"sk-label-container\"><div class=\"sk-label sk-toggleable\"><input class=\"sk-toggleable__control sk-hidden--visually\" id=\"sk-estimator-id-283\" type=\"checkbox\" ><label for=\"sk-estimator-id-283\" class=\"sk-toggleable__label sk-toggleable__label-arrow\">age_pipe</label><div class=\"sk-toggleable__content\"><pre>[&#x27;Age&#x27;]</pre></div></div></div><div class=\"sk-serial\"><div class=\"sk-item\"><div class=\"sk-serial\"><div class=\"sk-item\"><div class=\"sk-estimator sk-toggleable\"><input class=\"sk-toggleable__control sk-hidden--visually\" id=\"sk-estimator-id-284\" type=\"checkbox\" ><label for=\"sk-estimator-id-284\" class=\"sk-toggleable__label sk-toggleable__label-arrow\">StandardScaler</label><div class=\"sk-toggleable__content\"><pre>StandardScaler()</pre></div></div></div></div></div></div></div></div><div class=\"sk-parallel-item\"><div class=\"sk-item\"><div class=\"sk-label-container\"><div class=\"sk-label sk-toggleable\"><input class=\"sk-toggleable__control sk-hidden--visually\" id=\"sk-estimator-id-285\" type=\"checkbox\" ><label for=\"sk-estimator-id-285\" class=\"sk-toggleable__label sk-toggleable__label-arrow\">survey_pipe</label><div class=\"sk-toggleable__content\"><pre>[&#x27;GADE&#x27;, &#x27;Game&#x27;, &#x27;Platform&#x27;, &#x27;earnings&#x27;, &#x27;whyplay&#x27;, &#x27;Gender&#x27;, &#x27;Work&#x27;, &#x27;Degree&#x27;, &#x27;Birthplace&#x27;, &#x27;Residence&#x27;, &#x27;Playstyle&#x27;]</pre></div></div></div><div class=\"sk-serial\"><div class=\"sk-item\"><div class=\"sk-serial\"><div class=\"sk-item\"><div class=\"sk-estimator sk-toggleable\"><input class=\"sk-toggleable__control sk-hidden--visually\" id=\"sk-estimator-id-286\" type=\"checkbox\" ><label for=\"sk-estimator-id-286\" class=\"sk-toggleable__label sk-toggleable__label-arrow\">OneHotEncoder</label><div class=\"sk-toggleable__content\"><pre>OneHotEncoder(handle_unknown=&#x27;ignore&#x27;, sparse_output=False)</pre></div></div></div></div></div></div></div></div></div></div></div></div>"
      ],
      "text/plain": [
       "ColumnTransformer(transformers=[('obj_imputer',\n",
       "                                 Pipeline(steps=[('ohe_transform',\n",
       "                                                  OneHotEncoder(handle_unknown='ignore',\n",
       "                                                                sparse_output=False))]),\n",
       "                                 ['GADE', 'Work']),\n",
       "                                ('numimputer',\n",
       "                                 Pipeline(steps=[('numimputer',\n",
       "                                                  IterativeImputer(initial_strategy='median',\n",
       "                                                                   random_state=42))]),\n",
       "                                 ['Hours', 'streams']),\n",
       "                                ('age_pipe',\n",
       "                                 Pipeline(steps=[('agenorm',\n",
       "                                                  StandardScaler())]),\n",
       "                                 ['Age']),\n",
       "                                ('survey_pipe',\n",
       "                                 Pipeline(steps=[('ohe_transform',\n",
       "                                                  OneHotEncoder(handle_unknown='ignore',\n",
       "                                                                sparse_output=False))]),\n",
       "                                 ['GADE', 'Game', 'Platform', 'earnings',\n",
       "                                  'whyplay', 'Gender', 'Work', 'Degree',\n",
       "                                  'Birthplace', 'Residence', 'Playstyle'])])"
      ]
     },
     "execution_count": 147,
     "metadata": {},
     "output_type": "execute_result"
    }
   ],
   "source": [
    "log_ct = ColumnTransformer(\n",
    "    [(\"obj_imputer\", survey_pipeline, ['GADE','Work']), \n",
    "     (\"numimputer\", game_habits_pipeline, ['Hours','streams']),\n",
    "     ('age_pipe', age_pipeline, ['Age']),\n",
    "     ('survey_pipe', survey_pipeline, ohe_cols)\n",
    "    ])\n",
    "log_ct"
   ]
  },
  {
   "cell_type": "code",
   "execution_count": 148,
   "metadata": {},
   "outputs": [
    {
     "data": {
      "text/html": [
       "<style>#sk-container-id-41 {color: black;background-color: white;}#sk-container-id-41 pre{padding: 0;}#sk-container-id-41 div.sk-toggleable {background-color: white;}#sk-container-id-41 label.sk-toggleable__label {cursor: pointer;display: block;width: 100%;margin-bottom: 0;padding: 0.3em;box-sizing: border-box;text-align: center;}#sk-container-id-41 label.sk-toggleable__label-arrow:before {content: \"▸\";float: left;margin-right: 0.25em;color: #696969;}#sk-container-id-41 label.sk-toggleable__label-arrow:hover:before {color: black;}#sk-container-id-41 div.sk-estimator:hover label.sk-toggleable__label-arrow:before {color: black;}#sk-container-id-41 div.sk-toggleable__content {max-height: 0;max-width: 0;overflow: hidden;text-align: left;background-color: #f0f8ff;}#sk-container-id-41 div.sk-toggleable__content pre {margin: 0.2em;color: black;border-radius: 0.25em;background-color: #f0f8ff;}#sk-container-id-41 input.sk-toggleable__control:checked~div.sk-toggleable__content {max-height: 200px;max-width: 100%;overflow: auto;}#sk-container-id-41 input.sk-toggleable__control:checked~label.sk-toggleable__label-arrow:before {content: \"▾\";}#sk-container-id-41 div.sk-estimator input.sk-toggleable__control:checked~label.sk-toggleable__label {background-color: #d4ebff;}#sk-container-id-41 div.sk-label input.sk-toggleable__control:checked~label.sk-toggleable__label {background-color: #d4ebff;}#sk-container-id-41 input.sk-hidden--visually {border: 0;clip: rect(1px 1px 1px 1px);clip: rect(1px, 1px, 1px, 1px);height: 1px;margin: -1px;overflow: hidden;padding: 0;position: absolute;width: 1px;}#sk-container-id-41 div.sk-estimator {font-family: monospace;background-color: #f0f8ff;border: 1px dotted black;border-radius: 0.25em;box-sizing: border-box;margin-bottom: 0.5em;}#sk-container-id-41 div.sk-estimator:hover {background-color: #d4ebff;}#sk-container-id-41 div.sk-parallel-item::after {content: \"\";width: 100%;border-bottom: 1px solid gray;flex-grow: 1;}#sk-container-id-41 div.sk-label:hover label.sk-toggleable__label {background-color: #d4ebff;}#sk-container-id-41 div.sk-serial::before {content: \"\";position: absolute;border-left: 1px solid gray;box-sizing: border-box;top: 0;bottom: 0;left: 50%;z-index: 0;}#sk-container-id-41 div.sk-serial {display: flex;flex-direction: column;align-items: center;background-color: white;padding-right: 0.2em;padding-left: 0.2em;position: relative;}#sk-container-id-41 div.sk-item {position: relative;z-index: 1;}#sk-container-id-41 div.sk-parallel {display: flex;align-items: stretch;justify-content: center;background-color: white;position: relative;}#sk-container-id-41 div.sk-item::before, #sk-container-id-41 div.sk-parallel-item::before {content: \"\";position: absolute;border-left: 1px solid gray;box-sizing: border-box;top: 0;bottom: 0;left: 50%;z-index: -1;}#sk-container-id-41 div.sk-parallel-item {display: flex;flex-direction: column;z-index: 1;position: relative;background-color: white;}#sk-container-id-41 div.sk-parallel-item:first-child::after {align-self: flex-end;width: 50%;}#sk-container-id-41 div.sk-parallel-item:last-child::after {align-self: flex-start;width: 50%;}#sk-container-id-41 div.sk-parallel-item:only-child::after {width: 0;}#sk-container-id-41 div.sk-dashed-wrapped {border: 1px dashed gray;margin: 0 0.4em 0.5em 0.4em;box-sizing: border-box;padding-bottom: 0.4em;background-color: white;}#sk-container-id-41 div.sk-label label {font-family: monospace;font-weight: bold;display: inline-block;line-height: 1.2em;}#sk-container-id-41 div.sk-label-container {text-align: center;}#sk-container-id-41 div.sk-container {/* jupyter's `normalize.less` sets `[hidden] { display: none; }` but bootstrap.min.css set `[hidden] { display: none !important; }` so we also need the `!important` here to be able to override the default hidden behavior on the sphinx rendered scikit-learn.org. See: https://github.com/scikit-learn/scikit-learn/issues/21755 */display: inline-block !important;position: relative;}#sk-container-id-41 div.sk-text-repr-fallback {display: none;}</style><div id=\"sk-container-id-41\" class=\"sk-top-container\"><div class=\"sk-text-repr-fallback\"><pre>Pipeline(steps=[(&#x27;preprocess&#x27;,\n",
       "                 ColumnTransformer(transformers=[(&#x27;obj_imputer&#x27;,\n",
       "                                                  Pipeline(steps=[(&#x27;ohe_transform&#x27;,\n",
       "                                                                   OneHotEncoder(handle_unknown=&#x27;ignore&#x27;,\n",
       "                                                                                 sparse_output=False))]),\n",
       "                                                  [&#x27;GADE&#x27;, &#x27;Work&#x27;]),\n",
       "                                                 (&#x27;numimputer&#x27;,\n",
       "                                                  Pipeline(steps=[(&#x27;numimputer&#x27;,\n",
       "                                                                   IterativeImputer(initial_strategy=&#x27;median&#x27;,\n",
       "                                                                                    random_state=42))]),\n",
       "                                                  [&#x27;Hours&#x27;, &#x27;streams&#x27;]),\n",
       "                                                 (&#x27;age_pipe&#x27;,\n",
       "                                                  Pipeline(steps=[(&#x27;agenorm&#x27;,\n",
       "                                                                   StandardScaler())]),\n",
       "                                                  [&#x27;Age&#x27;]),\n",
       "                                                 (&#x27;survey_pipe&#x27;,\n",
       "                                                  Pipeline(steps=[(&#x27;ohe_transform&#x27;,\n",
       "                                                                   OneHotEncoder(handle_unknown=&#x27;ignore&#x27;,\n",
       "                                                                                 sparse_output=False))]),\n",
       "                                                  [&#x27;GADE&#x27;, &#x27;Game&#x27;, &#x27;Platform&#x27;,\n",
       "                                                   &#x27;earnings&#x27;, &#x27;whyplay&#x27;,\n",
       "                                                   &#x27;Gender&#x27;, &#x27;Work&#x27;, &#x27;Degree&#x27;,\n",
       "                                                   &#x27;Birthplace&#x27;, &#x27;Residence&#x27;,\n",
       "                                                   &#x27;Playstyle&#x27;])])),\n",
       "                (&#x27;model&#x27;, LogisticRegression(max_iter=10000, random_state=42))])</pre><b>In a Jupyter environment, please rerun this cell to show the HTML representation or trust the notebook. <br />On GitHub, the HTML representation is unable to render, please try loading this page with nbviewer.org.</b></div><div class=\"sk-container\" hidden><div class=\"sk-item sk-dashed-wrapped\"><div class=\"sk-label-container\"><div class=\"sk-label sk-toggleable\"><input class=\"sk-toggleable__control sk-hidden--visually\" id=\"sk-estimator-id-287\" type=\"checkbox\" ><label for=\"sk-estimator-id-287\" class=\"sk-toggleable__label sk-toggleable__label-arrow\">Pipeline</label><div class=\"sk-toggleable__content\"><pre>Pipeline(steps=[(&#x27;preprocess&#x27;,\n",
       "                 ColumnTransformer(transformers=[(&#x27;obj_imputer&#x27;,\n",
       "                                                  Pipeline(steps=[(&#x27;ohe_transform&#x27;,\n",
       "                                                                   OneHotEncoder(handle_unknown=&#x27;ignore&#x27;,\n",
       "                                                                                 sparse_output=False))]),\n",
       "                                                  [&#x27;GADE&#x27;, &#x27;Work&#x27;]),\n",
       "                                                 (&#x27;numimputer&#x27;,\n",
       "                                                  Pipeline(steps=[(&#x27;numimputer&#x27;,\n",
       "                                                                   IterativeImputer(initial_strategy=&#x27;median&#x27;,\n",
       "                                                                                    random_state=42))]),\n",
       "                                                  [&#x27;Hours&#x27;, &#x27;streams&#x27;]),\n",
       "                                                 (&#x27;age_pipe&#x27;,\n",
       "                                                  Pipeline(steps=[(&#x27;agenorm&#x27;,\n",
       "                                                                   StandardScaler())]),\n",
       "                                                  [&#x27;Age&#x27;]),\n",
       "                                                 (&#x27;survey_pipe&#x27;,\n",
       "                                                  Pipeline(steps=[(&#x27;ohe_transform&#x27;,\n",
       "                                                                   OneHotEncoder(handle_unknown=&#x27;ignore&#x27;,\n",
       "                                                                                 sparse_output=False))]),\n",
       "                                                  [&#x27;GADE&#x27;, &#x27;Game&#x27;, &#x27;Platform&#x27;,\n",
       "                                                   &#x27;earnings&#x27;, &#x27;whyplay&#x27;,\n",
       "                                                   &#x27;Gender&#x27;, &#x27;Work&#x27;, &#x27;Degree&#x27;,\n",
       "                                                   &#x27;Birthplace&#x27;, &#x27;Residence&#x27;,\n",
       "                                                   &#x27;Playstyle&#x27;])])),\n",
       "                (&#x27;model&#x27;, LogisticRegression(max_iter=10000, random_state=42))])</pre></div></div></div><div class=\"sk-serial\"><div class=\"sk-item sk-dashed-wrapped\"><div class=\"sk-label-container\"><div class=\"sk-label sk-toggleable\"><input class=\"sk-toggleable__control sk-hidden--visually\" id=\"sk-estimator-id-288\" type=\"checkbox\" ><label for=\"sk-estimator-id-288\" class=\"sk-toggleable__label sk-toggleable__label-arrow\">preprocess: ColumnTransformer</label><div class=\"sk-toggleable__content\"><pre>ColumnTransformer(transformers=[(&#x27;obj_imputer&#x27;,\n",
       "                                 Pipeline(steps=[(&#x27;ohe_transform&#x27;,\n",
       "                                                  OneHotEncoder(handle_unknown=&#x27;ignore&#x27;,\n",
       "                                                                sparse_output=False))]),\n",
       "                                 [&#x27;GADE&#x27;, &#x27;Work&#x27;]),\n",
       "                                (&#x27;numimputer&#x27;,\n",
       "                                 Pipeline(steps=[(&#x27;numimputer&#x27;,\n",
       "                                                  IterativeImputer(initial_strategy=&#x27;median&#x27;,\n",
       "                                                                   random_state=42))]),\n",
       "                                 [&#x27;Hours&#x27;, &#x27;streams&#x27;]),\n",
       "                                (&#x27;age_pipe&#x27;,\n",
       "                                 Pipeline(steps=[(&#x27;agenorm&#x27;,\n",
       "                                                  StandardScaler())]),\n",
       "                                 [&#x27;Age&#x27;]),\n",
       "                                (&#x27;survey_pipe&#x27;,\n",
       "                                 Pipeline(steps=[(&#x27;ohe_transform&#x27;,\n",
       "                                                  OneHotEncoder(handle_unknown=&#x27;ignore&#x27;,\n",
       "                                                                sparse_output=False))]),\n",
       "                                 [&#x27;GADE&#x27;, &#x27;Game&#x27;, &#x27;Platform&#x27;, &#x27;earnings&#x27;,\n",
       "                                  &#x27;whyplay&#x27;, &#x27;Gender&#x27;, &#x27;Work&#x27;, &#x27;Degree&#x27;,\n",
       "                                  &#x27;Birthplace&#x27;, &#x27;Residence&#x27;, &#x27;Playstyle&#x27;])])</pre></div></div></div><div class=\"sk-parallel\"><div class=\"sk-parallel-item\"><div class=\"sk-item\"><div class=\"sk-label-container\"><div class=\"sk-label sk-toggleable\"><input class=\"sk-toggleable__control sk-hidden--visually\" id=\"sk-estimator-id-289\" type=\"checkbox\" ><label for=\"sk-estimator-id-289\" class=\"sk-toggleable__label sk-toggleable__label-arrow\">obj_imputer</label><div class=\"sk-toggleable__content\"><pre>[&#x27;GADE&#x27;, &#x27;Work&#x27;]</pre></div></div></div><div class=\"sk-serial\"><div class=\"sk-item\"><div class=\"sk-serial\"><div class=\"sk-item\"><div class=\"sk-estimator sk-toggleable\"><input class=\"sk-toggleable__control sk-hidden--visually\" id=\"sk-estimator-id-290\" type=\"checkbox\" ><label for=\"sk-estimator-id-290\" class=\"sk-toggleable__label sk-toggleable__label-arrow\">OneHotEncoder</label><div class=\"sk-toggleable__content\"><pre>OneHotEncoder(handle_unknown=&#x27;ignore&#x27;, sparse_output=False)</pre></div></div></div></div></div></div></div></div><div class=\"sk-parallel-item\"><div class=\"sk-item\"><div class=\"sk-label-container\"><div class=\"sk-label sk-toggleable\"><input class=\"sk-toggleable__control sk-hidden--visually\" id=\"sk-estimator-id-291\" type=\"checkbox\" ><label for=\"sk-estimator-id-291\" class=\"sk-toggleable__label sk-toggleable__label-arrow\">numimputer</label><div class=\"sk-toggleable__content\"><pre>[&#x27;Hours&#x27;, &#x27;streams&#x27;]</pre></div></div></div><div class=\"sk-serial\"><div class=\"sk-item\"><div class=\"sk-serial\"><div class=\"sk-item\"><div class=\"sk-estimator sk-toggleable\"><input class=\"sk-toggleable__control sk-hidden--visually\" id=\"sk-estimator-id-292\" type=\"checkbox\" ><label for=\"sk-estimator-id-292\" class=\"sk-toggleable__label sk-toggleable__label-arrow\">IterativeImputer</label><div class=\"sk-toggleable__content\"><pre>IterativeImputer(initial_strategy=&#x27;median&#x27;, random_state=42)</pre></div></div></div></div></div></div></div></div><div class=\"sk-parallel-item\"><div class=\"sk-item\"><div class=\"sk-label-container\"><div class=\"sk-label sk-toggleable\"><input class=\"sk-toggleable__control sk-hidden--visually\" id=\"sk-estimator-id-293\" type=\"checkbox\" ><label for=\"sk-estimator-id-293\" class=\"sk-toggleable__label sk-toggleable__label-arrow\">age_pipe</label><div class=\"sk-toggleable__content\"><pre>[&#x27;Age&#x27;]</pre></div></div></div><div class=\"sk-serial\"><div class=\"sk-item\"><div class=\"sk-serial\"><div class=\"sk-item\"><div class=\"sk-estimator sk-toggleable\"><input class=\"sk-toggleable__control sk-hidden--visually\" id=\"sk-estimator-id-294\" type=\"checkbox\" ><label for=\"sk-estimator-id-294\" class=\"sk-toggleable__label sk-toggleable__label-arrow\">StandardScaler</label><div class=\"sk-toggleable__content\"><pre>StandardScaler()</pre></div></div></div></div></div></div></div></div><div class=\"sk-parallel-item\"><div class=\"sk-item\"><div class=\"sk-label-container\"><div class=\"sk-label sk-toggleable\"><input class=\"sk-toggleable__control sk-hidden--visually\" id=\"sk-estimator-id-295\" type=\"checkbox\" ><label for=\"sk-estimator-id-295\" class=\"sk-toggleable__label sk-toggleable__label-arrow\">survey_pipe</label><div class=\"sk-toggleable__content\"><pre>[&#x27;GADE&#x27;, &#x27;Game&#x27;, &#x27;Platform&#x27;, &#x27;earnings&#x27;, &#x27;whyplay&#x27;, &#x27;Gender&#x27;, &#x27;Work&#x27;, &#x27;Degree&#x27;, &#x27;Birthplace&#x27;, &#x27;Residence&#x27;, &#x27;Playstyle&#x27;]</pre></div></div></div><div class=\"sk-serial\"><div class=\"sk-item\"><div class=\"sk-serial\"><div class=\"sk-item\"><div class=\"sk-estimator sk-toggleable\"><input class=\"sk-toggleable__control sk-hidden--visually\" id=\"sk-estimator-id-296\" type=\"checkbox\" ><label for=\"sk-estimator-id-296\" class=\"sk-toggleable__label sk-toggleable__label-arrow\">OneHotEncoder</label><div class=\"sk-toggleable__content\"><pre>OneHotEncoder(handle_unknown=&#x27;ignore&#x27;, sparse_output=False)</pre></div></div></div></div></div></div></div></div></div></div><div class=\"sk-item\"><div class=\"sk-estimator sk-toggleable\"><input class=\"sk-toggleable__control sk-hidden--visually\" id=\"sk-estimator-id-297\" type=\"checkbox\" ><label for=\"sk-estimator-id-297\" class=\"sk-toggleable__label sk-toggleable__label-arrow\">LogisticRegression</label><div class=\"sk-toggleable__content\"><pre>LogisticRegression(max_iter=10000, random_state=42)</pre></div></div></div></div></div></div></div>"
      ],
      "text/plain": [
       "Pipeline(steps=[('preprocess',\n",
       "                 ColumnTransformer(transformers=[('obj_imputer',\n",
       "                                                  Pipeline(steps=[('ohe_transform',\n",
       "                                                                   OneHotEncoder(handle_unknown='ignore',\n",
       "                                                                                 sparse_output=False))]),\n",
       "                                                  ['GADE', 'Work']),\n",
       "                                                 ('numimputer',\n",
       "                                                  Pipeline(steps=[('numimputer',\n",
       "                                                                   IterativeImputer(initial_strategy='median',\n",
       "                                                                                    random_state=42))]),\n",
       "                                                  ['Hours', 'streams']),\n",
       "                                                 ('age_pipe',\n",
       "                                                  Pipeline(steps=[('agenorm',\n",
       "                                                                   StandardScaler())]),\n",
       "                                                  ['Age']),\n",
       "                                                 ('survey_pipe',\n",
       "                                                  Pipeline(steps=[('ohe_transform',\n",
       "                                                                   OneHotEncoder(handle_unknown='ignore',\n",
       "                                                                                 sparse_output=False))]),\n",
       "                                                  ['GADE', 'Game', 'Platform',\n",
       "                                                   'earnings', 'whyplay',\n",
       "                                                   'Gender', 'Work', 'Degree',\n",
       "                                                   'Birthplace', 'Residence',\n",
       "                                                   'Playstyle'])])),\n",
       "                ('model', LogisticRegression(max_iter=10000, random_state=42))])"
      ]
     },
     "execution_count": 148,
     "metadata": {},
     "output_type": "execute_result"
    }
   ],
   "source": [
    "# logistic regression pipeline with all features standardized \n",
    "log_pipe = Pipeline([('preprocess', log_ct),\n",
    "     ('model',\n",
    "      LogisticRegression(random_state=42,max_iter=10000))])\n",
    "log_pipe"
   ]
  },
  {
   "cell_type": "code",
   "execution_count": 149,
   "metadata": {},
   "outputs": [
    {
     "data": {
      "text/html": [
       "<style>#sk-container-id-42 {color: black;background-color: white;}#sk-container-id-42 pre{padding: 0;}#sk-container-id-42 div.sk-toggleable {background-color: white;}#sk-container-id-42 label.sk-toggleable__label {cursor: pointer;display: block;width: 100%;margin-bottom: 0;padding: 0.3em;box-sizing: border-box;text-align: center;}#sk-container-id-42 label.sk-toggleable__label-arrow:before {content: \"▸\";float: left;margin-right: 0.25em;color: #696969;}#sk-container-id-42 label.sk-toggleable__label-arrow:hover:before {color: black;}#sk-container-id-42 div.sk-estimator:hover label.sk-toggleable__label-arrow:before {color: black;}#sk-container-id-42 div.sk-toggleable__content {max-height: 0;max-width: 0;overflow: hidden;text-align: left;background-color: #f0f8ff;}#sk-container-id-42 div.sk-toggleable__content pre {margin: 0.2em;color: black;border-radius: 0.25em;background-color: #f0f8ff;}#sk-container-id-42 input.sk-toggleable__control:checked~div.sk-toggleable__content {max-height: 200px;max-width: 100%;overflow: auto;}#sk-container-id-42 input.sk-toggleable__control:checked~label.sk-toggleable__label-arrow:before {content: \"▾\";}#sk-container-id-42 div.sk-estimator input.sk-toggleable__control:checked~label.sk-toggleable__label {background-color: #d4ebff;}#sk-container-id-42 div.sk-label input.sk-toggleable__control:checked~label.sk-toggleable__label {background-color: #d4ebff;}#sk-container-id-42 input.sk-hidden--visually {border: 0;clip: rect(1px 1px 1px 1px);clip: rect(1px, 1px, 1px, 1px);height: 1px;margin: -1px;overflow: hidden;padding: 0;position: absolute;width: 1px;}#sk-container-id-42 div.sk-estimator {font-family: monospace;background-color: #f0f8ff;border: 1px dotted black;border-radius: 0.25em;box-sizing: border-box;margin-bottom: 0.5em;}#sk-container-id-42 div.sk-estimator:hover {background-color: #d4ebff;}#sk-container-id-42 div.sk-parallel-item::after {content: \"\";width: 100%;border-bottom: 1px solid gray;flex-grow: 1;}#sk-container-id-42 div.sk-label:hover label.sk-toggleable__label {background-color: #d4ebff;}#sk-container-id-42 div.sk-serial::before {content: \"\";position: absolute;border-left: 1px solid gray;box-sizing: border-box;top: 0;bottom: 0;left: 50%;z-index: 0;}#sk-container-id-42 div.sk-serial {display: flex;flex-direction: column;align-items: center;background-color: white;padding-right: 0.2em;padding-left: 0.2em;position: relative;}#sk-container-id-42 div.sk-item {position: relative;z-index: 1;}#sk-container-id-42 div.sk-parallel {display: flex;align-items: stretch;justify-content: center;background-color: white;position: relative;}#sk-container-id-42 div.sk-item::before, #sk-container-id-42 div.sk-parallel-item::before {content: \"\";position: absolute;border-left: 1px solid gray;box-sizing: border-box;top: 0;bottom: 0;left: 50%;z-index: -1;}#sk-container-id-42 div.sk-parallel-item {display: flex;flex-direction: column;z-index: 1;position: relative;background-color: white;}#sk-container-id-42 div.sk-parallel-item:first-child::after {align-self: flex-end;width: 50%;}#sk-container-id-42 div.sk-parallel-item:last-child::after {align-self: flex-start;width: 50%;}#sk-container-id-42 div.sk-parallel-item:only-child::after {width: 0;}#sk-container-id-42 div.sk-dashed-wrapped {border: 1px dashed gray;margin: 0 0.4em 0.5em 0.4em;box-sizing: border-box;padding-bottom: 0.4em;background-color: white;}#sk-container-id-42 div.sk-label label {font-family: monospace;font-weight: bold;display: inline-block;line-height: 1.2em;}#sk-container-id-42 div.sk-label-container {text-align: center;}#sk-container-id-42 div.sk-container {/* jupyter's `normalize.less` sets `[hidden] { display: none; }` but bootstrap.min.css set `[hidden] { display: none !important; }` so we also need the `!important` here to be able to override the default hidden behavior on the sphinx rendered scikit-learn.org. See: https://github.com/scikit-learn/scikit-learn/issues/21755 */display: inline-block !important;position: relative;}#sk-container-id-42 div.sk-text-repr-fallback {display: none;}</style><div id=\"sk-container-id-42\" class=\"sk-top-container\"><div class=\"sk-text-repr-fallback\"><pre>Pipeline(steps=[(&#x27;preprocess&#x27;,\n",
       "                 ColumnTransformer(transformers=[(&#x27;obj_imputer&#x27;,\n",
       "                                                  Pipeline(steps=[(&#x27;ohe_transform&#x27;,\n",
       "                                                                   OneHotEncoder(handle_unknown=&#x27;ignore&#x27;,\n",
       "                                                                                 sparse_output=False))]),\n",
       "                                                  [&#x27;GADE&#x27;, &#x27;Work&#x27;]),\n",
       "                                                 (&#x27;numimputer&#x27;,\n",
       "                                                  Pipeline(steps=[(&#x27;numimputer&#x27;,\n",
       "                                                                   IterativeImputer(initial_strategy=&#x27;median&#x27;,\n",
       "                                                                                    random_state=42))]),\n",
       "                                                  [&#x27;Hours&#x27;, &#x27;streams&#x27;]),\n",
       "                                                 (&#x27;age_pipe&#x27;,\n",
       "                                                  Pipeline(steps=[(&#x27;agenorm&#x27;,\n",
       "                                                                   StandardScaler())]),\n",
       "                                                  [&#x27;Age&#x27;]),\n",
       "                                                 (&#x27;survey_pipe&#x27;,\n",
       "                                                  Pipeline(steps=[(&#x27;ohe_transform&#x27;,\n",
       "                                                                   OneHotEncoder(handle_unknown=&#x27;ignore&#x27;,\n",
       "                                                                                 sparse_output=False))]),\n",
       "                                                  [&#x27;GADE&#x27;, &#x27;Game&#x27;, &#x27;Platform&#x27;,\n",
       "                                                   &#x27;earnings&#x27;, &#x27;whyplay&#x27;,\n",
       "                                                   &#x27;Gender&#x27;, &#x27;Work&#x27;, &#x27;Degree&#x27;,\n",
       "                                                   &#x27;Birthplace&#x27;, &#x27;Residence&#x27;,\n",
       "                                                   &#x27;Playstyle&#x27;])])),\n",
       "                (&#x27;model&#x27;, LogisticRegression(max_iter=10000, random_state=42))])</pre><b>In a Jupyter environment, please rerun this cell to show the HTML representation or trust the notebook. <br />On GitHub, the HTML representation is unable to render, please try loading this page with nbviewer.org.</b></div><div class=\"sk-container\" hidden><div class=\"sk-item sk-dashed-wrapped\"><div class=\"sk-label-container\"><div class=\"sk-label sk-toggleable\"><input class=\"sk-toggleable__control sk-hidden--visually\" id=\"sk-estimator-id-298\" type=\"checkbox\" ><label for=\"sk-estimator-id-298\" class=\"sk-toggleable__label sk-toggleable__label-arrow\">Pipeline</label><div class=\"sk-toggleable__content\"><pre>Pipeline(steps=[(&#x27;preprocess&#x27;,\n",
       "                 ColumnTransformer(transformers=[(&#x27;obj_imputer&#x27;,\n",
       "                                                  Pipeline(steps=[(&#x27;ohe_transform&#x27;,\n",
       "                                                                   OneHotEncoder(handle_unknown=&#x27;ignore&#x27;,\n",
       "                                                                                 sparse_output=False))]),\n",
       "                                                  [&#x27;GADE&#x27;, &#x27;Work&#x27;]),\n",
       "                                                 (&#x27;numimputer&#x27;,\n",
       "                                                  Pipeline(steps=[(&#x27;numimputer&#x27;,\n",
       "                                                                   IterativeImputer(initial_strategy=&#x27;median&#x27;,\n",
       "                                                                                    random_state=42))]),\n",
       "                                                  [&#x27;Hours&#x27;, &#x27;streams&#x27;]),\n",
       "                                                 (&#x27;age_pipe&#x27;,\n",
       "                                                  Pipeline(steps=[(&#x27;agenorm&#x27;,\n",
       "                                                                   StandardScaler())]),\n",
       "                                                  [&#x27;Age&#x27;]),\n",
       "                                                 (&#x27;survey_pipe&#x27;,\n",
       "                                                  Pipeline(steps=[(&#x27;ohe_transform&#x27;,\n",
       "                                                                   OneHotEncoder(handle_unknown=&#x27;ignore&#x27;,\n",
       "                                                                                 sparse_output=False))]),\n",
       "                                                  [&#x27;GADE&#x27;, &#x27;Game&#x27;, &#x27;Platform&#x27;,\n",
       "                                                   &#x27;earnings&#x27;, &#x27;whyplay&#x27;,\n",
       "                                                   &#x27;Gender&#x27;, &#x27;Work&#x27;, &#x27;Degree&#x27;,\n",
       "                                                   &#x27;Birthplace&#x27;, &#x27;Residence&#x27;,\n",
       "                                                   &#x27;Playstyle&#x27;])])),\n",
       "                (&#x27;model&#x27;, LogisticRegression(max_iter=10000, random_state=42))])</pre></div></div></div><div class=\"sk-serial\"><div class=\"sk-item sk-dashed-wrapped\"><div class=\"sk-label-container\"><div class=\"sk-label sk-toggleable\"><input class=\"sk-toggleable__control sk-hidden--visually\" id=\"sk-estimator-id-299\" type=\"checkbox\" ><label for=\"sk-estimator-id-299\" class=\"sk-toggleable__label sk-toggleable__label-arrow\">preprocess: ColumnTransformer</label><div class=\"sk-toggleable__content\"><pre>ColumnTransformer(transformers=[(&#x27;obj_imputer&#x27;,\n",
       "                                 Pipeline(steps=[(&#x27;ohe_transform&#x27;,\n",
       "                                                  OneHotEncoder(handle_unknown=&#x27;ignore&#x27;,\n",
       "                                                                sparse_output=False))]),\n",
       "                                 [&#x27;GADE&#x27;, &#x27;Work&#x27;]),\n",
       "                                (&#x27;numimputer&#x27;,\n",
       "                                 Pipeline(steps=[(&#x27;numimputer&#x27;,\n",
       "                                                  IterativeImputer(initial_strategy=&#x27;median&#x27;,\n",
       "                                                                   random_state=42))]),\n",
       "                                 [&#x27;Hours&#x27;, &#x27;streams&#x27;]),\n",
       "                                (&#x27;age_pipe&#x27;,\n",
       "                                 Pipeline(steps=[(&#x27;agenorm&#x27;,\n",
       "                                                  StandardScaler())]),\n",
       "                                 [&#x27;Age&#x27;]),\n",
       "                                (&#x27;survey_pipe&#x27;,\n",
       "                                 Pipeline(steps=[(&#x27;ohe_transform&#x27;,\n",
       "                                                  OneHotEncoder(handle_unknown=&#x27;ignore&#x27;,\n",
       "                                                                sparse_output=False))]),\n",
       "                                 [&#x27;GADE&#x27;, &#x27;Game&#x27;, &#x27;Platform&#x27;, &#x27;earnings&#x27;,\n",
       "                                  &#x27;whyplay&#x27;, &#x27;Gender&#x27;, &#x27;Work&#x27;, &#x27;Degree&#x27;,\n",
       "                                  &#x27;Birthplace&#x27;, &#x27;Residence&#x27;, &#x27;Playstyle&#x27;])])</pre></div></div></div><div class=\"sk-parallel\"><div class=\"sk-parallel-item\"><div class=\"sk-item\"><div class=\"sk-label-container\"><div class=\"sk-label sk-toggleable\"><input class=\"sk-toggleable__control sk-hidden--visually\" id=\"sk-estimator-id-300\" type=\"checkbox\" ><label for=\"sk-estimator-id-300\" class=\"sk-toggleable__label sk-toggleable__label-arrow\">obj_imputer</label><div class=\"sk-toggleable__content\"><pre>[&#x27;GADE&#x27;, &#x27;Work&#x27;]</pre></div></div></div><div class=\"sk-serial\"><div class=\"sk-item\"><div class=\"sk-serial\"><div class=\"sk-item\"><div class=\"sk-estimator sk-toggleable\"><input class=\"sk-toggleable__control sk-hidden--visually\" id=\"sk-estimator-id-301\" type=\"checkbox\" ><label for=\"sk-estimator-id-301\" class=\"sk-toggleable__label sk-toggleable__label-arrow\">OneHotEncoder</label><div class=\"sk-toggleable__content\"><pre>OneHotEncoder(handle_unknown=&#x27;ignore&#x27;, sparse_output=False)</pre></div></div></div></div></div></div></div></div><div class=\"sk-parallel-item\"><div class=\"sk-item\"><div class=\"sk-label-container\"><div class=\"sk-label sk-toggleable\"><input class=\"sk-toggleable__control sk-hidden--visually\" id=\"sk-estimator-id-302\" type=\"checkbox\" ><label for=\"sk-estimator-id-302\" class=\"sk-toggleable__label sk-toggleable__label-arrow\">numimputer</label><div class=\"sk-toggleable__content\"><pre>[&#x27;Hours&#x27;, &#x27;streams&#x27;]</pre></div></div></div><div class=\"sk-serial\"><div class=\"sk-item\"><div class=\"sk-serial\"><div class=\"sk-item\"><div class=\"sk-estimator sk-toggleable\"><input class=\"sk-toggleable__control sk-hidden--visually\" id=\"sk-estimator-id-303\" type=\"checkbox\" ><label for=\"sk-estimator-id-303\" class=\"sk-toggleable__label sk-toggleable__label-arrow\">IterativeImputer</label><div class=\"sk-toggleable__content\"><pre>IterativeImputer(initial_strategy=&#x27;median&#x27;, random_state=42)</pre></div></div></div></div></div></div></div></div><div class=\"sk-parallel-item\"><div class=\"sk-item\"><div class=\"sk-label-container\"><div class=\"sk-label sk-toggleable\"><input class=\"sk-toggleable__control sk-hidden--visually\" id=\"sk-estimator-id-304\" type=\"checkbox\" ><label for=\"sk-estimator-id-304\" class=\"sk-toggleable__label sk-toggleable__label-arrow\">age_pipe</label><div class=\"sk-toggleable__content\"><pre>[&#x27;Age&#x27;]</pre></div></div></div><div class=\"sk-serial\"><div class=\"sk-item\"><div class=\"sk-serial\"><div class=\"sk-item\"><div class=\"sk-estimator sk-toggleable\"><input class=\"sk-toggleable__control sk-hidden--visually\" id=\"sk-estimator-id-305\" type=\"checkbox\" ><label for=\"sk-estimator-id-305\" class=\"sk-toggleable__label sk-toggleable__label-arrow\">StandardScaler</label><div class=\"sk-toggleable__content\"><pre>StandardScaler()</pre></div></div></div></div></div></div></div></div><div class=\"sk-parallel-item\"><div class=\"sk-item\"><div class=\"sk-label-container\"><div class=\"sk-label sk-toggleable\"><input class=\"sk-toggleable__control sk-hidden--visually\" id=\"sk-estimator-id-306\" type=\"checkbox\" ><label for=\"sk-estimator-id-306\" class=\"sk-toggleable__label sk-toggleable__label-arrow\">survey_pipe</label><div class=\"sk-toggleable__content\"><pre>[&#x27;GADE&#x27;, &#x27;Game&#x27;, &#x27;Platform&#x27;, &#x27;earnings&#x27;, &#x27;whyplay&#x27;, &#x27;Gender&#x27;, &#x27;Work&#x27;, &#x27;Degree&#x27;, &#x27;Birthplace&#x27;, &#x27;Residence&#x27;, &#x27;Playstyle&#x27;]</pre></div></div></div><div class=\"sk-serial\"><div class=\"sk-item\"><div class=\"sk-serial\"><div class=\"sk-item\"><div class=\"sk-estimator sk-toggleable\"><input class=\"sk-toggleable__control sk-hidden--visually\" id=\"sk-estimator-id-307\" type=\"checkbox\" ><label for=\"sk-estimator-id-307\" class=\"sk-toggleable__label sk-toggleable__label-arrow\">OneHotEncoder</label><div class=\"sk-toggleable__content\"><pre>OneHotEncoder(handle_unknown=&#x27;ignore&#x27;, sparse_output=False)</pre></div></div></div></div></div></div></div></div></div></div><div class=\"sk-item\"><div class=\"sk-estimator sk-toggleable\"><input class=\"sk-toggleable__control sk-hidden--visually\" id=\"sk-estimator-id-308\" type=\"checkbox\" ><label for=\"sk-estimator-id-308\" class=\"sk-toggleable__label sk-toggleable__label-arrow\">LogisticRegression</label><div class=\"sk-toggleable__content\"><pre>LogisticRegression(max_iter=10000, random_state=42)</pre></div></div></div></div></div></div></div>"
      ],
      "text/plain": [
       "Pipeline(steps=[('preprocess',\n",
       "                 ColumnTransformer(transformers=[('obj_imputer',\n",
       "                                                  Pipeline(steps=[('ohe_transform',\n",
       "                                                                   OneHotEncoder(handle_unknown='ignore',\n",
       "                                                                                 sparse_output=False))]),\n",
       "                                                  ['GADE', 'Work']),\n",
       "                                                 ('numimputer',\n",
       "                                                  Pipeline(steps=[('numimputer',\n",
       "                                                                   IterativeImputer(initial_strategy='median',\n",
       "                                                                                    random_state=42))]),\n",
       "                                                  ['Hours', 'streams']),\n",
       "                                                 ('age_pipe',\n",
       "                                                  Pipeline(steps=[('agenorm',\n",
       "                                                                   StandardScaler())]),\n",
       "                                                  ['Age']),\n",
       "                                                 ('survey_pipe',\n",
       "                                                  Pipeline(steps=[('ohe_transform',\n",
       "                                                                   OneHotEncoder(handle_unknown='ignore',\n",
       "                                                                                 sparse_output=False))]),\n",
       "                                                  ['GADE', 'Game', 'Platform',\n",
       "                                                   'earnings', 'whyplay',\n",
       "                                                   'Gender', 'Work', 'Degree',\n",
       "                                                   'Birthplace', 'Residence',\n",
       "                                                   'Playstyle'])])),\n",
       "                ('model', LogisticRegression(max_iter=10000, random_state=42))])"
      ]
     },
     "execution_count": 149,
     "metadata": {},
     "output_type": "execute_result"
    }
   ],
   "source": [
    "log_pipe.fit(X1_train, y1_train)"
   ]
  },
  {
   "cell_type": "code",
   "execution_count": 150,
   "metadata": {},
   "outputs": [],
   "source": [
    "log_y_pred = log_pipe.predict(X1_test)"
   ]
  },
  {
   "cell_type": "code",
   "execution_count": 94,
   "metadata": {},
   "outputs": [
    {
     "data": {
      "text/plain": [
       "<sklearn.metrics._plot.confusion_matrix.ConfusionMatrixDisplay at 0x204ac11f850>"
      ]
     },
     "execution_count": 94,
     "metadata": {},
     "output_type": "execute_result"
    },
    {
     "data": {
      "image/png": "[encoded data removed]",
      "text/plain": [
       "<Figure size 640x480 with 2 Axes>"
      ]
     },
     "metadata": {},
     "output_type": "display_data"
    }
   ],
   "source": [
    "ConfusionMatrixDisplay.from_predictions(y1_test,log_y_pred, normalize='all')"
   ]
  },
  {
   "cell_type": "code",
   "execution_count": 97,
   "metadata": {},
   "outputs": [
    {
     "name": "stdout",
     "output_type": "stream",
     "text": [
      "                  precision    recall  f1-score   support\n",
      "\n",
      " minimal anxiety       0.42      0.46      0.44       817\n",
      "    mild anxiety       0.75      0.81      0.78      1683\n",
      "moderate anxiety       0.35      0.17      0.23       373\n",
      "  severe anxiety       0.40      0.27      0.32       142\n",
      "\n",
      "        accuracy                           0.61      3015\n",
      "       macro avg       0.48      0.43      0.44      3015\n",
      "    weighted avg       0.59      0.61      0.60      3015\n",
      "\n"
     ]
    }
   ],
   "source": [
    "print(classification_report(y1_test,log_y_pred, target_names=target_labels))"
   ]
  },
  {
   "cell_type": "markdown",
   "metadata": {},
   "source": [
    "### Model Evaluation "
   ]
  },
  {
   "cell_type": "markdown",
   "metadata": {},
   "source": [
    "### Logistic Regression Hyperparameter Tuning "
   ]
  },
  {
   "cell_type": "markdown",
   "metadata": {},
   "source": [
    "## Model II | Decision Trees "
   ]
  },
  {
   "cell_type": "code",
   "execution_count": 215,
   "metadata": {},
   "outputs": [],
   "source": [
    "# separating our target and predictor variables \n",
    "X_2 = gamers_df.drop(columns=non_predict_cols)\n",
    "y_2 = gamers_df['anxiety']"
   ]
  },
  {
   "cell_type": "code",
   "execution_count": 216,
   "metadata": {},
   "outputs": [],
   "source": [
    "# label encoding our target variable \n",
    "y_2 = lab_enc.fit_transform(y_2)"
   ]
  },
  {
   "cell_type": "code",
   "execution_count": 217,
   "metadata": {},
   "outputs": [],
   "source": [
    "# splitting our data into training and test set \n",
    "X2_train, X2_test, y2_train, y2_test = train_test_split(X_2, y_2, test_size = 0.25,random_state=42)"
   ]
  },
  {
   "cell_type": "code",
   "execution_count": 218,
   "metadata": {},
   "outputs": [
    {
     "data": {
      "text/html": [
       "<style>#sk-container-id-59 {color: black;background-color: white;}#sk-container-id-59 pre{padding: 0;}#sk-container-id-59 div.sk-toggleable {background-color: white;}#sk-container-id-59 label.sk-toggleable__label {cursor: pointer;display: block;width: 100%;margin-bottom: 0;padding: 0.3em;box-sizing: border-box;text-align: center;}#sk-container-id-59 label.sk-toggleable__label-arrow:before {content: \"▸\";float: left;margin-right: 0.25em;color: #696969;}#sk-container-id-59 label.sk-toggleable__label-arrow:hover:before {color: black;}#sk-container-id-59 div.sk-estimator:hover label.sk-toggleable__label-arrow:before {color: black;}#sk-container-id-59 div.sk-toggleable__content {max-height: 0;max-width: 0;overflow: hidden;text-align: left;background-color: #f0f8ff;}#sk-container-id-59 div.sk-toggleable__content pre {margin: 0.2em;color: black;border-radius: 0.25em;background-color: #f0f8ff;}#sk-container-id-59 input.sk-toggleable__control:checked~div.sk-toggleable__content {max-height: 200px;max-width: 100%;overflow: auto;}#sk-container-id-59 input.sk-toggleable__control:checked~label.sk-toggleable__label-arrow:before {content: \"▾\";}#sk-container-id-59 div.sk-estimator input.sk-toggleable__control:checked~label.sk-toggleable__label {background-color: #d4ebff;}#sk-container-id-59 div.sk-label input.sk-toggleable__control:checked~label.sk-toggleable__label {background-color: #d4ebff;}#sk-container-id-59 input.sk-hidden--visually {border: 0;clip: rect(1px 1px 1px 1px);clip: rect(1px, 1px, 1px, 1px);height: 1px;margin: -1px;overflow: hidden;padding: 0;position: absolute;width: 1px;}#sk-container-id-59 div.sk-estimator {font-family: monospace;background-color: #f0f8ff;border: 1px dotted black;border-radius: 0.25em;box-sizing: border-box;margin-bottom: 0.5em;}#sk-container-id-59 div.sk-estimator:hover {background-color: #d4ebff;}#sk-container-id-59 div.sk-parallel-item::after {content: \"\";width: 100%;border-bottom: 1px solid gray;flex-grow: 1;}#sk-container-id-59 div.sk-label:hover label.sk-toggleable__label {background-color: #d4ebff;}#sk-container-id-59 div.sk-serial::before {content: \"\";position: absolute;border-left: 1px solid gray;box-sizing: border-box;top: 0;bottom: 0;left: 50%;z-index: 0;}#sk-container-id-59 div.sk-serial {display: flex;flex-direction: column;align-items: center;background-color: white;padding-right: 0.2em;padding-left: 0.2em;position: relative;}#sk-container-id-59 div.sk-item {position: relative;z-index: 1;}#sk-container-id-59 div.sk-parallel {display: flex;align-items: stretch;justify-content: center;background-color: white;position: relative;}#sk-container-id-59 div.sk-item::before, #sk-container-id-59 div.sk-parallel-item::before {content: \"\";position: absolute;border-left: 1px solid gray;box-sizing: border-box;top: 0;bottom: 0;left: 50%;z-index: -1;}#sk-container-id-59 div.sk-parallel-item {display: flex;flex-direction: column;z-index: 1;position: relative;background-color: white;}#sk-container-id-59 div.sk-parallel-item:first-child::after {align-self: flex-end;width: 50%;}#sk-container-id-59 div.sk-parallel-item:last-child::after {align-self: flex-start;width: 50%;}#sk-container-id-59 div.sk-parallel-item:only-child::after {width: 0;}#sk-container-id-59 div.sk-dashed-wrapped {border: 1px dashed gray;margin: 0 0.4em 0.5em 0.4em;box-sizing: border-box;padding-bottom: 0.4em;background-color: white;}#sk-container-id-59 div.sk-label label {font-family: monospace;font-weight: bold;display: inline-block;line-height: 1.2em;}#sk-container-id-59 div.sk-label-container {text-align: center;}#sk-container-id-59 div.sk-container {/* jupyter's `normalize.less` sets `[hidden] { display: none; }` but bootstrap.min.css set `[hidden] { display: none !important; }` so we also need the `!important` here to be able to override the default hidden behavior on the sphinx rendered scikit-learn.org. See: https://github.com/scikit-learn/scikit-learn/issues/21755 */display: inline-block !important;position: relative;}#sk-container-id-59 div.sk-text-repr-fallback {display: none;}</style><div id=\"sk-container-id-59\" class=\"sk-top-container\"><div class=\"sk-text-repr-fallback\"><pre>ColumnTransformer(transformers=[(&#x27;obj_imputer&#x27;,\n",
       "                                 Pipeline(steps=[(&#x27;ohe_transform&#x27;,\n",
       "                                                  OneHotEncoder(handle_unknown=&#x27;ignore&#x27;,\n",
       "                                                                sparse_output=False))]),\n",
       "                                 [&#x27;GADE&#x27;, &#x27;Work&#x27;]),\n",
       "                                (&#x27;numimputer&#x27;,\n",
       "                                 Pipeline(steps=[(&#x27;numimputer&#x27;,\n",
       "                                                  IterativeImputer(initial_strategy=&#x27;median&#x27;,\n",
       "                                                                   random_state=42))]),\n",
       "                                 [&#x27;Hours&#x27;, &#x27;streams&#x27;]),\n",
       "                                (&#x27;age_pipe&#x27;,\n",
       "                                 Pipeline(steps=[(&#x27;agenorm&#x27;,\n",
       "                                                  StandardScaler())]),\n",
       "                                 [&#x27;Age&#x27;]),\n",
       "                                (&#x27;survey_pipe&#x27;,\n",
       "                                 Pipeline(steps=[(&#x27;ohe_transform&#x27;,\n",
       "                                                  OneHotEncoder(handle_unknown=&#x27;ignore&#x27;,\n",
       "                                                                sparse_output=False))]),\n",
       "                                 [&#x27;GADE&#x27;, &#x27;Game&#x27;, &#x27;Platform&#x27;, &#x27;earnings&#x27;,\n",
       "                                  &#x27;whyplay&#x27;, &#x27;Gender&#x27;, &#x27;Work&#x27;, &#x27;Degree&#x27;,\n",
       "                                  &#x27;Birthplace&#x27;, &#x27;Residence&#x27;, &#x27;Playstyle&#x27;])])</pre><b>In a Jupyter environment, please rerun this cell to show the HTML representation or trust the notebook. <br />On GitHub, the HTML representation is unable to render, please try loading this page with nbviewer.org.</b></div><div class=\"sk-container\" hidden><div class=\"sk-item sk-dashed-wrapped\"><div class=\"sk-label-container\"><div class=\"sk-label sk-toggleable\"><input class=\"sk-toggleable__control sk-hidden--visually\" id=\"sk-estimator-id-471\" type=\"checkbox\" ><label for=\"sk-estimator-id-471\" class=\"sk-toggleable__label sk-toggleable__label-arrow\">ColumnTransformer</label><div class=\"sk-toggleable__content\"><pre>ColumnTransformer(transformers=[(&#x27;obj_imputer&#x27;,\n",
       "                                 Pipeline(steps=[(&#x27;ohe_transform&#x27;,\n",
       "                                                  OneHotEncoder(handle_unknown=&#x27;ignore&#x27;,\n",
       "                                                                sparse_output=False))]),\n",
       "                                 [&#x27;GADE&#x27;, &#x27;Work&#x27;]),\n",
       "                                (&#x27;numimputer&#x27;,\n",
       "                                 Pipeline(steps=[(&#x27;numimputer&#x27;,\n",
       "                                                  IterativeImputer(initial_strategy=&#x27;median&#x27;,\n",
       "                                                                   random_state=42))]),\n",
       "                                 [&#x27;Hours&#x27;, &#x27;streams&#x27;]),\n",
       "                                (&#x27;age_pipe&#x27;,\n",
       "                                 Pipeline(steps=[(&#x27;agenorm&#x27;,\n",
       "                                                  StandardScaler())]),\n",
       "                                 [&#x27;Age&#x27;]),\n",
       "                                (&#x27;survey_pipe&#x27;,\n",
       "                                 Pipeline(steps=[(&#x27;ohe_transform&#x27;,\n",
       "                                                  OneHotEncoder(handle_unknown=&#x27;ignore&#x27;,\n",
       "                                                                sparse_output=False))]),\n",
       "                                 [&#x27;GADE&#x27;, &#x27;Game&#x27;, &#x27;Platform&#x27;, &#x27;earnings&#x27;,\n",
       "                                  &#x27;whyplay&#x27;, &#x27;Gender&#x27;, &#x27;Work&#x27;, &#x27;Degree&#x27;,\n",
       "                                  &#x27;Birthplace&#x27;, &#x27;Residence&#x27;, &#x27;Playstyle&#x27;])])</pre></div></div></div><div class=\"sk-parallel\"><div class=\"sk-parallel-item\"><div class=\"sk-item\"><div class=\"sk-label-container\"><div class=\"sk-label sk-toggleable\"><input class=\"sk-toggleable__control sk-hidden--visually\" id=\"sk-estimator-id-472\" type=\"checkbox\" ><label for=\"sk-estimator-id-472\" class=\"sk-toggleable__label sk-toggleable__label-arrow\">obj_imputer</label><div class=\"sk-toggleable__content\"><pre>[&#x27;GADE&#x27;, &#x27;Work&#x27;]</pre></div></div></div><div class=\"sk-serial\"><div class=\"sk-item\"><div class=\"sk-serial\"><div class=\"sk-item\"><div class=\"sk-estimator sk-toggleable\"><input class=\"sk-toggleable__control sk-hidden--visually\" id=\"sk-estimator-id-473\" type=\"checkbox\" ><label for=\"sk-estimator-id-473\" class=\"sk-toggleable__label sk-toggleable__label-arrow\">OneHotEncoder</label><div class=\"sk-toggleable__content\"><pre>OneHotEncoder(handle_unknown=&#x27;ignore&#x27;, sparse_output=False)</pre></div></div></div></div></div></div></div></div><div class=\"sk-parallel-item\"><div class=\"sk-item\"><div class=\"sk-label-container\"><div class=\"sk-label sk-toggleable\"><input class=\"sk-toggleable__control sk-hidden--visually\" id=\"sk-estimator-id-474\" type=\"checkbox\" ><label for=\"sk-estimator-id-474\" class=\"sk-toggleable__label sk-toggleable__label-arrow\">numimputer</label><div class=\"sk-toggleable__content\"><pre>[&#x27;Hours&#x27;, &#x27;streams&#x27;]</pre></div></div></div><div class=\"sk-serial\"><div class=\"sk-item\"><div class=\"sk-serial\"><div class=\"sk-item\"><div class=\"sk-estimator sk-toggleable\"><input class=\"sk-toggleable__control sk-hidden--visually\" id=\"sk-estimator-id-475\" type=\"checkbox\" ><label for=\"sk-estimator-id-475\" class=\"sk-toggleable__label sk-toggleable__label-arrow\">IterativeImputer</label><div class=\"sk-toggleable__content\"><pre>IterativeImputer(initial_strategy=&#x27;median&#x27;, random_state=42)</pre></div></div></div></div></div></div></div></div><div class=\"sk-parallel-item\"><div class=\"sk-item\"><div class=\"sk-label-container\"><div class=\"sk-label sk-toggleable\"><input class=\"sk-toggleable__control sk-hidden--visually\" id=\"sk-estimator-id-476\" type=\"checkbox\" ><label for=\"sk-estimator-id-476\" class=\"sk-toggleable__label sk-toggleable__label-arrow\">age_pipe</label><div class=\"sk-toggleable__content\"><pre>[&#x27;Age&#x27;]</pre></div></div></div><div class=\"sk-serial\"><div class=\"sk-item\"><div class=\"sk-serial\"><div class=\"sk-item\"><div class=\"sk-estimator sk-toggleable\"><input class=\"sk-toggleable__control sk-hidden--visually\" id=\"sk-estimator-id-477\" type=\"checkbox\" ><label for=\"sk-estimator-id-477\" class=\"sk-toggleable__label sk-toggleable__label-arrow\">StandardScaler</label><div class=\"sk-toggleable__content\"><pre>StandardScaler()</pre></div></div></div></div></div></div></div></div><div class=\"sk-parallel-item\"><div class=\"sk-item\"><div class=\"sk-label-container\"><div class=\"sk-label sk-toggleable\"><input class=\"sk-toggleable__control sk-hidden--visually\" id=\"sk-estimator-id-478\" type=\"checkbox\" ><label for=\"sk-estimator-id-478\" class=\"sk-toggleable__label sk-toggleable__label-arrow\">survey_pipe</label><div class=\"sk-toggleable__content\"><pre>[&#x27;GADE&#x27;, &#x27;Game&#x27;, &#x27;Platform&#x27;, &#x27;earnings&#x27;, &#x27;whyplay&#x27;, &#x27;Gender&#x27;, &#x27;Work&#x27;, &#x27;Degree&#x27;, &#x27;Birthplace&#x27;, &#x27;Residence&#x27;, &#x27;Playstyle&#x27;]</pre></div></div></div><div class=\"sk-serial\"><div class=\"sk-item\"><div class=\"sk-serial\"><div class=\"sk-item\"><div class=\"sk-estimator sk-toggleable\"><input class=\"sk-toggleable__control sk-hidden--visually\" id=\"sk-estimator-id-479\" type=\"checkbox\" ><label for=\"sk-estimator-id-479\" class=\"sk-toggleable__label sk-toggleable__label-arrow\">OneHotEncoder</label><div class=\"sk-toggleable__content\"><pre>OneHotEncoder(handle_unknown=&#x27;ignore&#x27;, sparse_output=False)</pre></div></div></div></div></div></div></div></div></div></div></div></div>"
      ],
      "text/plain": [
       "ColumnTransformer(transformers=[('obj_imputer',\n",
       "                                 Pipeline(steps=[('ohe_transform',\n",
       "                                                  OneHotEncoder(handle_unknown='ignore',\n",
       "                                                                sparse_output=False))]),\n",
       "                                 ['GADE', 'Work']),\n",
       "                                ('numimputer',\n",
       "                                 Pipeline(steps=[('numimputer',\n",
       "                                                  IterativeImputer(initial_strategy='median',\n",
       "                                                                   random_state=42))]),\n",
       "                                 ['Hours', 'streams']),\n",
       "                                ('age_pipe',\n",
       "                                 Pipeline(steps=[('agenorm',\n",
       "                                                  StandardScaler())]),\n",
       "                                 ['Age']),\n",
       "                                ('survey_pipe',\n",
       "                                 Pipeline(steps=[('ohe_transform',\n",
       "                                                  OneHotEncoder(handle_unknown='ignore',\n",
       "                                                                sparse_output=False))]),\n",
       "                                 ['GADE', 'Game', 'Platform', 'earnings',\n",
       "                                  'whyplay', 'Gender', 'Work', 'Degree',\n",
       "                                  'Birthplace', 'Residence', 'Playstyle'])])"
      ]
     },
     "execution_count": 218,
     "metadata": {},
     "output_type": "execute_result"
    }
   ],
   "source": [
    "dt_ct = ColumnTransformer(\n",
    "    [(\"obj_imputer\", survey_pipeline, ['GADE','Work']), \n",
    "     (\"numimputer\", game_habits_pipeline, ['Hours','streams']),\n",
    "     ('age_pipe', age_pipeline, ['Age']),\n",
    "     ('survey_pipe', survey_pipeline, ohe_cols)\n",
    "    ])\n",
    "dt_ct"
   ]
  },
  {
   "cell_type": "code",
   "execution_count": 219,
   "metadata": {
    "scrolled": true
   },
   "outputs": [
    {
     "data": {
      "text/html": [
       "<style>#sk-container-id-60 {color: black;background-color: white;}#sk-container-id-60 pre{padding: 0;}#sk-container-id-60 div.sk-toggleable {background-color: white;}#sk-container-id-60 label.sk-toggleable__label {cursor: pointer;display: block;width: 100%;margin-bottom: 0;padding: 0.3em;box-sizing: border-box;text-align: center;}#sk-container-id-60 label.sk-toggleable__label-arrow:before {content: \"▸\";float: left;margin-right: 0.25em;color: #696969;}#sk-container-id-60 label.sk-toggleable__label-arrow:hover:before {color: black;}#sk-container-id-60 div.sk-estimator:hover label.sk-toggleable__label-arrow:before {color: black;}#sk-container-id-60 div.sk-toggleable__content {max-height: 0;max-width: 0;overflow: hidden;text-align: left;background-color: #f0f8ff;}#sk-container-id-60 div.sk-toggleable__content pre {margin: 0.2em;color: black;border-radius: 0.25em;background-color: #f0f8ff;}#sk-container-id-60 input.sk-toggleable__control:checked~div.sk-toggleable__content {max-height: 200px;max-width: 100%;overflow: auto;}#sk-container-id-60 input.sk-toggleable__control:checked~label.sk-toggleable__label-arrow:before {content: \"▾\";}#sk-container-id-60 div.sk-estimator input.sk-toggleable__control:checked~label.sk-toggleable__label {background-color: #d4ebff;}#sk-container-id-60 div.sk-label input.sk-toggleable__control:checked~label.sk-toggleable__label {background-color: #d4ebff;}#sk-container-id-60 input.sk-hidden--visually {border: 0;clip: rect(1px 1px 1px 1px);clip: rect(1px, 1px, 1px, 1px);height: 1px;margin: -1px;overflow: hidden;padding: 0;position: absolute;width: 1px;}#sk-container-id-60 div.sk-estimator {font-family: monospace;background-color: #f0f8ff;border: 1px dotted black;border-radius: 0.25em;box-sizing: border-box;margin-bottom: 0.5em;}#sk-container-id-60 div.sk-estimator:hover {background-color: #d4ebff;}#sk-container-id-60 div.sk-parallel-item::after {content: \"\";width: 100%;border-bottom: 1px solid gray;flex-grow: 1;}#sk-container-id-60 div.sk-label:hover label.sk-toggleable__label {background-color: #d4ebff;}#sk-container-id-60 div.sk-serial::before {content: \"\";position: absolute;border-left: 1px solid gray;box-sizing: border-box;top: 0;bottom: 0;left: 50%;z-index: 0;}#sk-container-id-60 div.sk-serial {display: flex;flex-direction: column;align-items: center;background-color: white;padding-right: 0.2em;padding-left: 0.2em;position: relative;}#sk-container-id-60 div.sk-item {position: relative;z-index: 1;}#sk-container-id-60 div.sk-parallel {display: flex;align-items: stretch;justify-content: center;background-color: white;position: relative;}#sk-container-id-60 div.sk-item::before, #sk-container-id-60 div.sk-parallel-item::before {content: \"\";position: absolute;border-left: 1px solid gray;box-sizing: border-box;top: 0;bottom: 0;left: 50%;z-index: -1;}#sk-container-id-60 div.sk-parallel-item {display: flex;flex-direction: column;z-index: 1;position: relative;background-color: white;}#sk-container-id-60 div.sk-parallel-item:first-child::after {align-self: flex-end;width: 50%;}#sk-container-id-60 div.sk-parallel-item:last-child::after {align-self: flex-start;width: 50%;}#sk-container-id-60 div.sk-parallel-item:only-child::after {width: 0;}#sk-container-id-60 div.sk-dashed-wrapped {border: 1px dashed gray;margin: 0 0.4em 0.5em 0.4em;box-sizing: border-box;padding-bottom: 0.4em;background-color: white;}#sk-container-id-60 div.sk-label label {font-family: monospace;font-weight: bold;display: inline-block;line-height: 1.2em;}#sk-container-id-60 div.sk-label-container {text-align: center;}#sk-container-id-60 div.sk-container {/* jupyter's `normalize.less` sets `[hidden] { display: none; }` but bootstrap.min.css set `[hidden] { display: none !important; }` so we also need the `!important` here to be able to override the default hidden behavior on the sphinx rendered scikit-learn.org. See: https://github.com/scikit-learn/scikit-learn/issues/21755 */display: inline-block !important;position: relative;}#sk-container-id-60 div.sk-text-repr-fallback {display: none;}</style><div id=\"sk-container-id-60\" class=\"sk-top-container\"><div class=\"sk-text-repr-fallback\"><pre>Pipeline(steps=[(&#x27;preprocess&#x27;,\n",
       "                 ColumnTransformer(transformers=[(&#x27;obj_imputer&#x27;,\n",
       "                                                  Pipeline(steps=[(&#x27;ohe_transform&#x27;,\n",
       "                                                                   OneHotEncoder(handle_unknown=&#x27;ignore&#x27;,\n",
       "                                                                                 sparse_output=False))]),\n",
       "                                                  [&#x27;GADE&#x27;, &#x27;Work&#x27;]),\n",
       "                                                 (&#x27;numimputer&#x27;,\n",
       "                                                  Pipeline(steps=[(&#x27;numimputer&#x27;,\n",
       "                                                                   IterativeImputer(initial_strategy=&#x27;median&#x27;,\n",
       "                                                                                    random_state=42))]),\n",
       "                                                  [&#x27;Hours&#x27;, &#x27;streams&#x27;]),\n",
       "                                                 (&#x27;age_pipe&#x27;,\n",
       "                                                  Pipeline(steps=[(&#x27;agenorm&#x27;,\n",
       "                                                                   StandardScaler())]),\n",
       "                                                  [&#x27;Age&#x27;]),\n",
       "                                                 (&#x27;survey_pipe&#x27;,\n",
       "                                                  Pipeline(steps=[(&#x27;ohe_transform&#x27;,\n",
       "                                                                   OneHotEncoder(handle_unknown=&#x27;ignore&#x27;,\n",
       "                                                                                 sparse_output=False))]),\n",
       "                                                  [&#x27;GADE&#x27;, &#x27;Game&#x27;, &#x27;Platform&#x27;,\n",
       "                                                   &#x27;earnings&#x27;, &#x27;whyplay&#x27;,\n",
       "                                                   &#x27;Gender&#x27;, &#x27;Work&#x27;, &#x27;Degree&#x27;,\n",
       "                                                   &#x27;Birthplace&#x27;, &#x27;Residence&#x27;,\n",
       "                                                   &#x27;Playstyle&#x27;])])),\n",
       "                (&#x27;model&#x27;, DecisionTreeClassifier(random_state=42))])</pre><b>In a Jupyter environment, please rerun this cell to show the HTML representation or trust the notebook. <br />On GitHub, the HTML representation is unable to render, please try loading this page with nbviewer.org.</b></div><div class=\"sk-container\" hidden><div class=\"sk-item sk-dashed-wrapped\"><div class=\"sk-label-container\"><div class=\"sk-label sk-toggleable\"><input class=\"sk-toggleable__control sk-hidden--visually\" id=\"sk-estimator-id-480\" type=\"checkbox\" ><label for=\"sk-estimator-id-480\" class=\"sk-toggleable__label sk-toggleable__label-arrow\">Pipeline</label><div class=\"sk-toggleable__content\"><pre>Pipeline(steps=[(&#x27;preprocess&#x27;,\n",
       "                 ColumnTransformer(transformers=[(&#x27;obj_imputer&#x27;,\n",
       "                                                  Pipeline(steps=[(&#x27;ohe_transform&#x27;,\n",
       "                                                                   OneHotEncoder(handle_unknown=&#x27;ignore&#x27;,\n",
       "                                                                                 sparse_output=False))]),\n",
       "                                                  [&#x27;GADE&#x27;, &#x27;Work&#x27;]),\n",
       "                                                 (&#x27;numimputer&#x27;,\n",
       "                                                  Pipeline(steps=[(&#x27;numimputer&#x27;,\n",
       "                                                                   IterativeImputer(initial_strategy=&#x27;median&#x27;,\n",
       "                                                                                    random_state=42))]),\n",
       "                                                  [&#x27;Hours&#x27;, &#x27;streams&#x27;]),\n",
       "                                                 (&#x27;age_pipe&#x27;,\n",
       "                                                  Pipeline(steps=[(&#x27;agenorm&#x27;,\n",
       "                                                                   StandardScaler())]),\n",
       "                                                  [&#x27;Age&#x27;]),\n",
       "                                                 (&#x27;survey_pipe&#x27;,\n",
       "                                                  Pipeline(steps=[(&#x27;ohe_transform&#x27;,\n",
       "                                                                   OneHotEncoder(handle_unknown=&#x27;ignore&#x27;,\n",
       "                                                                                 sparse_output=False))]),\n",
       "                                                  [&#x27;GADE&#x27;, &#x27;Game&#x27;, &#x27;Platform&#x27;,\n",
       "                                                   &#x27;earnings&#x27;, &#x27;whyplay&#x27;,\n",
       "                                                   &#x27;Gender&#x27;, &#x27;Work&#x27;, &#x27;Degree&#x27;,\n",
       "                                                   &#x27;Birthplace&#x27;, &#x27;Residence&#x27;,\n",
       "                                                   &#x27;Playstyle&#x27;])])),\n",
       "                (&#x27;model&#x27;, DecisionTreeClassifier(random_state=42))])</pre></div></div></div><div class=\"sk-serial\"><div class=\"sk-item sk-dashed-wrapped\"><div class=\"sk-label-container\"><div class=\"sk-label sk-toggleable\"><input class=\"sk-toggleable__control sk-hidden--visually\" id=\"sk-estimator-id-481\" type=\"checkbox\" ><label for=\"sk-estimator-id-481\" class=\"sk-toggleable__label sk-toggleable__label-arrow\">preprocess: ColumnTransformer</label><div class=\"sk-toggleable__content\"><pre>ColumnTransformer(transformers=[(&#x27;obj_imputer&#x27;,\n",
       "                                 Pipeline(steps=[(&#x27;ohe_transform&#x27;,\n",
       "                                                  OneHotEncoder(handle_unknown=&#x27;ignore&#x27;,\n",
       "                                                                sparse_output=False))]),\n",
       "                                 [&#x27;GADE&#x27;, &#x27;Work&#x27;]),\n",
       "                                (&#x27;numimputer&#x27;,\n",
       "                                 Pipeline(steps=[(&#x27;numimputer&#x27;,\n",
       "                                                  IterativeImputer(initial_strategy=&#x27;median&#x27;,\n",
       "                                                                   random_state=42))]),\n",
       "                                 [&#x27;Hours&#x27;, &#x27;streams&#x27;]),\n",
       "                                (&#x27;age_pipe&#x27;,\n",
       "                                 Pipeline(steps=[(&#x27;agenorm&#x27;,\n",
       "                                                  StandardScaler())]),\n",
       "                                 [&#x27;Age&#x27;]),\n",
       "                                (&#x27;survey_pipe&#x27;,\n",
       "                                 Pipeline(steps=[(&#x27;ohe_transform&#x27;,\n",
       "                                                  OneHotEncoder(handle_unknown=&#x27;ignore&#x27;,\n",
       "                                                                sparse_output=False))]),\n",
       "                                 [&#x27;GADE&#x27;, &#x27;Game&#x27;, &#x27;Platform&#x27;, &#x27;earnings&#x27;,\n",
       "                                  &#x27;whyplay&#x27;, &#x27;Gender&#x27;, &#x27;Work&#x27;, &#x27;Degree&#x27;,\n",
       "                                  &#x27;Birthplace&#x27;, &#x27;Residence&#x27;, &#x27;Playstyle&#x27;])])</pre></div></div></div><div class=\"sk-parallel\"><div class=\"sk-parallel-item\"><div class=\"sk-item\"><div class=\"sk-label-container\"><div class=\"sk-label sk-toggleable\"><input class=\"sk-toggleable__control sk-hidden--visually\" id=\"sk-estimator-id-482\" type=\"checkbox\" ><label for=\"sk-estimator-id-482\" class=\"sk-toggleable__label sk-toggleable__label-arrow\">obj_imputer</label><div class=\"sk-toggleable__content\"><pre>[&#x27;GADE&#x27;, &#x27;Work&#x27;]</pre></div></div></div><div class=\"sk-serial\"><div class=\"sk-item\"><div class=\"sk-serial\"><div class=\"sk-item\"><div class=\"sk-estimator sk-toggleable\"><input class=\"sk-toggleable__control sk-hidden--visually\" id=\"sk-estimator-id-483\" type=\"checkbox\" ><label for=\"sk-estimator-id-483\" class=\"sk-toggleable__label sk-toggleable__label-arrow\">OneHotEncoder</label><div class=\"sk-toggleable__content\"><pre>OneHotEncoder(handle_unknown=&#x27;ignore&#x27;, sparse_output=False)</pre></div></div></div></div></div></div></div></div><div class=\"sk-parallel-item\"><div class=\"sk-item\"><div class=\"sk-label-container\"><div class=\"sk-label sk-toggleable\"><input class=\"sk-toggleable__control sk-hidden--visually\" id=\"sk-estimator-id-484\" type=\"checkbox\" ><label for=\"sk-estimator-id-484\" class=\"sk-toggleable__label sk-toggleable__label-arrow\">numimputer</label><div class=\"sk-toggleable__content\"><pre>[&#x27;Hours&#x27;, &#x27;streams&#x27;]</pre></div></div></div><div class=\"sk-serial\"><div class=\"sk-item\"><div class=\"sk-serial\"><div class=\"sk-item\"><div class=\"sk-estimator sk-toggleable\"><input class=\"sk-toggleable__control sk-hidden--visually\" id=\"sk-estimator-id-485\" type=\"checkbox\" ><label for=\"sk-estimator-id-485\" class=\"sk-toggleable__label sk-toggleable__label-arrow\">IterativeImputer</label><div class=\"sk-toggleable__content\"><pre>IterativeImputer(initial_strategy=&#x27;median&#x27;, random_state=42)</pre></div></div></div></div></div></div></div></div><div class=\"sk-parallel-item\"><div class=\"sk-item\"><div class=\"sk-label-container\"><div class=\"sk-label sk-toggleable\"><input class=\"sk-toggleable__control sk-hidden--visually\" id=\"sk-estimator-id-486\" type=\"checkbox\" ><label for=\"sk-estimator-id-486\" class=\"sk-toggleable__label sk-toggleable__label-arrow\">age_pipe</label><div class=\"sk-toggleable__content\"><pre>[&#x27;Age&#x27;]</pre></div></div></div><div class=\"sk-serial\"><div class=\"sk-item\"><div class=\"sk-serial\"><div class=\"sk-item\"><div class=\"sk-estimator sk-toggleable\"><input class=\"sk-toggleable__control sk-hidden--visually\" id=\"sk-estimator-id-487\" type=\"checkbox\" ><label for=\"sk-estimator-id-487\" class=\"sk-toggleable__label sk-toggleable__label-arrow\">StandardScaler</label><div class=\"sk-toggleable__content\"><pre>StandardScaler()</pre></div></div></div></div></div></div></div></div><div class=\"sk-parallel-item\"><div class=\"sk-item\"><div class=\"sk-label-container\"><div class=\"sk-label sk-toggleable\"><input class=\"sk-toggleable__control sk-hidden--visually\" id=\"sk-estimator-id-488\" type=\"checkbox\" ><label for=\"sk-estimator-id-488\" class=\"sk-toggleable__label sk-toggleable__label-arrow\">survey_pipe</label><div class=\"sk-toggleable__content\"><pre>[&#x27;GADE&#x27;, &#x27;Game&#x27;, &#x27;Platform&#x27;, &#x27;earnings&#x27;, &#x27;whyplay&#x27;, &#x27;Gender&#x27;, &#x27;Work&#x27;, &#x27;Degree&#x27;, &#x27;Birthplace&#x27;, &#x27;Residence&#x27;, &#x27;Playstyle&#x27;]</pre></div></div></div><div class=\"sk-serial\"><div class=\"sk-item\"><div class=\"sk-serial\"><div class=\"sk-item\"><div class=\"sk-estimator sk-toggleable\"><input class=\"sk-toggleable__control sk-hidden--visually\" id=\"sk-estimator-id-489\" type=\"checkbox\" ><label for=\"sk-estimator-id-489\" class=\"sk-toggleable__label sk-toggleable__label-arrow\">OneHotEncoder</label><div class=\"sk-toggleable__content\"><pre>OneHotEncoder(handle_unknown=&#x27;ignore&#x27;, sparse_output=False)</pre></div></div></div></div></div></div></div></div></div></div><div class=\"sk-item\"><div class=\"sk-estimator sk-toggleable\"><input class=\"sk-toggleable__control sk-hidden--visually\" id=\"sk-estimator-id-490\" type=\"checkbox\" ><label for=\"sk-estimator-id-490\" class=\"sk-toggleable__label sk-toggleable__label-arrow\">DecisionTreeClassifier</label><div class=\"sk-toggleable__content\"><pre>DecisionTreeClassifier(random_state=42)</pre></div></div></div></div></div></div></div>"
      ],
      "text/plain": [
       "Pipeline(steps=[('preprocess',\n",
       "                 ColumnTransformer(transformers=[('obj_imputer',\n",
       "                                                  Pipeline(steps=[('ohe_transform',\n",
       "                                                                   OneHotEncoder(handle_unknown='ignore',\n",
       "                                                                                 sparse_output=False))]),\n",
       "                                                  ['GADE', 'Work']),\n",
       "                                                 ('numimputer',\n",
       "                                                  Pipeline(steps=[('numimputer',\n",
       "                                                                   IterativeImputer(initial_strategy='median',\n",
       "                                                                                    random_state=42))]),\n",
       "                                                  ['Hours', 'streams']),\n",
       "                                                 ('age_pipe',\n",
       "                                                  Pipeline(steps=[('agenorm',\n",
       "                                                                   StandardScaler())]),\n",
       "                                                  ['Age']),\n",
       "                                                 ('survey_pipe',\n",
       "                                                  Pipeline(steps=[('ohe_transform',\n",
       "                                                                   OneHotEncoder(handle_unknown='ignore',\n",
       "                                                                                 sparse_output=False))]),\n",
       "                                                  ['GADE', 'Game', 'Platform',\n",
       "                                                   'earnings', 'whyplay',\n",
       "                                                   'Gender', 'Work', 'Degree',\n",
       "                                                   'Birthplace', 'Residence',\n",
       "                                                   'Playstyle'])])),\n",
       "                ('model', DecisionTreeClassifier(random_state=42))])"
      ]
     },
     "execution_count": 219,
     "metadata": {},
     "output_type": "execute_result"
    }
   ],
   "source": [
    "# DecisionTree pipeline with all features standardized \n",
    "dt_pipe = Pipeline([('preprocess', dt_ct),\n",
    "     ('model',\n",
    "      DecisionTreeClassifier(random_state=42))])\n",
    "dt_pipe"
   ]
  },
  {
   "cell_type": "code",
   "execution_count": 220,
   "metadata": {},
   "outputs": [
    {
     "data": {
      "text/html": [
       "<style>#sk-container-id-61 {color: black;background-color: white;}#sk-container-id-61 pre{padding: 0;}#sk-container-id-61 div.sk-toggleable {background-color: white;}#sk-container-id-61 label.sk-toggleable__label {cursor: pointer;display: block;width: 100%;margin-bottom: 0;padding: 0.3em;box-sizing: border-box;text-align: center;}#sk-container-id-61 label.sk-toggleable__label-arrow:before {content: \"▸\";float: left;margin-right: 0.25em;color: #696969;}#sk-container-id-61 label.sk-toggleable__label-arrow:hover:before {color: black;}#sk-container-id-61 div.sk-estimator:hover label.sk-toggleable__label-arrow:before {color: black;}#sk-container-id-61 div.sk-toggleable__content {max-height: 0;max-width: 0;overflow: hidden;text-align: left;background-color: #f0f8ff;}#sk-container-id-61 div.sk-toggleable__content pre {margin: 0.2em;color: black;border-radius: 0.25em;background-color: #f0f8ff;}#sk-container-id-61 input.sk-toggleable__control:checked~div.sk-toggleable__content {max-height: 200px;max-width: 100%;overflow: auto;}#sk-container-id-61 input.sk-toggleable__control:checked~label.sk-toggleable__label-arrow:before {content: \"▾\";}#sk-container-id-61 div.sk-estimator input.sk-toggleable__control:checked~label.sk-toggleable__label {background-color: #d4ebff;}#sk-container-id-61 div.sk-label input.sk-toggleable__control:checked~label.sk-toggleable__label {background-color: #d4ebff;}#sk-container-id-61 input.sk-hidden--visually {border: 0;clip: rect(1px 1px 1px 1px);clip: rect(1px, 1px, 1px, 1px);height: 1px;margin: -1px;overflow: hidden;padding: 0;position: absolute;width: 1px;}#sk-container-id-61 div.sk-estimator {font-family: monospace;background-color: #f0f8ff;border: 1px dotted black;border-radius: 0.25em;box-sizing: border-box;margin-bottom: 0.5em;}#sk-container-id-61 div.sk-estimator:hover {background-color: #d4ebff;}#sk-container-id-61 div.sk-parallel-item::after {content: \"\";width: 100%;border-bottom: 1px solid gray;flex-grow: 1;}#sk-container-id-61 div.sk-label:hover label.sk-toggleable__label {background-color: #d4ebff;}#sk-container-id-61 div.sk-serial::before {content: \"\";position: absolute;border-left: 1px solid gray;box-sizing: border-box;top: 0;bottom: 0;left: 50%;z-index: 0;}#sk-container-id-61 div.sk-serial {display: flex;flex-direction: column;align-items: center;background-color: white;padding-right: 0.2em;padding-left: 0.2em;position: relative;}#sk-container-id-61 div.sk-item {position: relative;z-index: 1;}#sk-container-id-61 div.sk-parallel {display: flex;align-items: stretch;justify-content: center;background-color: white;position: relative;}#sk-container-id-61 div.sk-item::before, #sk-container-id-61 div.sk-parallel-item::before {content: \"\";position: absolute;border-left: 1px solid gray;box-sizing: border-box;top: 0;bottom: 0;left: 50%;z-index: -1;}#sk-container-id-61 div.sk-parallel-item {display: flex;flex-direction: column;z-index: 1;position: relative;background-color: white;}#sk-container-id-61 div.sk-parallel-item:first-child::after {align-self: flex-end;width: 50%;}#sk-container-id-61 div.sk-parallel-item:last-child::after {align-self: flex-start;width: 50%;}#sk-container-id-61 div.sk-parallel-item:only-child::after {width: 0;}#sk-container-id-61 div.sk-dashed-wrapped {border: 1px dashed gray;margin: 0 0.4em 0.5em 0.4em;box-sizing: border-box;padding-bottom: 0.4em;background-color: white;}#sk-container-id-61 div.sk-label label {font-family: monospace;font-weight: bold;display: inline-block;line-height: 1.2em;}#sk-container-id-61 div.sk-label-container {text-align: center;}#sk-container-id-61 div.sk-container {/* jupyter's `normalize.less` sets `[hidden] { display: none; }` but bootstrap.min.css set `[hidden] { display: none !important; }` so we also need the `!important` here to be able to override the default hidden behavior on the sphinx rendered scikit-learn.org. See: https://github.com/scikit-learn/scikit-learn/issues/21755 */display: inline-block !important;position: relative;}#sk-container-id-61 div.sk-text-repr-fallback {display: none;}</style><div id=\"sk-container-id-61\" class=\"sk-top-container\"><div class=\"sk-text-repr-fallback\"><pre>Pipeline(steps=[(&#x27;preprocess&#x27;,\n",
       "                 ColumnTransformer(transformers=[(&#x27;obj_imputer&#x27;,\n",
       "                                                  Pipeline(steps=[(&#x27;ohe_transform&#x27;,\n",
       "                                                                   OneHotEncoder(handle_unknown=&#x27;ignore&#x27;,\n",
       "                                                                                 sparse_output=False))]),\n",
       "                                                  [&#x27;GADE&#x27;, &#x27;Work&#x27;]),\n",
       "                                                 (&#x27;numimputer&#x27;,\n",
       "                                                  Pipeline(steps=[(&#x27;numimputer&#x27;,\n",
       "                                                                   IterativeImputer(initial_strategy=&#x27;median&#x27;,\n",
       "                                                                                    random_state=42))]),\n",
       "                                                  [&#x27;Hours&#x27;, &#x27;streams&#x27;]),\n",
       "                                                 (&#x27;age_pipe&#x27;,\n",
       "                                                  Pipeline(steps=[(&#x27;agenorm&#x27;,\n",
       "                                                                   StandardScaler())]),\n",
       "                                                  [&#x27;Age&#x27;]),\n",
       "                                                 (&#x27;survey_pipe&#x27;,\n",
       "                                                  Pipeline(steps=[(&#x27;ohe_transform&#x27;,\n",
       "                                                                   OneHotEncoder(handle_unknown=&#x27;ignore&#x27;,\n",
       "                                                                                 sparse_output=False))]),\n",
       "                                                  [&#x27;GADE&#x27;, &#x27;Game&#x27;, &#x27;Platform&#x27;,\n",
       "                                                   &#x27;earnings&#x27;, &#x27;whyplay&#x27;,\n",
       "                                                   &#x27;Gender&#x27;, &#x27;Work&#x27;, &#x27;Degree&#x27;,\n",
       "                                                   &#x27;Birthplace&#x27;, &#x27;Residence&#x27;,\n",
       "                                                   &#x27;Playstyle&#x27;])])),\n",
       "                (&#x27;model&#x27;, DecisionTreeClassifier(random_state=42))])</pre><b>In a Jupyter environment, please rerun this cell to show the HTML representation or trust the notebook. <br />On GitHub, the HTML representation is unable to render, please try loading this page with nbviewer.org.</b></div><div class=\"sk-container\" hidden><div class=\"sk-item sk-dashed-wrapped\"><div class=\"sk-label-container\"><div class=\"sk-label sk-toggleable\"><input class=\"sk-toggleable__control sk-hidden--visually\" id=\"sk-estimator-id-491\" type=\"checkbox\" ><label for=\"sk-estimator-id-491\" class=\"sk-toggleable__label sk-toggleable__label-arrow\">Pipeline</label><div class=\"sk-toggleable__content\"><pre>Pipeline(steps=[(&#x27;preprocess&#x27;,\n",
       "                 ColumnTransformer(transformers=[(&#x27;obj_imputer&#x27;,\n",
       "                                                  Pipeline(steps=[(&#x27;ohe_transform&#x27;,\n",
       "                                                                   OneHotEncoder(handle_unknown=&#x27;ignore&#x27;,\n",
       "                                                                                 sparse_output=False))]),\n",
       "                                                  [&#x27;GADE&#x27;, &#x27;Work&#x27;]),\n",
       "                                                 (&#x27;numimputer&#x27;,\n",
       "                                                  Pipeline(steps=[(&#x27;numimputer&#x27;,\n",
       "                                                                   IterativeImputer(initial_strategy=&#x27;median&#x27;,\n",
       "                                                                                    random_state=42))]),\n",
       "                                                  [&#x27;Hours&#x27;, &#x27;streams&#x27;]),\n",
       "                                                 (&#x27;age_pipe&#x27;,\n",
       "                                                  Pipeline(steps=[(&#x27;agenorm&#x27;,\n",
       "                                                                   StandardScaler())]),\n",
       "                                                  [&#x27;Age&#x27;]),\n",
       "                                                 (&#x27;survey_pipe&#x27;,\n",
       "                                                  Pipeline(steps=[(&#x27;ohe_transform&#x27;,\n",
       "                                                                   OneHotEncoder(handle_unknown=&#x27;ignore&#x27;,\n",
       "                                                                                 sparse_output=False))]),\n",
       "                                                  [&#x27;GADE&#x27;, &#x27;Game&#x27;, &#x27;Platform&#x27;,\n",
       "                                                   &#x27;earnings&#x27;, &#x27;whyplay&#x27;,\n",
       "                                                   &#x27;Gender&#x27;, &#x27;Work&#x27;, &#x27;Degree&#x27;,\n",
       "                                                   &#x27;Birthplace&#x27;, &#x27;Residence&#x27;,\n",
       "                                                   &#x27;Playstyle&#x27;])])),\n",
       "                (&#x27;model&#x27;, DecisionTreeClassifier(random_state=42))])</pre></div></div></div><div class=\"sk-serial\"><div class=\"sk-item sk-dashed-wrapped\"><div class=\"sk-label-container\"><div class=\"sk-label sk-toggleable\"><input class=\"sk-toggleable__control sk-hidden--visually\" id=\"sk-estimator-id-492\" type=\"checkbox\" ><label for=\"sk-estimator-id-492\" class=\"sk-toggleable__label sk-toggleable__label-arrow\">preprocess: ColumnTransformer</label><div class=\"sk-toggleable__content\"><pre>ColumnTransformer(transformers=[(&#x27;obj_imputer&#x27;,\n",
       "                                 Pipeline(steps=[(&#x27;ohe_transform&#x27;,\n",
       "                                                  OneHotEncoder(handle_unknown=&#x27;ignore&#x27;,\n",
       "                                                                sparse_output=False))]),\n",
       "                                 [&#x27;GADE&#x27;, &#x27;Work&#x27;]),\n",
       "                                (&#x27;numimputer&#x27;,\n",
       "                                 Pipeline(steps=[(&#x27;numimputer&#x27;,\n",
       "                                                  IterativeImputer(initial_strategy=&#x27;median&#x27;,\n",
       "                                                                   random_state=42))]),\n",
       "                                 [&#x27;Hours&#x27;, &#x27;streams&#x27;]),\n",
       "                                (&#x27;age_pipe&#x27;,\n",
       "                                 Pipeline(steps=[(&#x27;agenorm&#x27;,\n",
       "                                                  StandardScaler())]),\n",
       "                                 [&#x27;Age&#x27;]),\n",
       "                                (&#x27;survey_pipe&#x27;,\n",
       "                                 Pipeline(steps=[(&#x27;ohe_transform&#x27;,\n",
       "                                                  OneHotEncoder(handle_unknown=&#x27;ignore&#x27;,\n",
       "                                                                sparse_output=False))]),\n",
       "                                 [&#x27;GADE&#x27;, &#x27;Game&#x27;, &#x27;Platform&#x27;, &#x27;earnings&#x27;,\n",
       "                                  &#x27;whyplay&#x27;, &#x27;Gender&#x27;, &#x27;Work&#x27;, &#x27;Degree&#x27;,\n",
       "                                  &#x27;Birthplace&#x27;, &#x27;Residence&#x27;, &#x27;Playstyle&#x27;])])</pre></div></div></div><div class=\"sk-parallel\"><div class=\"sk-parallel-item\"><div class=\"sk-item\"><div class=\"sk-label-container\"><div class=\"sk-label sk-toggleable\"><input class=\"sk-toggleable__control sk-hidden--visually\" id=\"sk-estimator-id-493\" type=\"checkbox\" ><label for=\"sk-estimator-id-493\" class=\"sk-toggleable__label sk-toggleable__label-arrow\">obj_imputer</label><div class=\"sk-toggleable__content\"><pre>[&#x27;GADE&#x27;, &#x27;Work&#x27;]</pre></div></div></div><div class=\"sk-serial\"><div class=\"sk-item\"><div class=\"sk-serial\"><div class=\"sk-item\"><div class=\"sk-estimator sk-toggleable\"><input class=\"sk-toggleable__control sk-hidden--visually\" id=\"sk-estimator-id-494\" type=\"checkbox\" ><label for=\"sk-estimator-id-494\" class=\"sk-toggleable__label sk-toggleable__label-arrow\">OneHotEncoder</label><div class=\"sk-toggleable__content\"><pre>OneHotEncoder(handle_unknown=&#x27;ignore&#x27;, sparse_output=False)</pre></div></div></div></div></div></div></div></div><div class=\"sk-parallel-item\"><div class=\"sk-item\"><div class=\"sk-label-container\"><div class=\"sk-label sk-toggleable\"><input class=\"sk-toggleable__control sk-hidden--visually\" id=\"sk-estimator-id-495\" type=\"checkbox\" ><label for=\"sk-estimator-id-495\" class=\"sk-toggleable__label sk-toggleable__label-arrow\">numimputer</label><div class=\"sk-toggleable__content\"><pre>[&#x27;Hours&#x27;, &#x27;streams&#x27;]</pre></div></div></div><div class=\"sk-serial\"><div class=\"sk-item\"><div class=\"sk-serial\"><div class=\"sk-item\"><div class=\"sk-estimator sk-toggleable\"><input class=\"sk-toggleable__control sk-hidden--visually\" id=\"sk-estimator-id-496\" type=\"checkbox\" ><label for=\"sk-estimator-id-496\" class=\"sk-toggleable__label sk-toggleable__label-arrow\">IterativeImputer</label><div class=\"sk-toggleable__content\"><pre>IterativeImputer(initial_strategy=&#x27;median&#x27;, random_state=42)</pre></div></div></div></div></div></div></div></div><div class=\"sk-parallel-item\"><div class=\"sk-item\"><div class=\"sk-label-container\"><div class=\"sk-label sk-toggleable\"><input class=\"sk-toggleable__control sk-hidden--visually\" id=\"sk-estimator-id-497\" type=\"checkbox\" ><label for=\"sk-estimator-id-497\" class=\"sk-toggleable__label sk-toggleable__label-arrow\">age_pipe</label><div class=\"sk-toggleable__content\"><pre>[&#x27;Age&#x27;]</pre></div></div></div><div class=\"sk-serial\"><div class=\"sk-item\"><div class=\"sk-serial\"><div class=\"sk-item\"><div class=\"sk-estimator sk-toggleable\"><input class=\"sk-toggleable__control sk-hidden--visually\" id=\"sk-estimator-id-498\" type=\"checkbox\" ><label for=\"sk-estimator-id-498\" class=\"sk-toggleable__label sk-toggleable__label-arrow\">StandardScaler</label><div class=\"sk-toggleable__content\"><pre>StandardScaler()</pre></div></div></div></div></div></div></div></div><div class=\"sk-parallel-item\"><div class=\"sk-item\"><div class=\"sk-label-container\"><div class=\"sk-label sk-toggleable\"><input class=\"sk-toggleable__control sk-hidden--visually\" id=\"sk-estimator-id-499\" type=\"checkbox\" ><label for=\"sk-estimator-id-499\" class=\"sk-toggleable__label sk-toggleable__label-arrow\">survey_pipe</label><div class=\"sk-toggleable__content\"><pre>[&#x27;GADE&#x27;, &#x27;Game&#x27;, &#x27;Platform&#x27;, &#x27;earnings&#x27;, &#x27;whyplay&#x27;, &#x27;Gender&#x27;, &#x27;Work&#x27;, &#x27;Degree&#x27;, &#x27;Birthplace&#x27;, &#x27;Residence&#x27;, &#x27;Playstyle&#x27;]</pre></div></div></div><div class=\"sk-serial\"><div class=\"sk-item\"><div class=\"sk-serial\"><div class=\"sk-item\"><div class=\"sk-estimator sk-toggleable\"><input class=\"sk-toggleable__control sk-hidden--visually\" id=\"sk-estimator-id-500\" type=\"checkbox\" ><label for=\"sk-estimator-id-500\" class=\"sk-toggleable__label sk-toggleable__label-arrow\">OneHotEncoder</label><div class=\"sk-toggleable__content\"><pre>OneHotEncoder(handle_unknown=&#x27;ignore&#x27;, sparse_output=False)</pre></div></div></div></div></div></div></div></div></div></div><div class=\"sk-item\"><div class=\"sk-estimator sk-toggleable\"><input class=\"sk-toggleable__control sk-hidden--visually\" id=\"sk-estimator-id-501\" type=\"checkbox\" ><label for=\"sk-estimator-id-501\" class=\"sk-toggleable__label sk-toggleable__label-arrow\">DecisionTreeClassifier</label><div class=\"sk-toggleable__content\"><pre>DecisionTreeClassifier(random_state=42)</pre></div></div></div></div></div></div></div>"
      ],
      "text/plain": [
       "Pipeline(steps=[('preprocess',\n",
       "                 ColumnTransformer(transformers=[('obj_imputer',\n",
       "                                                  Pipeline(steps=[('ohe_transform',\n",
       "                                                                   OneHotEncoder(handle_unknown='ignore',\n",
       "                                                                                 sparse_output=False))]),\n",
       "                                                  ['GADE', 'Work']),\n",
       "                                                 ('numimputer',\n",
       "                                                  Pipeline(steps=[('numimputer',\n",
       "                                                                   IterativeImputer(initial_strategy='median',\n",
       "                                                                                    random_state=42))]),\n",
       "                                                  ['Hours', 'streams']),\n",
       "                                                 ('age_pipe',\n",
       "                                                  Pipeline(steps=[('agenorm',\n",
       "                                                                   StandardScaler())]),\n",
       "                                                  ['Age']),\n",
       "                                                 ('survey_pipe',\n",
       "                                                  Pipeline(steps=[('ohe_transform',\n",
       "                                                                   OneHotEncoder(handle_unknown='ignore',\n",
       "                                                                                 sparse_output=False))]),\n",
       "                                                  ['GADE', 'Game', 'Platform',\n",
       "                                                   'earnings', 'whyplay',\n",
       "                                                   'Gender', 'Work', 'Degree',\n",
       "                                                   'Birthplace', 'Residence',\n",
       "                                                   'Playstyle'])])),\n",
       "                ('model', DecisionTreeClassifier(random_state=42))])"
      ]
     },
     "execution_count": 220,
     "metadata": {},
     "output_type": "execute_result"
    }
   ],
   "source": [
    "dt_pipe.fit(X2_train,y2_train)"
   ]
  },
  {
   "cell_type": "code",
   "execution_count": 221,
   "metadata": {},
   "outputs": [],
   "source": [
    "dt_y_pred = dt_pipe.predict(X2_test)"
   ]
  },
  {
   "cell_type": "code",
   "execution_count": 222,
   "metadata": {},
   "outputs": [
    {
     "data": {
      "text/plain": [
       "<sklearn.metrics._plot.confusion_matrix.ConfusionMatrixDisplay at 0x204b5e87d30>"
      ]
     },
     "execution_count": 222,
     "metadata": {},
     "output_type": "execute_result"
    },
    {
     "data": {
      "image/png": "[encoded data removed]",
      "text/plain": [
       "<Figure size 640x480 with 2 Axes>"
      ]
     },
     "metadata": {},
     "output_type": "display_data"
    }
   ],
   "source": [
    "ConfusionMatrixDisplay.from_predictions(y2_test,dt_y_pred, normalize='all')"
   ]
  },
  {
   "cell_type": "code",
   "execution_count": 223,
   "metadata": {},
   "outputs": [
    {
     "name": "stdout",
     "output_type": "stream",
     "text": [
      "                  precision    recall  f1-score   support\n",
      "\n",
      " minimal anxiety       0.33      0.35      0.34       817\n",
      "    mild anxiety       0.69      0.68      0.68      1683\n",
      "moderate anxiety       0.26      0.24      0.25       373\n",
      "  severe anxiety       0.17      0.18      0.17       142\n",
      "\n",
      "        accuracy                           0.51      3015\n",
      "       macro avg       0.36      0.36      0.36      3015\n",
      "    weighted avg       0.51      0.51      0.51      3015\n",
      "\n"
     ]
    }
   ],
   "source": [
    "print(classification_report(y1_test,dt_y_pred, target_names=target_labels))"
   ]
  },
  {
   "cell_type": "markdown",
   "metadata": {},
   "source": [
    "### Model Evaluation "
   ]
  },
  {
   "cell_type": "markdown",
   "metadata": {},
   "source": [
    "### Decision Tree  Hyperparameter Tuning "
   ]
  },
  {
   "cell_type": "markdown",
   "metadata": {},
   "source": [
    "## Model III | Random Forest "
   ]
  },
  {
   "cell_type": "code",
   "execution_count": 226,
   "metadata": {},
   "outputs": [],
   "source": [
    "# separating our target and predictor variables \n",
    "X_3 = gamers_df.drop(columns=non_predict_cols)\n",
    "y_3 = gamers_df['anxiety']"
   ]
  },
  {
   "cell_type": "code",
   "execution_count": 227,
   "metadata": {},
   "outputs": [],
   "source": [
    "# label encoding our target variable \n",
    "y_3 = lab_enc.fit_transform(y_3)"
   ]
  },
  {
   "cell_type": "code",
   "execution_count": 228,
   "metadata": {},
   "outputs": [],
   "source": [
    "# splitting our data into training and test set \n",
    "X3_train, X3_test, y3_train, y3_test = train_test_split(X_3, y_3, test_size = 0.25,random_state=42)"
   ]
  },
  {
   "cell_type": "code",
   "execution_count": 229,
   "metadata": {},
   "outputs": [
    {
     "data": {
      "text/html": [
       "<style>#sk-container-id-62 {color: black;background-color: white;}#sk-container-id-62 pre{padding: 0;}#sk-container-id-62 div.sk-toggleable {background-color: white;}#sk-container-id-62 label.sk-toggleable__label {cursor: pointer;display: block;width: 100%;margin-bottom: 0;padding: 0.3em;box-sizing: border-box;text-align: center;}#sk-container-id-62 label.sk-toggleable__label-arrow:before {content: \"▸\";float: left;margin-right: 0.25em;color: #696969;}#sk-container-id-62 label.sk-toggleable__label-arrow:hover:before {color: black;}#sk-container-id-62 div.sk-estimator:hover label.sk-toggleable__label-arrow:before {color: black;}#sk-container-id-62 div.sk-toggleable__content {max-height: 0;max-width: 0;overflow: hidden;text-align: left;background-color: #f0f8ff;}#sk-container-id-62 div.sk-toggleable__content pre {margin: 0.2em;color: black;border-radius: 0.25em;background-color: #f0f8ff;}#sk-container-id-62 input.sk-toggleable__control:checked~div.sk-toggleable__content {max-height: 200px;max-width: 100%;overflow: auto;}#sk-container-id-62 input.sk-toggleable__control:checked~label.sk-toggleable__label-arrow:before {content: \"▾\";}#sk-container-id-62 div.sk-estimator input.sk-toggleable__control:checked~label.sk-toggleable__label {background-color: #d4ebff;}#sk-container-id-62 div.sk-label input.sk-toggleable__control:checked~label.sk-toggleable__label {background-color: #d4ebff;}#sk-container-id-62 input.sk-hidden--visually {border: 0;clip: rect(1px 1px 1px 1px);clip: rect(1px, 1px, 1px, 1px);height: 1px;margin: -1px;overflow: hidden;padding: 0;position: absolute;width: 1px;}#sk-container-id-62 div.sk-estimator {font-family: monospace;background-color: #f0f8ff;border: 1px dotted black;border-radius: 0.25em;box-sizing: border-box;margin-bottom: 0.5em;}#sk-container-id-62 div.sk-estimator:hover {background-color: #d4ebff;}#sk-container-id-62 div.sk-parallel-item::after {content: \"\";width: 100%;border-bottom: 1px solid gray;flex-grow: 1;}#sk-container-id-62 div.sk-label:hover label.sk-toggleable__label {background-color: #d4ebff;}#sk-container-id-62 div.sk-serial::before {content: \"\";position: absolute;border-left: 1px solid gray;box-sizing: border-box;top: 0;bottom: 0;left: 50%;z-index: 0;}#sk-container-id-62 div.sk-serial {display: flex;flex-direction: column;align-items: center;background-color: white;padding-right: 0.2em;padding-left: 0.2em;position: relative;}#sk-container-id-62 div.sk-item {position: relative;z-index: 1;}#sk-container-id-62 div.sk-parallel {display: flex;align-items: stretch;justify-content: center;background-color: white;position: relative;}#sk-container-id-62 div.sk-item::before, #sk-container-id-62 div.sk-parallel-item::before {content: \"\";position: absolute;border-left: 1px solid gray;box-sizing: border-box;top: 0;bottom: 0;left: 50%;z-index: -1;}#sk-container-id-62 div.sk-parallel-item {display: flex;flex-direction: column;z-index: 1;position: relative;background-color: white;}#sk-container-id-62 div.sk-parallel-item:first-child::after {align-self: flex-end;width: 50%;}#sk-container-id-62 div.sk-parallel-item:last-child::after {align-self: flex-start;width: 50%;}#sk-container-id-62 div.sk-parallel-item:only-child::after {width: 0;}#sk-container-id-62 div.sk-dashed-wrapped {border: 1px dashed gray;margin: 0 0.4em 0.5em 0.4em;box-sizing: border-box;padding-bottom: 0.4em;background-color: white;}#sk-container-id-62 div.sk-label label {font-family: monospace;font-weight: bold;display: inline-block;line-height: 1.2em;}#sk-container-id-62 div.sk-label-container {text-align: center;}#sk-container-id-62 div.sk-container {/* jupyter's `normalize.less` sets `[hidden] { display: none; }` but bootstrap.min.css set `[hidden] { display: none !important; }` so we also need the `!important` here to be able to override the default hidden behavior on the sphinx rendered scikit-learn.org. See: https://github.com/scikit-learn/scikit-learn/issues/21755 */display: inline-block !important;position: relative;}#sk-container-id-62 div.sk-text-repr-fallback {display: none;}</style><div id=\"sk-container-id-62\" class=\"sk-top-container\"><div class=\"sk-text-repr-fallback\"><pre>ColumnTransformer(transformers=[(&#x27;obj_imputer&#x27;,\n",
       "                                 Pipeline(steps=[(&#x27;ohe_transform&#x27;,\n",
       "                                                  OneHotEncoder(handle_unknown=&#x27;ignore&#x27;,\n",
       "                                                                sparse_output=False))]),\n",
       "                                 [&#x27;GADE&#x27;, &#x27;Work&#x27;]),\n",
       "                                (&#x27;numimputer&#x27;,\n",
       "                                 Pipeline(steps=[(&#x27;numimputer&#x27;,\n",
       "                                                  IterativeImputer(initial_strategy=&#x27;median&#x27;,\n",
       "                                                                   random_state=42))]),\n",
       "                                 [&#x27;Hours&#x27;, &#x27;streams&#x27;]),\n",
       "                                (&#x27;age_pipe&#x27;,\n",
       "                                 Pipeline(steps=[(&#x27;agenorm&#x27;,\n",
       "                                                  StandardScaler())]),\n",
       "                                 [&#x27;Age&#x27;]),\n",
       "                                (&#x27;survey_pipe&#x27;,\n",
       "                                 Pipeline(steps=[(&#x27;ohe_transform&#x27;,\n",
       "                                                  OneHotEncoder(handle_unknown=&#x27;ignore&#x27;,\n",
       "                                                                sparse_output=False))]),\n",
       "                                 [&#x27;GADE&#x27;, &#x27;Game&#x27;, &#x27;Platform&#x27;, &#x27;earnings&#x27;,\n",
       "                                  &#x27;whyplay&#x27;, &#x27;Gender&#x27;, &#x27;Work&#x27;, &#x27;Degree&#x27;,\n",
       "                                  &#x27;Birthplace&#x27;, &#x27;Residence&#x27;, &#x27;Playstyle&#x27;])])</pre><b>In a Jupyter environment, please rerun this cell to show the HTML representation or trust the notebook. <br />On GitHub, the HTML representation is unable to render, please try loading this page with nbviewer.org.</b></div><div class=\"sk-container\" hidden><div class=\"sk-item sk-dashed-wrapped\"><div class=\"sk-label-container\"><div class=\"sk-label sk-toggleable\"><input class=\"sk-toggleable__control sk-hidden--visually\" id=\"sk-estimator-id-502\" type=\"checkbox\" ><label for=\"sk-estimator-id-502\" class=\"sk-toggleable__label sk-toggleable__label-arrow\">ColumnTransformer</label><div class=\"sk-toggleable__content\"><pre>ColumnTransformer(transformers=[(&#x27;obj_imputer&#x27;,\n",
       "                                 Pipeline(steps=[(&#x27;ohe_transform&#x27;,\n",
       "                                                  OneHotEncoder(handle_unknown=&#x27;ignore&#x27;,\n",
       "                                                                sparse_output=False))]),\n",
       "                                 [&#x27;GADE&#x27;, &#x27;Work&#x27;]),\n",
       "                                (&#x27;numimputer&#x27;,\n",
       "                                 Pipeline(steps=[(&#x27;numimputer&#x27;,\n",
       "                                                  IterativeImputer(initial_strategy=&#x27;median&#x27;,\n",
       "                                                                   random_state=42))]),\n",
       "                                 [&#x27;Hours&#x27;, &#x27;streams&#x27;]),\n",
       "                                (&#x27;age_pipe&#x27;,\n",
       "                                 Pipeline(steps=[(&#x27;agenorm&#x27;,\n",
       "                                                  StandardScaler())]),\n",
       "                                 [&#x27;Age&#x27;]),\n",
       "                                (&#x27;survey_pipe&#x27;,\n",
       "                                 Pipeline(steps=[(&#x27;ohe_transform&#x27;,\n",
       "                                                  OneHotEncoder(handle_unknown=&#x27;ignore&#x27;,\n",
       "                                                                sparse_output=False))]),\n",
       "                                 [&#x27;GADE&#x27;, &#x27;Game&#x27;, &#x27;Platform&#x27;, &#x27;earnings&#x27;,\n",
       "                                  &#x27;whyplay&#x27;, &#x27;Gender&#x27;, &#x27;Work&#x27;, &#x27;Degree&#x27;,\n",
       "                                  &#x27;Birthplace&#x27;, &#x27;Residence&#x27;, &#x27;Playstyle&#x27;])])</pre></div></div></div><div class=\"sk-parallel\"><div class=\"sk-parallel-item\"><div class=\"sk-item\"><div class=\"sk-label-container\"><div class=\"sk-label sk-toggleable\"><input class=\"sk-toggleable__control sk-hidden--visually\" id=\"sk-estimator-id-503\" type=\"checkbox\" ><label for=\"sk-estimator-id-503\" class=\"sk-toggleable__label sk-toggleable__label-arrow\">obj_imputer</label><div class=\"sk-toggleable__content\"><pre>[&#x27;GADE&#x27;, &#x27;Work&#x27;]</pre></div></div></div><div class=\"sk-serial\"><div class=\"sk-item\"><div class=\"sk-serial\"><div class=\"sk-item\"><div class=\"sk-estimator sk-toggleable\"><input class=\"sk-toggleable__control sk-hidden--visually\" id=\"sk-estimator-id-504\" type=\"checkbox\" ><label for=\"sk-estimator-id-504\" class=\"sk-toggleable__label sk-toggleable__label-arrow\">OneHotEncoder</label><div class=\"sk-toggleable__content\"><pre>OneHotEncoder(handle_unknown=&#x27;ignore&#x27;, sparse_output=False)</pre></div></div></div></div></div></div></div></div><div class=\"sk-parallel-item\"><div class=\"sk-item\"><div class=\"sk-label-container\"><div class=\"sk-label sk-toggleable\"><input class=\"sk-toggleable__control sk-hidden--visually\" id=\"sk-estimator-id-505\" type=\"checkbox\" ><label for=\"sk-estimator-id-505\" class=\"sk-toggleable__label sk-toggleable__label-arrow\">numimputer</label><div class=\"sk-toggleable__content\"><pre>[&#x27;Hours&#x27;, &#x27;streams&#x27;]</pre></div></div></div><div class=\"sk-serial\"><div class=\"sk-item\"><div class=\"sk-serial\"><div class=\"sk-item\"><div class=\"sk-estimator sk-toggleable\"><input class=\"sk-toggleable__control sk-hidden--visually\" id=\"sk-estimator-id-506\" type=\"checkbox\" ><label for=\"sk-estimator-id-506\" class=\"sk-toggleable__label sk-toggleable__label-arrow\">IterativeImputer</label><div class=\"sk-toggleable__content\"><pre>IterativeImputer(initial_strategy=&#x27;median&#x27;, random_state=42)</pre></div></div></div></div></div></div></div></div><div class=\"sk-parallel-item\"><div class=\"sk-item\"><div class=\"sk-label-container\"><div class=\"sk-label sk-toggleable\"><input class=\"sk-toggleable__control sk-hidden--visually\" id=\"sk-estimator-id-507\" type=\"checkbox\" ><label for=\"sk-estimator-id-507\" class=\"sk-toggleable__label sk-toggleable__label-arrow\">age_pipe</label><div class=\"sk-toggleable__content\"><pre>[&#x27;Age&#x27;]</pre></div></div></div><div class=\"sk-serial\"><div class=\"sk-item\"><div class=\"sk-serial\"><div class=\"sk-item\"><div class=\"sk-estimator sk-toggleable\"><input class=\"sk-toggleable__control sk-hidden--visually\" id=\"sk-estimator-id-508\" type=\"checkbox\" ><label for=\"sk-estimator-id-508\" class=\"sk-toggleable__label sk-toggleable__label-arrow\">StandardScaler</label><div class=\"sk-toggleable__content\"><pre>StandardScaler()</pre></div></div></div></div></div></div></div></div><div class=\"sk-parallel-item\"><div class=\"sk-item\"><div class=\"sk-label-container\"><div class=\"sk-label sk-toggleable\"><input class=\"sk-toggleable__control sk-hidden--visually\" id=\"sk-estimator-id-509\" type=\"checkbox\" ><label for=\"sk-estimator-id-509\" class=\"sk-toggleable__label sk-toggleable__label-arrow\">survey_pipe</label><div class=\"sk-toggleable__content\"><pre>[&#x27;GADE&#x27;, &#x27;Game&#x27;, &#x27;Platform&#x27;, &#x27;earnings&#x27;, &#x27;whyplay&#x27;, &#x27;Gender&#x27;, &#x27;Work&#x27;, &#x27;Degree&#x27;, &#x27;Birthplace&#x27;, &#x27;Residence&#x27;, &#x27;Playstyle&#x27;]</pre></div></div></div><div class=\"sk-serial\"><div class=\"sk-item\"><div class=\"sk-serial\"><div class=\"sk-item\"><div class=\"sk-estimator sk-toggleable\"><input class=\"sk-toggleable__control sk-hidden--visually\" id=\"sk-estimator-id-510\" type=\"checkbox\" ><label for=\"sk-estimator-id-510\" class=\"sk-toggleable__label sk-toggleable__label-arrow\">OneHotEncoder</label><div class=\"sk-toggleable__content\"><pre>OneHotEncoder(handle_unknown=&#x27;ignore&#x27;, sparse_output=False)</pre></div></div></div></div></div></div></div></div></div></div></div></div>"
      ],
      "text/plain": [
       "ColumnTransformer(transformers=[('obj_imputer',\n",
       "                                 Pipeline(steps=[('ohe_transform',\n",
       "                                                  OneHotEncoder(handle_unknown='ignore',\n",
       "                                                                sparse_output=False))]),\n",
       "                                 ['GADE', 'Work']),\n",
       "                                ('numimputer',\n",
       "                                 Pipeline(steps=[('numimputer',\n",
       "                                                  IterativeImputer(initial_strategy='median',\n",
       "                                                                   random_state=42))]),\n",
       "                                 ['Hours', 'streams']),\n",
       "                                ('age_pipe',\n",
       "                                 Pipeline(steps=[('agenorm',\n",
       "                                                  StandardScaler())]),\n",
       "                                 ['Age']),\n",
       "                                ('survey_pipe',\n",
       "                                 Pipeline(steps=[('ohe_transform',\n",
       "                                                  OneHotEncoder(handle_unknown='ignore',\n",
       "                                                                sparse_output=False))]),\n",
       "                                 ['GADE', 'Game', 'Platform', 'earnings',\n",
       "                                  'whyplay', 'Gender', 'Work', 'Degree',\n",
       "                                  'Birthplace', 'Residence', 'Playstyle'])])"
      ]
     },
     "execution_count": 229,
     "metadata": {},
     "output_type": "execute_result"
    }
   ],
   "source": [
    "rf_ct = ColumnTransformer(\n",
    "    [(\"obj_imputer\", survey_pipeline, ['GADE','Work']), \n",
    "     (\"numimputer\", game_habits_pipeline, ['Hours','streams']),\n",
    "     ('age_pipe', age_pipeline, ['Age']),\n",
    "     ('survey_pipe', survey_pipeline, ohe_cols)\n",
    "    ])\n",
    "rf_ct"
   ]
  },
  {
   "cell_type": "code",
   "execution_count": 231,
   "metadata": {},
   "outputs": [
    {
     "data": {
      "text/html": [
       "<style>#sk-container-id-64 {color: black;background-color: white;}#sk-container-id-64 pre{padding: 0;}#sk-container-id-64 div.sk-toggleable {background-color: white;}#sk-container-id-64 label.sk-toggleable__label {cursor: pointer;display: block;width: 100%;margin-bottom: 0;padding: 0.3em;box-sizing: border-box;text-align: center;}#sk-container-id-64 label.sk-toggleable__label-arrow:before {content: \"▸\";float: left;margin-right: 0.25em;color: #696969;}#sk-container-id-64 label.sk-toggleable__label-arrow:hover:before {color: black;}#sk-container-id-64 div.sk-estimator:hover label.sk-toggleable__label-arrow:before {color: black;}#sk-container-id-64 div.sk-toggleable__content {max-height: 0;max-width: 0;overflow: hidden;text-align: left;background-color: #f0f8ff;}#sk-container-id-64 div.sk-toggleable__content pre {margin: 0.2em;color: black;border-radius: 0.25em;background-color: #f0f8ff;}#sk-container-id-64 input.sk-toggleable__control:checked~div.sk-toggleable__content {max-height: 200px;max-width: 100%;overflow: auto;}#sk-container-id-64 input.sk-toggleable__control:checked~label.sk-toggleable__label-arrow:before {content: \"▾\";}#sk-container-id-64 div.sk-estimator input.sk-toggleable__control:checked~label.sk-toggleable__label {background-color: #d4ebff;}#sk-container-id-64 div.sk-label input.sk-toggleable__control:checked~label.sk-toggleable__label {background-color: #d4ebff;}#sk-container-id-64 input.sk-hidden--visually {border: 0;clip: rect(1px 1px 1px 1px);clip: rect(1px, 1px, 1px, 1px);height: 1px;margin: -1px;overflow: hidden;padding: 0;position: absolute;width: 1px;}#sk-container-id-64 div.sk-estimator {font-family: monospace;background-color: #f0f8ff;border: 1px dotted black;border-radius: 0.25em;box-sizing: border-box;margin-bottom: 0.5em;}#sk-container-id-64 div.sk-estimator:hover {background-color: #d4ebff;}#sk-container-id-64 div.sk-parallel-item::after {content: \"\";width: 100%;border-bottom: 1px solid gray;flex-grow: 1;}#sk-container-id-64 div.sk-label:hover label.sk-toggleable__label {background-color: #d4ebff;}#sk-container-id-64 div.sk-serial::before {content: \"\";position: absolute;border-left: 1px solid gray;box-sizing: border-box;top: 0;bottom: 0;left: 50%;z-index: 0;}#sk-container-id-64 div.sk-serial {display: flex;flex-direction: column;align-items: center;background-color: white;padding-right: 0.2em;padding-left: 0.2em;position: relative;}#sk-container-id-64 div.sk-item {position: relative;z-index: 1;}#sk-container-id-64 div.sk-parallel {display: flex;align-items: stretch;justify-content: center;background-color: white;position: relative;}#sk-container-id-64 div.sk-item::before, #sk-container-id-64 div.sk-parallel-item::before {content: \"\";position: absolute;border-left: 1px solid gray;box-sizing: border-box;top: 0;bottom: 0;left: 50%;z-index: -1;}#sk-container-id-64 div.sk-parallel-item {display: flex;flex-direction: column;z-index: 1;position: relative;background-color: white;}#sk-container-id-64 div.sk-parallel-item:first-child::after {align-self: flex-end;width: 50%;}#sk-container-id-64 div.sk-parallel-item:last-child::after {align-self: flex-start;width: 50%;}#sk-container-id-64 div.sk-parallel-item:only-child::after {width: 0;}#sk-container-id-64 div.sk-dashed-wrapped {border: 1px dashed gray;margin: 0 0.4em 0.5em 0.4em;box-sizing: border-box;padding-bottom: 0.4em;background-color: white;}#sk-container-id-64 div.sk-label label {font-family: monospace;font-weight: bold;display: inline-block;line-height: 1.2em;}#sk-container-id-64 div.sk-label-container {text-align: center;}#sk-container-id-64 div.sk-container {/* jupyter's `normalize.less` sets `[hidden] { display: none; }` but bootstrap.min.css set `[hidden] { display: none !important; }` so we also need the `!important` here to be able to override the default hidden behavior on the sphinx rendered scikit-learn.org. See: https://github.com/scikit-learn/scikit-learn/issues/21755 */display: inline-block !important;position: relative;}#sk-container-id-64 div.sk-text-repr-fallback {display: none;}</style><div id=\"sk-container-id-64\" class=\"sk-top-container\"><div class=\"sk-text-repr-fallback\"><pre>Pipeline(steps=[(&#x27;preprocess&#x27;,\n",
       "                 ColumnTransformer(transformers=[(&#x27;obj_imputer&#x27;,\n",
       "                                                  Pipeline(steps=[(&#x27;ohe_transform&#x27;,\n",
       "                                                                   OneHotEncoder(handle_unknown=&#x27;ignore&#x27;,\n",
       "                                                                                 sparse_output=False))]),\n",
       "                                                  [&#x27;GADE&#x27;, &#x27;Work&#x27;]),\n",
       "                                                 (&#x27;numimputer&#x27;,\n",
       "                                                  Pipeline(steps=[(&#x27;numimputer&#x27;,\n",
       "                                                                   IterativeImputer(initial_strategy=&#x27;median&#x27;,\n",
       "                                                                                    random_state=42))]),\n",
       "                                                  [&#x27;Hours&#x27;, &#x27;streams&#x27;]),\n",
       "                                                 (&#x27;age_pipe&#x27;,\n",
       "                                                  Pipeline(steps=[(&#x27;agenorm&#x27;,\n",
       "                                                                   StandardScaler())]),\n",
       "                                                  [&#x27;Age&#x27;]),\n",
       "                                                 (&#x27;survey_pipe&#x27;,\n",
       "                                                  Pipeline(steps=[(&#x27;ohe_transform&#x27;,\n",
       "                                                                   OneHotEncoder(handle_unknown=&#x27;ignore&#x27;,\n",
       "                                                                                 sparse_output=False))]),\n",
       "                                                  [&#x27;GADE&#x27;, &#x27;Game&#x27;, &#x27;Platform&#x27;,\n",
       "                                                   &#x27;earnings&#x27;, &#x27;whyplay&#x27;,\n",
       "                                                   &#x27;Gender&#x27;, &#x27;Work&#x27;, &#x27;Degree&#x27;,\n",
       "                                                   &#x27;Birthplace&#x27;, &#x27;Residence&#x27;,\n",
       "                                                   &#x27;Playstyle&#x27;])])),\n",
       "                (&#x27;model&#x27;, RandomForestClassifier(random_state=42))])</pre><b>In a Jupyter environment, please rerun this cell to show the HTML representation or trust the notebook. <br />On GitHub, the HTML representation is unable to render, please try loading this page with nbviewer.org.</b></div><div class=\"sk-container\" hidden><div class=\"sk-item sk-dashed-wrapped\"><div class=\"sk-label-container\"><div class=\"sk-label sk-toggleable\"><input class=\"sk-toggleable__control sk-hidden--visually\" id=\"sk-estimator-id-522\" type=\"checkbox\" ><label for=\"sk-estimator-id-522\" class=\"sk-toggleable__label sk-toggleable__label-arrow\">Pipeline</label><div class=\"sk-toggleable__content\"><pre>Pipeline(steps=[(&#x27;preprocess&#x27;,\n",
       "                 ColumnTransformer(transformers=[(&#x27;obj_imputer&#x27;,\n",
       "                                                  Pipeline(steps=[(&#x27;ohe_transform&#x27;,\n",
       "                                                                   OneHotEncoder(handle_unknown=&#x27;ignore&#x27;,\n",
       "                                                                                 sparse_output=False))]),\n",
       "                                                  [&#x27;GADE&#x27;, &#x27;Work&#x27;]),\n",
       "                                                 (&#x27;numimputer&#x27;,\n",
       "                                                  Pipeline(steps=[(&#x27;numimputer&#x27;,\n",
       "                                                                   IterativeImputer(initial_strategy=&#x27;median&#x27;,\n",
       "                                                                                    random_state=42))]),\n",
       "                                                  [&#x27;Hours&#x27;, &#x27;streams&#x27;]),\n",
       "                                                 (&#x27;age_pipe&#x27;,\n",
       "                                                  Pipeline(steps=[(&#x27;agenorm&#x27;,\n",
       "                                                                   StandardScaler())]),\n",
       "                                                  [&#x27;Age&#x27;]),\n",
       "                                                 (&#x27;survey_pipe&#x27;,\n",
       "                                                  Pipeline(steps=[(&#x27;ohe_transform&#x27;,\n",
       "                                                                   OneHotEncoder(handle_unknown=&#x27;ignore&#x27;,\n",
       "                                                                                 sparse_output=False))]),\n",
       "                                                  [&#x27;GADE&#x27;, &#x27;Game&#x27;, &#x27;Platform&#x27;,\n",
       "                                                   &#x27;earnings&#x27;, &#x27;whyplay&#x27;,\n",
       "                                                   &#x27;Gender&#x27;, &#x27;Work&#x27;, &#x27;Degree&#x27;,\n",
       "                                                   &#x27;Birthplace&#x27;, &#x27;Residence&#x27;,\n",
       "                                                   &#x27;Playstyle&#x27;])])),\n",
       "                (&#x27;model&#x27;, RandomForestClassifier(random_state=42))])</pre></div></div></div><div class=\"sk-serial\"><div class=\"sk-item sk-dashed-wrapped\"><div class=\"sk-label-container\"><div class=\"sk-label sk-toggleable\"><input class=\"sk-toggleable__control sk-hidden--visually\" id=\"sk-estimator-id-523\" type=\"checkbox\" ><label for=\"sk-estimator-id-523\" class=\"sk-toggleable__label sk-toggleable__label-arrow\">preprocess: ColumnTransformer</label><div class=\"sk-toggleable__content\"><pre>ColumnTransformer(transformers=[(&#x27;obj_imputer&#x27;,\n",
       "                                 Pipeline(steps=[(&#x27;ohe_transform&#x27;,\n",
       "                                                  OneHotEncoder(handle_unknown=&#x27;ignore&#x27;,\n",
       "                                                                sparse_output=False))]),\n",
       "                                 [&#x27;GADE&#x27;, &#x27;Work&#x27;]),\n",
       "                                (&#x27;numimputer&#x27;,\n",
       "                                 Pipeline(steps=[(&#x27;numimputer&#x27;,\n",
       "                                                  IterativeImputer(initial_strategy=&#x27;median&#x27;,\n",
       "                                                                   random_state=42))]),\n",
       "                                 [&#x27;Hours&#x27;, &#x27;streams&#x27;]),\n",
       "                                (&#x27;age_pipe&#x27;,\n",
       "                                 Pipeline(steps=[(&#x27;agenorm&#x27;,\n",
       "                                                  StandardScaler())]),\n",
       "                                 [&#x27;Age&#x27;]),\n",
       "                                (&#x27;survey_pipe&#x27;,\n",
       "                                 Pipeline(steps=[(&#x27;ohe_transform&#x27;,\n",
       "                                                  OneHotEncoder(handle_unknown=&#x27;ignore&#x27;,\n",
       "                                                                sparse_output=False))]),\n",
       "                                 [&#x27;GADE&#x27;, &#x27;Game&#x27;, &#x27;Platform&#x27;, &#x27;earnings&#x27;,\n",
       "                                  &#x27;whyplay&#x27;, &#x27;Gender&#x27;, &#x27;Work&#x27;, &#x27;Degree&#x27;,\n",
       "                                  &#x27;Birthplace&#x27;, &#x27;Residence&#x27;, &#x27;Playstyle&#x27;])])</pre></div></div></div><div class=\"sk-parallel\"><div class=\"sk-parallel-item\"><div class=\"sk-item\"><div class=\"sk-label-container\"><div class=\"sk-label sk-toggleable\"><input class=\"sk-toggleable__control sk-hidden--visually\" id=\"sk-estimator-id-524\" type=\"checkbox\" ><label for=\"sk-estimator-id-524\" class=\"sk-toggleable__label sk-toggleable__label-arrow\">obj_imputer</label><div class=\"sk-toggleable__content\"><pre>[&#x27;GADE&#x27;, &#x27;Work&#x27;]</pre></div></div></div><div class=\"sk-serial\"><div class=\"sk-item\"><div class=\"sk-serial\"><div class=\"sk-item\"><div class=\"sk-estimator sk-toggleable\"><input class=\"sk-toggleable__control sk-hidden--visually\" id=\"sk-estimator-id-525\" type=\"checkbox\" ><label for=\"sk-estimator-id-525\" class=\"sk-toggleable__label sk-toggleable__label-arrow\">OneHotEncoder</label><div class=\"sk-toggleable__content\"><pre>OneHotEncoder(handle_unknown=&#x27;ignore&#x27;, sparse_output=False)</pre></div></div></div></div></div></div></div></div><div class=\"sk-parallel-item\"><div class=\"sk-item\"><div class=\"sk-label-container\"><div class=\"sk-label sk-toggleable\"><input class=\"sk-toggleable__control sk-hidden--visually\" id=\"sk-estimator-id-526\" type=\"checkbox\" ><label for=\"sk-estimator-id-526\" class=\"sk-toggleable__label sk-toggleable__label-arrow\">numimputer</label><div class=\"sk-toggleable__content\"><pre>[&#x27;Hours&#x27;, &#x27;streams&#x27;]</pre></div></div></div><div class=\"sk-serial\"><div class=\"sk-item\"><div class=\"sk-serial\"><div class=\"sk-item\"><div class=\"sk-estimator sk-toggleable\"><input class=\"sk-toggleable__control sk-hidden--visually\" id=\"sk-estimator-id-527\" type=\"checkbox\" ><label for=\"sk-estimator-id-527\" class=\"sk-toggleable__label sk-toggleable__label-arrow\">IterativeImputer</label><div class=\"sk-toggleable__content\"><pre>IterativeImputer(initial_strategy=&#x27;median&#x27;, random_state=42)</pre></div></div></div></div></div></div></div></div><div class=\"sk-parallel-item\"><div class=\"sk-item\"><div class=\"sk-label-container\"><div class=\"sk-label sk-toggleable\"><input class=\"sk-toggleable__control sk-hidden--visually\" id=\"sk-estimator-id-528\" type=\"checkbox\" ><label for=\"sk-estimator-id-528\" class=\"sk-toggleable__label sk-toggleable__label-arrow\">age_pipe</label><div class=\"sk-toggleable__content\"><pre>[&#x27;Age&#x27;]</pre></div></div></div><div class=\"sk-serial\"><div class=\"sk-item\"><div class=\"sk-serial\"><div class=\"sk-item\"><div class=\"sk-estimator sk-toggleable\"><input class=\"sk-toggleable__control sk-hidden--visually\" id=\"sk-estimator-id-529\" type=\"checkbox\" ><label for=\"sk-estimator-id-529\" class=\"sk-toggleable__label sk-toggleable__label-arrow\">StandardScaler</label><div class=\"sk-toggleable__content\"><pre>StandardScaler()</pre></div></div></div></div></div></div></div></div><div class=\"sk-parallel-item\"><div class=\"sk-item\"><div class=\"sk-label-container\"><div class=\"sk-label sk-toggleable\"><input class=\"sk-toggleable__control sk-hidden--visually\" id=\"sk-estimator-id-530\" type=\"checkbox\" ><label for=\"sk-estimator-id-530\" class=\"sk-toggleable__label sk-toggleable__label-arrow\">survey_pipe</label><div class=\"sk-toggleable__content\"><pre>[&#x27;GADE&#x27;, &#x27;Game&#x27;, &#x27;Platform&#x27;, &#x27;earnings&#x27;, &#x27;whyplay&#x27;, &#x27;Gender&#x27;, &#x27;Work&#x27;, &#x27;Degree&#x27;, &#x27;Birthplace&#x27;, &#x27;Residence&#x27;, &#x27;Playstyle&#x27;]</pre></div></div></div><div class=\"sk-serial\"><div class=\"sk-item\"><div class=\"sk-serial\"><div class=\"sk-item\"><div class=\"sk-estimator sk-toggleable\"><input class=\"sk-toggleable__control sk-hidden--visually\" id=\"sk-estimator-id-531\" type=\"checkbox\" ><label for=\"sk-estimator-id-531\" class=\"sk-toggleable__label sk-toggleable__label-arrow\">OneHotEncoder</label><div class=\"sk-toggleable__content\"><pre>OneHotEncoder(handle_unknown=&#x27;ignore&#x27;, sparse_output=False)</pre></div></div></div></div></div></div></div></div></div></div><div class=\"sk-item\"><div class=\"sk-estimator sk-toggleable\"><input class=\"sk-toggleable__control sk-hidden--visually\" id=\"sk-estimator-id-532\" type=\"checkbox\" ><label for=\"sk-estimator-id-532\" class=\"sk-toggleable__label sk-toggleable__label-arrow\">RandomForestClassifier</label><div class=\"sk-toggleable__content\"><pre>RandomForestClassifier(random_state=42)</pre></div></div></div></div></div></div></div>"
      ],
      "text/plain": [
       "Pipeline(steps=[('preprocess',\n",
       "                 ColumnTransformer(transformers=[('obj_imputer',\n",
       "                                                  Pipeline(steps=[('ohe_transform',\n",
       "                                                                   OneHotEncoder(handle_unknown='ignore',\n",
       "                                                                                 sparse_output=False))]),\n",
       "                                                  ['GADE', 'Work']),\n",
       "                                                 ('numimputer',\n",
       "                                                  Pipeline(steps=[('numimputer',\n",
       "                                                                   IterativeImputer(initial_strategy='median',\n",
       "                                                                                    random_state=42))]),\n",
       "                                                  ['Hours', 'streams']),\n",
       "                                                 ('age_pipe',\n",
       "                                                  Pipeline(steps=[('agenorm',\n",
       "                                                                   StandardScaler())]),\n",
       "                                                  ['Age']),\n",
       "                                                 ('survey_pipe',\n",
       "                                                  Pipeline(steps=[('ohe_transform',\n",
       "                                                                   OneHotEncoder(handle_unknown='ignore',\n",
       "                                                                                 sparse_output=False))]),\n",
       "                                                  ['GADE', 'Game', 'Platform',\n",
       "                                                   'earnings', 'whyplay',\n",
       "                                                   'Gender', 'Work', 'Degree',\n",
       "                                                   'Birthplace', 'Residence',\n",
       "                                                   'Playstyle'])])),\n",
       "                ('model', RandomForestClassifier(random_state=42))])"
      ]
     },
     "execution_count": 231,
     "metadata": {},
     "output_type": "execute_result"
    }
   ],
   "source": [
    "# RandomForest pipeline with all features standardized \n",
    "rf_pipe = Pipeline([('preprocess', rf_ct),\n",
    "     ('model',\n",
    "      RandomForestClassifier(random_state=42))])\n",
    "rf_pipe"
   ]
  },
  {
   "cell_type": "code",
   "execution_count": 232,
   "metadata": {},
   "outputs": [
    {
     "data": {
      "text/html": [
       "<style>#sk-container-id-65 {color: black;background-color: white;}#sk-container-id-65 pre{padding: 0;}#sk-container-id-65 div.sk-toggleable {background-color: white;}#sk-container-id-65 label.sk-toggleable__label {cursor: pointer;display: block;width: 100%;margin-bottom: 0;padding: 0.3em;box-sizing: border-box;text-align: center;}#sk-container-id-65 label.sk-toggleable__label-arrow:before {content: \"▸\";float: left;margin-right: 0.25em;color: #696969;}#sk-container-id-65 label.sk-toggleable__label-arrow:hover:before {color: black;}#sk-container-id-65 div.sk-estimator:hover label.sk-toggleable__label-arrow:before {color: black;}#sk-container-id-65 div.sk-toggleable__content {max-height: 0;max-width: 0;overflow: hidden;text-align: left;background-color: #f0f8ff;}#sk-container-id-65 div.sk-toggleable__content pre {margin: 0.2em;color: black;border-radius: 0.25em;background-color: #f0f8ff;}#sk-container-id-65 input.sk-toggleable__control:checked~div.sk-toggleable__content {max-height: 200px;max-width: 100%;overflow: auto;}#sk-container-id-65 input.sk-toggleable__control:checked~label.sk-toggleable__label-arrow:before {content: \"▾\";}#sk-container-id-65 div.sk-estimator input.sk-toggleable__control:checked~label.sk-toggleable__label {background-color: #d4ebff;}#sk-container-id-65 div.sk-label input.sk-toggleable__control:checked~label.sk-toggleable__label {background-color: #d4ebff;}#sk-container-id-65 input.sk-hidden--visually {border: 0;clip: rect(1px 1px 1px 1px);clip: rect(1px, 1px, 1px, 1px);height: 1px;margin: -1px;overflow: hidden;padding: 0;position: absolute;width: 1px;}#sk-container-id-65 div.sk-estimator {font-family: monospace;background-color: #f0f8ff;border: 1px dotted black;border-radius: 0.25em;box-sizing: border-box;margin-bottom: 0.5em;}#sk-container-id-65 div.sk-estimator:hover {background-color: #d4ebff;}#sk-container-id-65 div.sk-parallel-item::after {content: \"\";width: 100%;border-bottom: 1px solid gray;flex-grow: 1;}#sk-container-id-65 div.sk-label:hover label.sk-toggleable__label {background-color: #d4ebff;}#sk-container-id-65 div.sk-serial::before {content: \"\";position: absolute;border-left: 1px solid gray;box-sizing: border-box;top: 0;bottom: 0;left: 50%;z-index: 0;}#sk-container-id-65 div.sk-serial {display: flex;flex-direction: column;align-items: center;background-color: white;padding-right: 0.2em;padding-left: 0.2em;position: relative;}#sk-container-id-65 div.sk-item {position: relative;z-index: 1;}#sk-container-id-65 div.sk-parallel {display: flex;align-items: stretch;justify-content: center;background-color: white;position: relative;}#sk-container-id-65 div.sk-item::before, #sk-container-id-65 div.sk-parallel-item::before {content: \"\";position: absolute;border-left: 1px solid gray;box-sizing: border-box;top: 0;bottom: 0;left: 50%;z-index: -1;}#sk-container-id-65 div.sk-parallel-item {display: flex;flex-direction: column;z-index: 1;position: relative;background-color: white;}#sk-container-id-65 div.sk-parallel-item:first-child::after {align-self: flex-end;width: 50%;}#sk-container-id-65 div.sk-parallel-item:last-child::after {align-self: flex-start;width: 50%;}#sk-container-id-65 div.sk-parallel-item:only-child::after {width: 0;}#sk-container-id-65 div.sk-dashed-wrapped {border: 1px dashed gray;margin: 0 0.4em 0.5em 0.4em;box-sizing: border-box;padding-bottom: 0.4em;background-color: white;}#sk-container-id-65 div.sk-label label {font-family: monospace;font-weight: bold;display: inline-block;line-height: 1.2em;}#sk-container-id-65 div.sk-label-container {text-align: center;}#sk-container-id-65 div.sk-container {/* jupyter's `normalize.less` sets `[hidden] { display: none; }` but bootstrap.min.css set `[hidden] { display: none !important; }` so we also need the `!important` here to be able to override the default hidden behavior on the sphinx rendered scikit-learn.org. See: https://github.com/scikit-learn/scikit-learn/issues/21755 */display: inline-block !important;position: relative;}#sk-container-id-65 div.sk-text-repr-fallback {display: none;}</style><div id=\"sk-container-id-65\" class=\"sk-top-container\"><div class=\"sk-text-repr-fallback\"><pre>Pipeline(steps=[(&#x27;preprocess&#x27;,\n",
       "                 ColumnTransformer(transformers=[(&#x27;obj_imputer&#x27;,\n",
       "                                                  Pipeline(steps=[(&#x27;ohe_transform&#x27;,\n",
       "                                                                   OneHotEncoder(handle_unknown=&#x27;ignore&#x27;,\n",
       "                                                                                 sparse_output=False))]),\n",
       "                                                  [&#x27;GADE&#x27;, &#x27;Work&#x27;]),\n",
       "                                                 (&#x27;numimputer&#x27;,\n",
       "                                                  Pipeline(steps=[(&#x27;numimputer&#x27;,\n",
       "                                                                   IterativeImputer(initial_strategy=&#x27;median&#x27;,\n",
       "                                                                                    random_state=42))]),\n",
       "                                                  [&#x27;Hours&#x27;, &#x27;streams&#x27;]),\n",
       "                                                 (&#x27;age_pipe&#x27;,\n",
       "                                                  Pipeline(steps=[(&#x27;agenorm&#x27;,\n",
       "                                                                   StandardScaler())]),\n",
       "                                                  [&#x27;Age&#x27;]),\n",
       "                                                 (&#x27;survey_pipe&#x27;,\n",
       "                                                  Pipeline(steps=[(&#x27;ohe_transform&#x27;,\n",
       "                                                                   OneHotEncoder(handle_unknown=&#x27;ignore&#x27;,\n",
       "                                                                                 sparse_output=False))]),\n",
       "                                                  [&#x27;GADE&#x27;, &#x27;Game&#x27;, &#x27;Platform&#x27;,\n",
       "                                                   &#x27;earnings&#x27;, &#x27;whyplay&#x27;,\n",
       "                                                   &#x27;Gender&#x27;, &#x27;Work&#x27;, &#x27;Degree&#x27;,\n",
       "                                                   &#x27;Birthplace&#x27;, &#x27;Residence&#x27;,\n",
       "                                                   &#x27;Playstyle&#x27;])])),\n",
       "                (&#x27;model&#x27;, RandomForestClassifier(random_state=42))])</pre><b>In a Jupyter environment, please rerun this cell to show the HTML representation or trust the notebook. <br />On GitHub, the HTML representation is unable to render, please try loading this page with nbviewer.org.</b></div><div class=\"sk-container\" hidden><div class=\"sk-item sk-dashed-wrapped\"><div class=\"sk-label-container\"><div class=\"sk-label sk-toggleable\"><input class=\"sk-toggleable__control sk-hidden--visually\" id=\"sk-estimator-id-533\" type=\"checkbox\" ><label for=\"sk-estimator-id-533\" class=\"sk-toggleable__label sk-toggleable__label-arrow\">Pipeline</label><div class=\"sk-toggleable__content\"><pre>Pipeline(steps=[(&#x27;preprocess&#x27;,\n",
       "                 ColumnTransformer(transformers=[(&#x27;obj_imputer&#x27;,\n",
       "                                                  Pipeline(steps=[(&#x27;ohe_transform&#x27;,\n",
       "                                                                   OneHotEncoder(handle_unknown=&#x27;ignore&#x27;,\n",
       "                                                                                 sparse_output=False))]),\n",
       "                                                  [&#x27;GADE&#x27;, &#x27;Work&#x27;]),\n",
       "                                                 (&#x27;numimputer&#x27;,\n",
       "                                                  Pipeline(steps=[(&#x27;numimputer&#x27;,\n",
       "                                                                   IterativeImputer(initial_strategy=&#x27;median&#x27;,\n",
       "                                                                                    random_state=42))]),\n",
       "                                                  [&#x27;Hours&#x27;, &#x27;streams&#x27;]),\n",
       "                                                 (&#x27;age_pipe&#x27;,\n",
       "                                                  Pipeline(steps=[(&#x27;agenorm&#x27;,\n",
       "                                                                   StandardScaler())]),\n",
       "                                                  [&#x27;Age&#x27;]),\n",
       "                                                 (&#x27;survey_pipe&#x27;,\n",
       "                                                  Pipeline(steps=[(&#x27;ohe_transform&#x27;,\n",
       "                                                                   OneHotEncoder(handle_unknown=&#x27;ignore&#x27;,\n",
       "                                                                                 sparse_output=False))]),\n",
       "                                                  [&#x27;GADE&#x27;, &#x27;Game&#x27;, &#x27;Platform&#x27;,\n",
       "                                                   &#x27;earnings&#x27;, &#x27;whyplay&#x27;,\n",
       "                                                   &#x27;Gender&#x27;, &#x27;Work&#x27;, &#x27;Degree&#x27;,\n",
       "                                                   &#x27;Birthplace&#x27;, &#x27;Residence&#x27;,\n",
       "                                                   &#x27;Playstyle&#x27;])])),\n",
       "                (&#x27;model&#x27;, RandomForestClassifier(random_state=42))])</pre></div></div></div><div class=\"sk-serial\"><div class=\"sk-item sk-dashed-wrapped\"><div class=\"sk-label-container\"><div class=\"sk-label sk-toggleable\"><input class=\"sk-toggleable__control sk-hidden--visually\" id=\"sk-estimator-id-534\" type=\"checkbox\" ><label for=\"sk-estimator-id-534\" class=\"sk-toggleable__label sk-toggleable__label-arrow\">preprocess: ColumnTransformer</label><div class=\"sk-toggleable__content\"><pre>ColumnTransformer(transformers=[(&#x27;obj_imputer&#x27;,\n",
       "                                 Pipeline(steps=[(&#x27;ohe_transform&#x27;,\n",
       "                                                  OneHotEncoder(handle_unknown=&#x27;ignore&#x27;,\n",
       "                                                                sparse_output=False))]),\n",
       "                                 [&#x27;GADE&#x27;, &#x27;Work&#x27;]),\n",
       "                                (&#x27;numimputer&#x27;,\n",
       "                                 Pipeline(steps=[(&#x27;numimputer&#x27;,\n",
       "                                                  IterativeImputer(initial_strategy=&#x27;median&#x27;,\n",
       "                                                                   random_state=42))]),\n",
       "                                 [&#x27;Hours&#x27;, &#x27;streams&#x27;]),\n",
       "                                (&#x27;age_pipe&#x27;,\n",
       "                                 Pipeline(steps=[(&#x27;agenorm&#x27;,\n",
       "                                                  StandardScaler())]),\n",
       "                                 [&#x27;Age&#x27;]),\n",
       "                                (&#x27;survey_pipe&#x27;,\n",
       "                                 Pipeline(steps=[(&#x27;ohe_transform&#x27;,\n",
       "                                                  OneHotEncoder(handle_unknown=&#x27;ignore&#x27;,\n",
       "                                                                sparse_output=False))]),\n",
       "                                 [&#x27;GADE&#x27;, &#x27;Game&#x27;, &#x27;Platform&#x27;, &#x27;earnings&#x27;,\n",
       "                                  &#x27;whyplay&#x27;, &#x27;Gender&#x27;, &#x27;Work&#x27;, &#x27;Degree&#x27;,\n",
       "                                  &#x27;Birthplace&#x27;, &#x27;Residence&#x27;, &#x27;Playstyle&#x27;])])</pre></div></div></div><div class=\"sk-parallel\"><div class=\"sk-parallel-item\"><div class=\"sk-item\"><div class=\"sk-label-container\"><div class=\"sk-label sk-toggleable\"><input class=\"sk-toggleable__control sk-hidden--visually\" id=\"sk-estimator-id-535\" type=\"checkbox\" ><label for=\"sk-estimator-id-535\" class=\"sk-toggleable__label sk-toggleable__label-arrow\">obj_imputer</label><div class=\"sk-toggleable__content\"><pre>[&#x27;GADE&#x27;, &#x27;Work&#x27;]</pre></div></div></div><div class=\"sk-serial\"><div class=\"sk-item\"><div class=\"sk-serial\"><div class=\"sk-item\"><div class=\"sk-estimator sk-toggleable\"><input class=\"sk-toggleable__control sk-hidden--visually\" id=\"sk-estimator-id-536\" type=\"checkbox\" ><label for=\"sk-estimator-id-536\" class=\"sk-toggleable__label sk-toggleable__label-arrow\">OneHotEncoder</label><div class=\"sk-toggleable__content\"><pre>OneHotEncoder(handle_unknown=&#x27;ignore&#x27;, sparse_output=False)</pre></div></div></div></div></div></div></div></div><div class=\"sk-parallel-item\"><div class=\"sk-item\"><div class=\"sk-label-container\"><div class=\"sk-label sk-toggleable\"><input class=\"sk-toggleable__control sk-hidden--visually\" id=\"sk-estimator-id-537\" type=\"checkbox\" ><label for=\"sk-estimator-id-537\" class=\"sk-toggleable__label sk-toggleable__label-arrow\">numimputer</label><div class=\"sk-toggleable__content\"><pre>[&#x27;Hours&#x27;, &#x27;streams&#x27;]</pre></div></div></div><div class=\"sk-serial\"><div class=\"sk-item\"><div class=\"sk-serial\"><div class=\"sk-item\"><div class=\"sk-estimator sk-toggleable\"><input class=\"sk-toggleable__control sk-hidden--visually\" id=\"sk-estimator-id-538\" type=\"checkbox\" ><label for=\"sk-estimator-id-538\" class=\"sk-toggleable__label sk-toggleable__label-arrow\">IterativeImputer</label><div class=\"sk-toggleable__content\"><pre>IterativeImputer(initial_strategy=&#x27;median&#x27;, random_state=42)</pre></div></div></div></div></div></div></div></div><div class=\"sk-parallel-item\"><div class=\"sk-item\"><div class=\"sk-label-container\"><div class=\"sk-label sk-toggleable\"><input class=\"sk-toggleable__control sk-hidden--visually\" id=\"sk-estimator-id-539\" type=\"checkbox\" ><label for=\"sk-estimator-id-539\" class=\"sk-toggleable__label sk-toggleable__label-arrow\">age_pipe</label><div class=\"sk-toggleable__content\"><pre>[&#x27;Age&#x27;]</pre></div></div></div><div class=\"sk-serial\"><div class=\"sk-item\"><div class=\"sk-serial\"><div class=\"sk-item\"><div class=\"sk-estimator sk-toggleable\"><input class=\"sk-toggleable__control sk-hidden--visually\" id=\"sk-estimator-id-540\" type=\"checkbox\" ><label for=\"sk-estimator-id-540\" class=\"sk-toggleable__label sk-toggleable__label-arrow\">StandardScaler</label><div class=\"sk-toggleable__content\"><pre>StandardScaler()</pre></div></div></div></div></div></div></div></div><div class=\"sk-parallel-item\"><div class=\"sk-item\"><div class=\"sk-label-container\"><div class=\"sk-label sk-toggleable\"><input class=\"sk-toggleable__control sk-hidden--visually\" id=\"sk-estimator-id-541\" type=\"checkbox\" ><label for=\"sk-estimator-id-541\" class=\"sk-toggleable__label sk-toggleable__label-arrow\">survey_pipe</label><div class=\"sk-toggleable__content\"><pre>[&#x27;GADE&#x27;, &#x27;Game&#x27;, &#x27;Platform&#x27;, &#x27;earnings&#x27;, &#x27;whyplay&#x27;, &#x27;Gender&#x27;, &#x27;Work&#x27;, &#x27;Degree&#x27;, &#x27;Birthplace&#x27;, &#x27;Residence&#x27;, &#x27;Playstyle&#x27;]</pre></div></div></div><div class=\"sk-serial\"><div class=\"sk-item\"><div class=\"sk-serial\"><div class=\"sk-item\"><div class=\"sk-estimator sk-toggleable\"><input class=\"sk-toggleable__control sk-hidden--visually\" id=\"sk-estimator-id-542\" type=\"checkbox\" ><label for=\"sk-estimator-id-542\" class=\"sk-toggleable__label sk-toggleable__label-arrow\">OneHotEncoder</label><div class=\"sk-toggleable__content\"><pre>OneHotEncoder(handle_unknown=&#x27;ignore&#x27;, sparse_output=False)</pre></div></div></div></div></div></div></div></div></div></div><div class=\"sk-item\"><div class=\"sk-estimator sk-toggleable\"><input class=\"sk-toggleable__control sk-hidden--visually\" id=\"sk-estimator-id-543\" type=\"checkbox\" ><label for=\"sk-estimator-id-543\" class=\"sk-toggleable__label sk-toggleable__label-arrow\">RandomForestClassifier</label><div class=\"sk-toggleable__content\"><pre>RandomForestClassifier(random_state=42)</pre></div></div></div></div></div></div></div>"
      ],
      "text/plain": [
       "Pipeline(steps=[('preprocess',\n",
       "                 ColumnTransformer(transformers=[('obj_imputer',\n",
       "                                                  Pipeline(steps=[('ohe_transform',\n",
       "                                                                   OneHotEncoder(handle_unknown='ignore',\n",
       "                                                                                 sparse_output=False))]),\n",
       "                                                  ['GADE', 'Work']),\n",
       "                                                 ('numimputer',\n",
       "                                                  Pipeline(steps=[('numimputer',\n",
       "                                                                   IterativeImputer(initial_strategy='median',\n",
       "                                                                                    random_state=42))]),\n",
       "                                                  ['Hours', 'streams']),\n",
       "                                                 ('age_pipe',\n",
       "                                                  Pipeline(steps=[('agenorm',\n",
       "                                                                   StandardScaler())]),\n",
       "                                                  ['Age']),\n",
       "                                                 ('survey_pipe',\n",
       "                                                  Pipeline(steps=[('ohe_transform',\n",
       "                                                                   OneHotEncoder(handle_unknown='ignore',\n",
       "                                                                                 sparse_output=False))]),\n",
       "                                                  ['GADE', 'Game', 'Platform',\n",
       "                                                   'earnings', 'whyplay',\n",
       "                                                   'Gender', 'Work', 'Degree',\n",
       "                                                   'Birthplace', 'Residence',\n",
       "                                                   'Playstyle'])])),\n",
       "                ('model', RandomForestClassifier(random_state=42))])"
      ]
     },
     "execution_count": 232,
     "metadata": {},
     "output_type": "execute_result"
    }
   ],
   "source": [
    "rf_pipe.fit(X3_train, y3_train)"
   ]
  },
  {
   "cell_type": "code",
   "execution_count": 233,
   "metadata": {},
   "outputs": [],
   "source": [
    "rf_y_pred = rf_pipe.predict(X3_test)"
   ]
  },
  {
   "cell_type": "code",
   "execution_count": 234,
   "metadata": {},
   "outputs": [
    {
     "data": {
      "text/plain": [
       "<sklearn.metrics._plot.confusion_matrix.ConfusionMatrixDisplay at 0x204b6633280>"
      ]
     },
     "execution_count": 234,
     "metadata": {},
     "output_type": "execute_result"
    },
    {
     "data": {
      "image/png": "[encoded data removed]",
      "text/plain": [
       "<Figure size 640x480 with 2 Axes>"
      ]
     },
     "metadata": {},
     "output_type": "display_data"
    }
   ],
   "source": [
    "ConfusionMatrixDisplay.from_predictions(y3_test, rf_y_pred, normalize='all')"
   ]
  },
  {
   "cell_type": "code",
   "execution_count": 235,
   "metadata": {
    "scrolled": true
   },
   "outputs": [
    {
     "name": "stdout",
     "output_type": "stream",
     "text": [
      "                  precision    recall  f1-score   support\n",
      "\n",
      " minimal anxiety       0.40      0.37      0.39       817\n",
      "    mild anxiety       0.72      0.82      0.77      1683\n",
      "moderate anxiety       0.29      0.18      0.22       373\n",
      "  severe anxiety       0.32      0.29      0.30       142\n",
      "\n",
      "        accuracy                           0.59      3015\n",
      "       macro avg       0.43      0.41      0.42      3015\n",
      "    weighted avg       0.56      0.59      0.57      3015\n",
      "\n"
     ]
    }
   ],
   "source": [
    "print(classification_report(y3_test, rf_y_pred, target_names = target_labels))"
   ]
  },
  {
   "cell_type": "markdown",
   "metadata": {},
   "source": [
    "### Model Evaluation "
   ]
  },
  {
   "cell_type": "markdown",
   "metadata": {},
   "source": [
    "### Random Forest Hyperparameter Tuning "
   ]
  },
  {
   "cell_type": "markdown",
   "metadata": {},
   "source": [
    "## Model IV | Naive Bayes"
   ]
  },
  {
   "cell_type": "code",
   "execution_count": 248,
   "metadata": {},
   "outputs": [],
   "source": [
    "# separating our target and predictor variables \n",
    "X_4 = gamers_df.drop(columns=non_predict_cols)\n",
    "y_4 = gamers_df['anxiety']"
   ]
  },
  {
   "cell_type": "code",
   "execution_count": 249,
   "metadata": {},
   "outputs": [],
   "source": [
    "# label encoding our target variable \n",
    "y_4 = lab_enc.fit_transform(y_4)"
   ]
  },
  {
   "cell_type": "code",
   "execution_count": 250,
   "metadata": {},
   "outputs": [],
   "source": [
    "# splitting our data into training and test set \n",
    "X4_train, X4_test, y4_train, y4_test = train_test_split(X_4, y_4, test_size = 0.25,random_state=42)"
   ]
  },
  {
   "cell_type": "code",
   "execution_count": 251,
   "metadata": {},
   "outputs": [
    {
     "data": {
      "text/html": [
       "<style>#sk-container-id-71 {color: black;background-color: white;}#sk-container-id-71 pre{padding: 0;}#sk-container-id-71 div.sk-toggleable {background-color: white;}#sk-container-id-71 label.sk-toggleable__label {cursor: pointer;display: block;width: 100%;margin-bottom: 0;padding: 0.3em;box-sizing: border-box;text-align: center;}#sk-container-id-71 label.sk-toggleable__label-arrow:before {content: \"▸\";float: left;margin-right: 0.25em;color: #696969;}#sk-container-id-71 label.sk-toggleable__label-arrow:hover:before {color: black;}#sk-container-id-71 div.sk-estimator:hover label.sk-toggleable__label-arrow:before {color: black;}#sk-container-id-71 div.sk-toggleable__content {max-height: 0;max-width: 0;overflow: hidden;text-align: left;background-color: #f0f8ff;}#sk-container-id-71 div.sk-toggleable__content pre {margin: 0.2em;color: black;border-radius: 0.25em;background-color: #f0f8ff;}#sk-container-id-71 input.sk-toggleable__control:checked~div.sk-toggleable__content {max-height: 200px;max-width: 100%;overflow: auto;}#sk-container-id-71 input.sk-toggleable__control:checked~label.sk-toggleable__label-arrow:before {content: \"▾\";}#sk-container-id-71 div.sk-estimator input.sk-toggleable__control:checked~label.sk-toggleable__label {background-color: #d4ebff;}#sk-container-id-71 div.sk-label input.sk-toggleable__control:checked~label.sk-toggleable__label {background-color: #d4ebff;}#sk-container-id-71 input.sk-hidden--visually {border: 0;clip: rect(1px 1px 1px 1px);clip: rect(1px, 1px, 1px, 1px);height: 1px;margin: -1px;overflow: hidden;padding: 0;position: absolute;width: 1px;}#sk-container-id-71 div.sk-estimator {font-family: monospace;background-color: #f0f8ff;border: 1px dotted black;border-radius: 0.25em;box-sizing: border-box;margin-bottom: 0.5em;}#sk-container-id-71 div.sk-estimator:hover {background-color: #d4ebff;}#sk-container-id-71 div.sk-parallel-item::after {content: \"\";width: 100%;border-bottom: 1px solid gray;flex-grow: 1;}#sk-container-id-71 div.sk-label:hover label.sk-toggleable__label {background-color: #d4ebff;}#sk-container-id-71 div.sk-serial::before {content: \"\";position: absolute;border-left: 1px solid gray;box-sizing: border-box;top: 0;bottom: 0;left: 50%;z-index: 0;}#sk-container-id-71 div.sk-serial {display: flex;flex-direction: column;align-items: center;background-color: white;padding-right: 0.2em;padding-left: 0.2em;position: relative;}#sk-container-id-71 div.sk-item {position: relative;z-index: 1;}#sk-container-id-71 div.sk-parallel {display: flex;align-items: stretch;justify-content: center;background-color: white;position: relative;}#sk-container-id-71 div.sk-item::before, #sk-container-id-71 div.sk-parallel-item::before {content: \"\";position: absolute;border-left: 1px solid gray;box-sizing: border-box;top: 0;bottom: 0;left: 50%;z-index: -1;}#sk-container-id-71 div.sk-parallel-item {display: flex;flex-direction: column;z-index: 1;position: relative;background-color: white;}#sk-container-id-71 div.sk-parallel-item:first-child::after {align-self: flex-end;width: 50%;}#sk-container-id-71 div.sk-parallel-item:last-child::after {align-self: flex-start;width: 50%;}#sk-container-id-71 div.sk-parallel-item:only-child::after {width: 0;}#sk-container-id-71 div.sk-dashed-wrapped {border: 1px dashed gray;margin: 0 0.4em 0.5em 0.4em;box-sizing: border-box;padding-bottom: 0.4em;background-color: white;}#sk-container-id-71 div.sk-label label {font-family: monospace;font-weight: bold;display: inline-block;line-height: 1.2em;}#sk-container-id-71 div.sk-label-container {text-align: center;}#sk-container-id-71 div.sk-container {/* jupyter's `normalize.less` sets `[hidden] { display: none; }` but bootstrap.min.css set `[hidden] { display: none !important; }` so we also need the `!important` here to be able to override the default hidden behavior on the sphinx rendered scikit-learn.org. See: https://github.com/scikit-learn/scikit-learn/issues/21755 */display: inline-block !important;position: relative;}#sk-container-id-71 div.sk-text-repr-fallback {display: none;}</style><div id=\"sk-container-id-71\" class=\"sk-top-container\"><div class=\"sk-text-repr-fallback\"><pre>ColumnTransformer(transformers=[(&#x27;obj_imputer&#x27;,\n",
       "                                 Pipeline(steps=[(&#x27;ohe_transform&#x27;,\n",
       "                                                  OneHotEncoder(handle_unknown=&#x27;ignore&#x27;,\n",
       "                                                                sparse_output=False))]),\n",
       "                                 [&#x27;GADE&#x27;, &#x27;Work&#x27;]),\n",
       "                                (&#x27;numimputer&#x27;,\n",
       "                                 Pipeline(steps=[(&#x27;numimputer&#x27;,\n",
       "                                                  IterativeImputer(initial_strategy=&#x27;median&#x27;,\n",
       "                                                                   random_state=42))]),\n",
       "                                 [&#x27;Hours&#x27;, &#x27;streams&#x27;]),\n",
       "                                (&#x27;age_pipe&#x27;,\n",
       "                                 Pipeline(steps=[(&#x27;agenorm&#x27;,\n",
       "                                                  StandardScaler())]),\n",
       "                                 [&#x27;Age&#x27;]),\n",
       "                                (&#x27;survey_pipe&#x27;,\n",
       "                                 Pipeline(steps=[(&#x27;ohe_transform&#x27;,\n",
       "                                                  OneHotEncoder(handle_unknown=&#x27;ignore&#x27;,\n",
       "                                                                sparse_output=False))]),\n",
       "                                 [&#x27;GADE&#x27;, &#x27;Game&#x27;, &#x27;Platform&#x27;, &#x27;earnings&#x27;,\n",
       "                                  &#x27;whyplay&#x27;, &#x27;Gender&#x27;, &#x27;Work&#x27;, &#x27;Degree&#x27;,\n",
       "                                  &#x27;Birthplace&#x27;, &#x27;Residence&#x27;, &#x27;Playstyle&#x27;])])</pre><b>In a Jupyter environment, please rerun this cell to show the HTML representation or trust the notebook. <br />On GitHub, the HTML representation is unable to render, please try loading this page with nbviewer.org.</b></div><div class=\"sk-container\" hidden><div class=\"sk-item sk-dashed-wrapped\"><div class=\"sk-label-container\"><div class=\"sk-label sk-toggleable\"><input class=\"sk-toggleable__control sk-hidden--visually\" id=\"sk-estimator-id-595\" type=\"checkbox\" ><label for=\"sk-estimator-id-595\" class=\"sk-toggleable__label sk-toggleable__label-arrow\">ColumnTransformer</label><div class=\"sk-toggleable__content\"><pre>ColumnTransformer(transformers=[(&#x27;obj_imputer&#x27;,\n",
       "                                 Pipeline(steps=[(&#x27;ohe_transform&#x27;,\n",
       "                                                  OneHotEncoder(handle_unknown=&#x27;ignore&#x27;,\n",
       "                                                                sparse_output=False))]),\n",
       "                                 [&#x27;GADE&#x27;, &#x27;Work&#x27;]),\n",
       "                                (&#x27;numimputer&#x27;,\n",
       "                                 Pipeline(steps=[(&#x27;numimputer&#x27;,\n",
       "                                                  IterativeImputer(initial_strategy=&#x27;median&#x27;,\n",
       "                                                                   random_state=42))]),\n",
       "                                 [&#x27;Hours&#x27;, &#x27;streams&#x27;]),\n",
       "                                (&#x27;age_pipe&#x27;,\n",
       "                                 Pipeline(steps=[(&#x27;agenorm&#x27;,\n",
       "                                                  StandardScaler())]),\n",
       "                                 [&#x27;Age&#x27;]),\n",
       "                                (&#x27;survey_pipe&#x27;,\n",
       "                                 Pipeline(steps=[(&#x27;ohe_transform&#x27;,\n",
       "                                                  OneHotEncoder(handle_unknown=&#x27;ignore&#x27;,\n",
       "                                                                sparse_output=False))]),\n",
       "                                 [&#x27;GADE&#x27;, &#x27;Game&#x27;, &#x27;Platform&#x27;, &#x27;earnings&#x27;,\n",
       "                                  &#x27;whyplay&#x27;, &#x27;Gender&#x27;, &#x27;Work&#x27;, &#x27;Degree&#x27;,\n",
       "                                  &#x27;Birthplace&#x27;, &#x27;Residence&#x27;, &#x27;Playstyle&#x27;])])</pre></div></div></div><div class=\"sk-parallel\"><div class=\"sk-parallel-item\"><div class=\"sk-item\"><div class=\"sk-label-container\"><div class=\"sk-label sk-toggleable\"><input class=\"sk-toggleable__control sk-hidden--visually\" id=\"sk-estimator-id-596\" type=\"checkbox\" ><label for=\"sk-estimator-id-596\" class=\"sk-toggleable__label sk-toggleable__label-arrow\">obj_imputer</label><div class=\"sk-toggleable__content\"><pre>[&#x27;GADE&#x27;, &#x27;Work&#x27;]</pre></div></div></div><div class=\"sk-serial\"><div class=\"sk-item\"><div class=\"sk-serial\"><div class=\"sk-item\"><div class=\"sk-estimator sk-toggleable\"><input class=\"sk-toggleable__control sk-hidden--visually\" id=\"sk-estimator-id-597\" type=\"checkbox\" ><label for=\"sk-estimator-id-597\" class=\"sk-toggleable__label sk-toggleable__label-arrow\">OneHotEncoder</label><div class=\"sk-toggleable__content\"><pre>OneHotEncoder(handle_unknown=&#x27;ignore&#x27;, sparse_output=False)</pre></div></div></div></div></div></div></div></div><div class=\"sk-parallel-item\"><div class=\"sk-item\"><div class=\"sk-label-container\"><div class=\"sk-label sk-toggleable\"><input class=\"sk-toggleable__control sk-hidden--visually\" id=\"sk-estimator-id-598\" type=\"checkbox\" ><label for=\"sk-estimator-id-598\" class=\"sk-toggleable__label sk-toggleable__label-arrow\">numimputer</label><div class=\"sk-toggleable__content\"><pre>[&#x27;Hours&#x27;, &#x27;streams&#x27;]</pre></div></div></div><div class=\"sk-serial\"><div class=\"sk-item\"><div class=\"sk-serial\"><div class=\"sk-item\"><div class=\"sk-estimator sk-toggleable\"><input class=\"sk-toggleable__control sk-hidden--visually\" id=\"sk-estimator-id-599\" type=\"checkbox\" ><label for=\"sk-estimator-id-599\" class=\"sk-toggleable__label sk-toggleable__label-arrow\">IterativeImputer</label><div class=\"sk-toggleable__content\"><pre>IterativeImputer(initial_strategy=&#x27;median&#x27;, random_state=42)</pre></div></div></div></div></div></div></div></div><div class=\"sk-parallel-item\"><div class=\"sk-item\"><div class=\"sk-label-container\"><div class=\"sk-label sk-toggleable\"><input class=\"sk-toggleable__control sk-hidden--visually\" id=\"sk-estimator-id-600\" type=\"checkbox\" ><label for=\"sk-estimator-id-600\" class=\"sk-toggleable__label sk-toggleable__label-arrow\">age_pipe</label><div class=\"sk-toggleable__content\"><pre>[&#x27;Age&#x27;]</pre></div></div></div><div class=\"sk-serial\"><div class=\"sk-item\"><div class=\"sk-serial\"><div class=\"sk-item\"><div class=\"sk-estimator sk-toggleable\"><input class=\"sk-toggleable__control sk-hidden--visually\" id=\"sk-estimator-id-601\" type=\"checkbox\" ><label for=\"sk-estimator-id-601\" class=\"sk-toggleable__label sk-toggleable__label-arrow\">StandardScaler</label><div class=\"sk-toggleable__content\"><pre>StandardScaler()</pre></div></div></div></div></div></div></div></div><div class=\"sk-parallel-item\"><div class=\"sk-item\"><div class=\"sk-label-container\"><div class=\"sk-label sk-toggleable\"><input class=\"sk-toggleable__control sk-hidden--visually\" id=\"sk-estimator-id-602\" type=\"checkbox\" ><label for=\"sk-estimator-id-602\" class=\"sk-toggleable__label sk-toggleable__label-arrow\">survey_pipe</label><div class=\"sk-toggleable__content\"><pre>[&#x27;GADE&#x27;, &#x27;Game&#x27;, &#x27;Platform&#x27;, &#x27;earnings&#x27;, &#x27;whyplay&#x27;, &#x27;Gender&#x27;, &#x27;Work&#x27;, &#x27;Degree&#x27;, &#x27;Birthplace&#x27;, &#x27;Residence&#x27;, &#x27;Playstyle&#x27;]</pre></div></div></div><div class=\"sk-serial\"><div class=\"sk-item\"><div class=\"sk-serial\"><div class=\"sk-item\"><div class=\"sk-estimator sk-toggleable\"><input class=\"sk-toggleable__control sk-hidden--visually\" id=\"sk-estimator-id-603\" type=\"checkbox\" ><label for=\"sk-estimator-id-603\" class=\"sk-toggleable__label sk-toggleable__label-arrow\">OneHotEncoder</label><div class=\"sk-toggleable__content\"><pre>OneHotEncoder(handle_unknown=&#x27;ignore&#x27;, sparse_output=False)</pre></div></div></div></div></div></div></div></div></div></div></div></div>"
      ],
      "text/plain": [
       "ColumnTransformer(transformers=[('obj_imputer',\n",
       "                                 Pipeline(steps=[('ohe_transform',\n",
       "                                                  OneHotEncoder(handle_unknown='ignore',\n",
       "                                                                sparse_output=False))]),\n",
       "                                 ['GADE', 'Work']),\n",
       "                                ('numimputer',\n",
       "                                 Pipeline(steps=[('numimputer',\n",
       "                                                  IterativeImputer(initial_strategy='median',\n",
       "                                                                   random_state=42))]),\n",
       "                                 ['Hours', 'streams']),\n",
       "                                ('age_pipe',\n",
       "                                 Pipeline(steps=[('agenorm',\n",
       "                                                  StandardScaler())]),\n",
       "                                 ['Age']),\n",
       "                                ('survey_pipe',\n",
       "                                 Pipeline(steps=[('ohe_transform',\n",
       "                                                  OneHotEncoder(handle_unknown='ignore',\n",
       "                                                                sparse_output=False))]),\n",
       "                                 ['GADE', 'Game', 'Platform', 'earnings',\n",
       "                                  'whyplay', 'Gender', 'Work', 'Degree',\n",
       "                                  'Birthplace', 'Residence', 'Playstyle'])])"
      ]
     },
     "execution_count": 251,
     "metadata": {},
     "output_type": "execute_result"
    }
   ],
   "source": [
    "nb_ct = ColumnTransformer(\n",
    "    [(\"obj_imputer\", survey_pipeline, ['GADE','Work']), \n",
    "     (\"numimputer\", game_habits_pipeline, ['Hours','streams']),\n",
    "     ('age_pipe', age_pipeline, ['Age']),\n",
    "     ('survey_pipe', survey_pipeline, ohe_cols)\n",
    "    ])\n",
    "nb_ct"
   ]
  },
  {
   "cell_type": "code",
   "execution_count": 252,
   "metadata": {},
   "outputs": [
    {
     "data": {
      "text/html": [
       "<style>#sk-container-id-72 {color: black;background-color: white;}#sk-container-id-72 pre{padding: 0;}#sk-container-id-72 div.sk-toggleable {background-color: white;}#sk-container-id-72 label.sk-toggleable__label {cursor: pointer;display: block;width: 100%;margin-bottom: 0;padding: 0.3em;box-sizing: border-box;text-align: center;}#sk-container-id-72 label.sk-toggleable__label-arrow:before {content: \"▸\";float: left;margin-right: 0.25em;color: #696969;}#sk-container-id-72 label.sk-toggleable__label-arrow:hover:before {color: black;}#sk-container-id-72 div.sk-estimator:hover label.sk-toggleable__label-arrow:before {color: black;}#sk-container-id-72 div.sk-toggleable__content {max-height: 0;max-width: 0;overflow: hidden;text-align: left;background-color: #f0f8ff;}#sk-container-id-72 div.sk-toggleable__content pre {margin: 0.2em;color: black;border-radius: 0.25em;background-color: #f0f8ff;}#sk-container-id-72 input.sk-toggleable__control:checked~div.sk-toggleable__content {max-height: 200px;max-width: 100%;overflow: auto;}#sk-container-id-72 input.sk-toggleable__control:checked~label.sk-toggleable__label-arrow:before {content: \"▾\";}#sk-container-id-72 div.sk-estimator input.sk-toggleable__control:checked~label.sk-toggleable__label {background-color: #d4ebff;}#sk-container-id-72 div.sk-label input.sk-toggleable__control:checked~label.sk-toggleable__label {background-color: #d4ebff;}#sk-container-id-72 input.sk-hidden--visually {border: 0;clip: rect(1px 1px 1px 1px);clip: rect(1px, 1px, 1px, 1px);height: 1px;margin: -1px;overflow: hidden;padding: 0;position: absolute;width: 1px;}#sk-container-id-72 div.sk-estimator {font-family: monospace;background-color: #f0f8ff;border: 1px dotted black;border-radius: 0.25em;box-sizing: border-box;margin-bottom: 0.5em;}#sk-container-id-72 div.sk-estimator:hover {background-color: #d4ebff;}#sk-container-id-72 div.sk-parallel-item::after {content: \"\";width: 100%;border-bottom: 1px solid gray;flex-grow: 1;}#sk-container-id-72 div.sk-label:hover label.sk-toggleable__label {background-color: #d4ebff;}#sk-container-id-72 div.sk-serial::before {content: \"\";position: absolute;border-left: 1px solid gray;box-sizing: border-box;top: 0;bottom: 0;left: 50%;z-index: 0;}#sk-container-id-72 div.sk-serial {display: flex;flex-direction: column;align-items: center;background-color: white;padding-right: 0.2em;padding-left: 0.2em;position: relative;}#sk-container-id-72 div.sk-item {position: relative;z-index: 1;}#sk-container-id-72 div.sk-parallel {display: flex;align-items: stretch;justify-content: center;background-color: white;position: relative;}#sk-container-id-72 div.sk-item::before, #sk-container-id-72 div.sk-parallel-item::before {content: \"\";position: absolute;border-left: 1px solid gray;box-sizing: border-box;top: 0;bottom: 0;left: 50%;z-index: -1;}#sk-container-id-72 div.sk-parallel-item {display: flex;flex-direction: column;z-index: 1;position: relative;background-color: white;}#sk-container-id-72 div.sk-parallel-item:first-child::after {align-self: flex-end;width: 50%;}#sk-container-id-72 div.sk-parallel-item:last-child::after {align-self: flex-start;width: 50%;}#sk-container-id-72 div.sk-parallel-item:only-child::after {width: 0;}#sk-container-id-72 div.sk-dashed-wrapped {border: 1px dashed gray;margin: 0 0.4em 0.5em 0.4em;box-sizing: border-box;padding-bottom: 0.4em;background-color: white;}#sk-container-id-72 div.sk-label label {font-family: monospace;font-weight: bold;display: inline-block;line-height: 1.2em;}#sk-container-id-72 div.sk-label-container {text-align: center;}#sk-container-id-72 div.sk-container {/* jupyter's `normalize.less` sets `[hidden] { display: none; }` but bootstrap.min.css set `[hidden] { display: none !important; }` so we also need the `!important` here to be able to override the default hidden behavior on the sphinx rendered scikit-learn.org. See: https://github.com/scikit-learn/scikit-learn/issues/21755 */display: inline-block !important;position: relative;}#sk-container-id-72 div.sk-text-repr-fallback {display: none;}</style><div id=\"sk-container-id-72\" class=\"sk-top-container\"><div class=\"sk-text-repr-fallback\"><pre>Pipeline(steps=[(&#x27;preprocess&#x27;,\n",
       "                 ColumnTransformer(transformers=[(&#x27;obj_imputer&#x27;,\n",
       "                                                  Pipeline(steps=[(&#x27;ohe_transform&#x27;,\n",
       "                                                                   OneHotEncoder(handle_unknown=&#x27;ignore&#x27;,\n",
       "                                                                                 sparse_output=False))]),\n",
       "                                                  [&#x27;GADE&#x27;, &#x27;Work&#x27;]),\n",
       "                                                 (&#x27;numimputer&#x27;,\n",
       "                                                  Pipeline(steps=[(&#x27;numimputer&#x27;,\n",
       "                                                                   IterativeImputer(initial_strategy=&#x27;median&#x27;,\n",
       "                                                                                    random_state=42))]),\n",
       "                                                  [&#x27;Hours&#x27;, &#x27;streams&#x27;]),\n",
       "                                                 (&#x27;age_pipe&#x27;,\n",
       "                                                  Pipeline(steps=[(&#x27;agenorm&#x27;,\n",
       "                                                                   StandardScaler())]),\n",
       "                                                  [&#x27;Age&#x27;]),\n",
       "                                                 (&#x27;survey_pipe&#x27;,\n",
       "                                                  Pipeline(steps=[(&#x27;ohe_transform&#x27;,\n",
       "                                                                   OneHotEncoder(handle_unknown=&#x27;ignore&#x27;,\n",
       "                                                                                 sparse_output=False))]),\n",
       "                                                  [&#x27;GADE&#x27;, &#x27;Game&#x27;, &#x27;Platform&#x27;,\n",
       "                                                   &#x27;earnings&#x27;, &#x27;whyplay&#x27;,\n",
       "                                                   &#x27;Gender&#x27;, &#x27;Work&#x27;, &#x27;Degree&#x27;,\n",
       "                                                   &#x27;Birthplace&#x27;, &#x27;Residence&#x27;,\n",
       "                                                   &#x27;Playstyle&#x27;])])),\n",
       "                (&#x27;model&#x27;, GaussianNB())])</pre><b>In a Jupyter environment, please rerun this cell to show the HTML representation or trust the notebook. <br />On GitHub, the HTML representation is unable to render, please try loading this page with nbviewer.org.</b></div><div class=\"sk-container\" hidden><div class=\"sk-item sk-dashed-wrapped\"><div class=\"sk-label-container\"><div class=\"sk-label sk-toggleable\"><input class=\"sk-toggleable__control sk-hidden--visually\" id=\"sk-estimator-id-604\" type=\"checkbox\" ><label for=\"sk-estimator-id-604\" class=\"sk-toggleable__label sk-toggleable__label-arrow\">Pipeline</label><div class=\"sk-toggleable__content\"><pre>Pipeline(steps=[(&#x27;preprocess&#x27;,\n",
       "                 ColumnTransformer(transformers=[(&#x27;obj_imputer&#x27;,\n",
       "                                                  Pipeline(steps=[(&#x27;ohe_transform&#x27;,\n",
       "                                                                   OneHotEncoder(handle_unknown=&#x27;ignore&#x27;,\n",
       "                                                                                 sparse_output=False))]),\n",
       "                                                  [&#x27;GADE&#x27;, &#x27;Work&#x27;]),\n",
       "                                                 (&#x27;numimputer&#x27;,\n",
       "                                                  Pipeline(steps=[(&#x27;numimputer&#x27;,\n",
       "                                                                   IterativeImputer(initial_strategy=&#x27;median&#x27;,\n",
       "                                                                                    random_state=42))]),\n",
       "                                                  [&#x27;Hours&#x27;, &#x27;streams&#x27;]),\n",
       "                                                 (&#x27;age_pipe&#x27;,\n",
       "                                                  Pipeline(steps=[(&#x27;agenorm&#x27;,\n",
       "                                                                   StandardScaler())]),\n",
       "                                                  [&#x27;Age&#x27;]),\n",
       "                                                 (&#x27;survey_pipe&#x27;,\n",
       "                                                  Pipeline(steps=[(&#x27;ohe_transform&#x27;,\n",
       "                                                                   OneHotEncoder(handle_unknown=&#x27;ignore&#x27;,\n",
       "                                                                                 sparse_output=False))]),\n",
       "                                                  [&#x27;GADE&#x27;, &#x27;Game&#x27;, &#x27;Platform&#x27;,\n",
       "                                                   &#x27;earnings&#x27;, &#x27;whyplay&#x27;,\n",
       "                                                   &#x27;Gender&#x27;, &#x27;Work&#x27;, &#x27;Degree&#x27;,\n",
       "                                                   &#x27;Birthplace&#x27;, &#x27;Residence&#x27;,\n",
       "                                                   &#x27;Playstyle&#x27;])])),\n",
       "                (&#x27;model&#x27;, GaussianNB())])</pre></div></div></div><div class=\"sk-serial\"><div class=\"sk-item sk-dashed-wrapped\"><div class=\"sk-label-container\"><div class=\"sk-label sk-toggleable\"><input class=\"sk-toggleable__control sk-hidden--visually\" id=\"sk-estimator-id-605\" type=\"checkbox\" ><label for=\"sk-estimator-id-605\" class=\"sk-toggleable__label sk-toggleable__label-arrow\">preprocess: ColumnTransformer</label><div class=\"sk-toggleable__content\"><pre>ColumnTransformer(transformers=[(&#x27;obj_imputer&#x27;,\n",
       "                                 Pipeline(steps=[(&#x27;ohe_transform&#x27;,\n",
       "                                                  OneHotEncoder(handle_unknown=&#x27;ignore&#x27;,\n",
       "                                                                sparse_output=False))]),\n",
       "                                 [&#x27;GADE&#x27;, &#x27;Work&#x27;]),\n",
       "                                (&#x27;numimputer&#x27;,\n",
       "                                 Pipeline(steps=[(&#x27;numimputer&#x27;,\n",
       "                                                  IterativeImputer(initial_strategy=&#x27;median&#x27;,\n",
       "                                                                   random_state=42))]),\n",
       "                                 [&#x27;Hours&#x27;, &#x27;streams&#x27;]),\n",
       "                                (&#x27;age_pipe&#x27;,\n",
       "                                 Pipeline(steps=[(&#x27;agenorm&#x27;,\n",
       "                                                  StandardScaler())]),\n",
       "                                 [&#x27;Age&#x27;]),\n",
       "                                (&#x27;survey_pipe&#x27;,\n",
       "                                 Pipeline(steps=[(&#x27;ohe_transform&#x27;,\n",
       "                                                  OneHotEncoder(handle_unknown=&#x27;ignore&#x27;,\n",
       "                                                                sparse_output=False))]),\n",
       "                                 [&#x27;GADE&#x27;, &#x27;Game&#x27;, &#x27;Platform&#x27;, &#x27;earnings&#x27;,\n",
       "                                  &#x27;whyplay&#x27;, &#x27;Gender&#x27;, &#x27;Work&#x27;, &#x27;Degree&#x27;,\n",
       "                                  &#x27;Birthplace&#x27;, &#x27;Residence&#x27;, &#x27;Playstyle&#x27;])])</pre></div></div></div><div class=\"sk-parallel\"><div class=\"sk-parallel-item\"><div class=\"sk-item\"><div class=\"sk-label-container\"><div class=\"sk-label sk-toggleable\"><input class=\"sk-toggleable__control sk-hidden--visually\" id=\"sk-estimator-id-606\" type=\"checkbox\" ><label for=\"sk-estimator-id-606\" class=\"sk-toggleable__label sk-toggleable__label-arrow\">obj_imputer</label><div class=\"sk-toggleable__content\"><pre>[&#x27;GADE&#x27;, &#x27;Work&#x27;]</pre></div></div></div><div class=\"sk-serial\"><div class=\"sk-item\"><div class=\"sk-serial\"><div class=\"sk-item\"><div class=\"sk-estimator sk-toggleable\"><input class=\"sk-toggleable__control sk-hidden--visually\" id=\"sk-estimator-id-607\" type=\"checkbox\" ><label for=\"sk-estimator-id-607\" class=\"sk-toggleable__label sk-toggleable__label-arrow\">OneHotEncoder</label><div class=\"sk-toggleable__content\"><pre>OneHotEncoder(handle_unknown=&#x27;ignore&#x27;, sparse_output=False)</pre></div></div></div></div></div></div></div></div><div class=\"sk-parallel-item\"><div class=\"sk-item\"><div class=\"sk-label-container\"><div class=\"sk-label sk-toggleable\"><input class=\"sk-toggleable__control sk-hidden--visually\" id=\"sk-estimator-id-608\" type=\"checkbox\" ><label for=\"sk-estimator-id-608\" class=\"sk-toggleable__label sk-toggleable__label-arrow\">numimputer</label><div class=\"sk-toggleable__content\"><pre>[&#x27;Hours&#x27;, &#x27;streams&#x27;]</pre></div></div></div><div class=\"sk-serial\"><div class=\"sk-item\"><div class=\"sk-serial\"><div class=\"sk-item\"><div class=\"sk-estimator sk-toggleable\"><input class=\"sk-toggleable__control sk-hidden--visually\" id=\"sk-estimator-id-609\" type=\"checkbox\" ><label for=\"sk-estimator-id-609\" class=\"sk-toggleable__label sk-toggleable__label-arrow\">IterativeImputer</label><div class=\"sk-toggleable__content\"><pre>IterativeImputer(initial_strategy=&#x27;median&#x27;, random_state=42)</pre></div></div></div></div></div></div></div></div><div class=\"sk-parallel-item\"><div class=\"sk-item\"><div class=\"sk-label-container\"><div class=\"sk-label sk-toggleable\"><input class=\"sk-toggleable__control sk-hidden--visually\" id=\"sk-estimator-id-610\" type=\"checkbox\" ><label for=\"sk-estimator-id-610\" class=\"sk-toggleable__label sk-toggleable__label-arrow\">age_pipe</label><div class=\"sk-toggleable__content\"><pre>[&#x27;Age&#x27;]</pre></div></div></div><div class=\"sk-serial\"><div class=\"sk-item\"><div class=\"sk-serial\"><div class=\"sk-item\"><div class=\"sk-estimator sk-toggleable\"><input class=\"sk-toggleable__control sk-hidden--visually\" id=\"sk-estimator-id-611\" type=\"checkbox\" ><label for=\"sk-estimator-id-611\" class=\"sk-toggleable__label sk-toggleable__label-arrow\">StandardScaler</label><div class=\"sk-toggleable__content\"><pre>StandardScaler()</pre></div></div></div></div></div></div></div></div><div class=\"sk-parallel-item\"><div class=\"sk-item\"><div class=\"sk-label-container\"><div class=\"sk-label sk-toggleable\"><input class=\"sk-toggleable__control sk-hidden--visually\" id=\"sk-estimator-id-612\" type=\"checkbox\" ><label for=\"sk-estimator-id-612\" class=\"sk-toggleable__label sk-toggleable__label-arrow\">survey_pipe</label><div class=\"sk-toggleable__content\"><pre>[&#x27;GADE&#x27;, &#x27;Game&#x27;, &#x27;Platform&#x27;, &#x27;earnings&#x27;, &#x27;whyplay&#x27;, &#x27;Gender&#x27;, &#x27;Work&#x27;, &#x27;Degree&#x27;, &#x27;Birthplace&#x27;, &#x27;Residence&#x27;, &#x27;Playstyle&#x27;]</pre></div></div></div><div class=\"sk-serial\"><div class=\"sk-item\"><div class=\"sk-serial\"><div class=\"sk-item\"><div class=\"sk-estimator sk-toggleable\"><input class=\"sk-toggleable__control sk-hidden--visually\" id=\"sk-estimator-id-613\" type=\"checkbox\" ><label for=\"sk-estimator-id-613\" class=\"sk-toggleable__label sk-toggleable__label-arrow\">OneHotEncoder</label><div class=\"sk-toggleable__content\"><pre>OneHotEncoder(handle_unknown=&#x27;ignore&#x27;, sparse_output=False)</pre></div></div></div></div></div></div></div></div></div></div><div class=\"sk-item\"><div class=\"sk-estimator sk-toggleable\"><input class=\"sk-toggleable__control sk-hidden--visually\" id=\"sk-estimator-id-614\" type=\"checkbox\" ><label for=\"sk-estimator-id-614\" class=\"sk-toggleable__label sk-toggleable__label-arrow\">GaussianNB</label><div class=\"sk-toggleable__content\"><pre>GaussianNB()</pre></div></div></div></div></div></div></div>"
      ],
      "text/plain": [
       "Pipeline(steps=[('preprocess',\n",
       "                 ColumnTransformer(transformers=[('obj_imputer',\n",
       "                                                  Pipeline(steps=[('ohe_transform',\n",
       "                                                                   OneHotEncoder(handle_unknown='ignore',\n",
       "                                                                                 sparse_output=False))]),\n",
       "                                                  ['GADE', 'Work']),\n",
       "                                                 ('numimputer',\n",
       "                                                  Pipeline(steps=[('numimputer',\n",
       "                                                                   IterativeImputer(initial_strategy='median',\n",
       "                                                                                    random_state=42))]),\n",
       "                                                  ['Hours', 'streams']),\n",
       "                                                 ('age_pipe',\n",
       "                                                  Pipeline(steps=[('agenorm',\n",
       "                                                                   StandardScaler())]),\n",
       "                                                  ['Age']),\n",
       "                                                 ('survey_pipe',\n",
       "                                                  Pipeline(steps=[('ohe_transform',\n",
       "                                                                   OneHotEncoder(handle_unknown='ignore',\n",
       "                                                                                 sparse_output=False))]),\n",
       "                                                  ['GADE', 'Game', 'Platform',\n",
       "                                                   'earnings', 'whyplay',\n",
       "                                                   'Gender', 'Work', 'Degree',\n",
       "                                                   'Birthplace', 'Residence',\n",
       "                                                   'Playstyle'])])),\n",
       "                ('model', GaussianNB())])"
      ]
     },
     "execution_count": 252,
     "metadata": {},
     "output_type": "execute_result"
    }
   ],
   "source": [
    "# Naive Bayes Classification pipeline with all features standardized \n",
    "nb_pipe = Pipeline([('preprocess', nb_ct),\n",
    "     ('model',\n",
    "      GaussianNB())])\n",
    "nb_pipe"
   ]
  },
  {
   "cell_type": "code",
   "execution_count": 253,
   "metadata": {},
   "outputs": [
    {
     "data": {
      "text/html": [
       "<style>#sk-container-id-73 {color: black;background-color: white;}#sk-container-id-73 pre{padding: 0;}#sk-container-id-73 div.sk-toggleable {background-color: white;}#sk-container-id-73 label.sk-toggleable__label {cursor: pointer;display: block;width: 100%;margin-bottom: 0;padding: 0.3em;box-sizing: border-box;text-align: center;}#sk-container-id-73 label.sk-toggleable__label-arrow:before {content: \"▸\";float: left;margin-right: 0.25em;color: #696969;}#sk-container-id-73 label.sk-toggleable__label-arrow:hover:before {color: black;}#sk-container-id-73 div.sk-estimator:hover label.sk-toggleable__label-arrow:before {color: black;}#sk-container-id-73 div.sk-toggleable__content {max-height: 0;max-width: 0;overflow: hidden;text-align: left;background-color: #f0f8ff;}#sk-container-id-73 div.sk-toggleable__content pre {margin: 0.2em;color: black;border-radius: 0.25em;background-color: #f0f8ff;}#sk-container-id-73 input.sk-toggleable__control:checked~div.sk-toggleable__content {max-height: 200px;max-width: 100%;overflow: auto;}#sk-container-id-73 input.sk-toggleable__control:checked~label.sk-toggleable__label-arrow:before {content: \"▾\";}#sk-container-id-73 div.sk-estimator input.sk-toggleable__control:checked~label.sk-toggleable__label {background-color: #d4ebff;}#sk-container-id-73 div.sk-label input.sk-toggleable__control:checked~label.sk-toggleable__label {background-color: #d4ebff;}#sk-container-id-73 input.sk-hidden--visually {border: 0;clip: rect(1px 1px 1px 1px);clip: rect(1px, 1px, 1px, 1px);height: 1px;margin: -1px;overflow: hidden;padding: 0;position: absolute;width: 1px;}#sk-container-id-73 div.sk-estimator {font-family: monospace;background-color: #f0f8ff;border: 1px dotted black;border-radius: 0.25em;box-sizing: border-box;margin-bottom: 0.5em;}#sk-container-id-73 div.sk-estimator:hover {background-color: #d4ebff;}#sk-container-id-73 div.sk-parallel-item::after {content: \"\";width: 100%;border-bottom: 1px solid gray;flex-grow: 1;}#sk-container-id-73 div.sk-label:hover label.sk-toggleable__label {background-color: #d4ebff;}#sk-container-id-73 div.sk-serial::before {content: \"\";position: absolute;border-left: 1px solid gray;box-sizing: border-box;top: 0;bottom: 0;left: 50%;z-index: 0;}#sk-container-id-73 div.sk-serial {display: flex;flex-direction: column;align-items: center;background-color: white;padding-right: 0.2em;padding-left: 0.2em;position: relative;}#sk-container-id-73 div.sk-item {position: relative;z-index: 1;}#sk-container-id-73 div.sk-parallel {display: flex;align-items: stretch;justify-content: center;background-color: white;position: relative;}#sk-container-id-73 div.sk-item::before, #sk-container-id-73 div.sk-parallel-item::before {content: \"\";position: absolute;border-left: 1px solid gray;box-sizing: border-box;top: 0;bottom: 0;left: 50%;z-index: -1;}#sk-container-id-73 div.sk-parallel-item {display: flex;flex-direction: column;z-index: 1;position: relative;background-color: white;}#sk-container-id-73 div.sk-parallel-item:first-child::after {align-self: flex-end;width: 50%;}#sk-container-id-73 div.sk-parallel-item:last-child::after {align-self: flex-start;width: 50%;}#sk-container-id-73 div.sk-parallel-item:only-child::after {width: 0;}#sk-container-id-73 div.sk-dashed-wrapped {border: 1px dashed gray;margin: 0 0.4em 0.5em 0.4em;box-sizing: border-box;padding-bottom: 0.4em;background-color: white;}#sk-container-id-73 div.sk-label label {font-family: monospace;font-weight: bold;display: inline-block;line-height: 1.2em;}#sk-container-id-73 div.sk-label-container {text-align: center;}#sk-container-id-73 div.sk-container {/* jupyter's `normalize.less` sets `[hidden] { display: none; }` but bootstrap.min.css set `[hidden] { display: none !important; }` so we also need the `!important` here to be able to override the default hidden behavior on the sphinx rendered scikit-learn.org. See: https://github.com/scikit-learn/scikit-learn/issues/21755 */display: inline-block !important;position: relative;}#sk-container-id-73 div.sk-text-repr-fallback {display: none;}</style><div id=\"sk-container-id-73\" class=\"sk-top-container\"><div class=\"sk-text-repr-fallback\"><pre>Pipeline(steps=[(&#x27;preprocess&#x27;,\n",
       "                 ColumnTransformer(transformers=[(&#x27;obj_imputer&#x27;,\n",
       "                                                  Pipeline(steps=[(&#x27;ohe_transform&#x27;,\n",
       "                                                                   OneHotEncoder(handle_unknown=&#x27;ignore&#x27;,\n",
       "                                                                                 sparse_output=False))]),\n",
       "                                                  [&#x27;GADE&#x27;, &#x27;Work&#x27;]),\n",
       "                                                 (&#x27;numimputer&#x27;,\n",
       "                                                  Pipeline(steps=[(&#x27;numimputer&#x27;,\n",
       "                                                                   IterativeImputer(initial_strategy=&#x27;median&#x27;,\n",
       "                                                                                    random_state=42))]),\n",
       "                                                  [&#x27;Hours&#x27;, &#x27;streams&#x27;]),\n",
       "                                                 (&#x27;age_pipe&#x27;,\n",
       "                                                  Pipeline(steps=[(&#x27;agenorm&#x27;,\n",
       "                                                                   StandardScaler())]),\n",
       "                                                  [&#x27;Age&#x27;]),\n",
       "                                                 (&#x27;survey_pipe&#x27;,\n",
       "                                                  Pipeline(steps=[(&#x27;ohe_transform&#x27;,\n",
       "                                                                   OneHotEncoder(handle_unknown=&#x27;ignore&#x27;,\n",
       "                                                                                 sparse_output=False))]),\n",
       "                                                  [&#x27;GADE&#x27;, &#x27;Game&#x27;, &#x27;Platform&#x27;,\n",
       "                                                   &#x27;earnings&#x27;, &#x27;whyplay&#x27;,\n",
       "                                                   &#x27;Gender&#x27;, &#x27;Work&#x27;, &#x27;Degree&#x27;,\n",
       "                                                   &#x27;Birthplace&#x27;, &#x27;Residence&#x27;,\n",
       "                                                   &#x27;Playstyle&#x27;])])),\n",
       "                (&#x27;model&#x27;, GaussianNB())])</pre><b>In a Jupyter environment, please rerun this cell to show the HTML representation or trust the notebook. <br />On GitHub, the HTML representation is unable to render, please try loading this page with nbviewer.org.</b></div><div class=\"sk-container\" hidden><div class=\"sk-item sk-dashed-wrapped\"><div class=\"sk-label-container\"><div class=\"sk-label sk-toggleable\"><input class=\"sk-toggleable__control sk-hidden--visually\" id=\"sk-estimator-id-615\" type=\"checkbox\" ><label for=\"sk-estimator-id-615\" class=\"sk-toggleable__label sk-toggleable__label-arrow\">Pipeline</label><div class=\"sk-toggleable__content\"><pre>Pipeline(steps=[(&#x27;preprocess&#x27;,\n",
       "                 ColumnTransformer(transformers=[(&#x27;obj_imputer&#x27;,\n",
       "                                                  Pipeline(steps=[(&#x27;ohe_transform&#x27;,\n",
       "                                                                   OneHotEncoder(handle_unknown=&#x27;ignore&#x27;,\n",
       "                                                                                 sparse_output=False))]),\n",
       "                                                  [&#x27;GADE&#x27;, &#x27;Work&#x27;]),\n",
       "                                                 (&#x27;numimputer&#x27;,\n",
       "                                                  Pipeline(steps=[(&#x27;numimputer&#x27;,\n",
       "                                                                   IterativeImputer(initial_strategy=&#x27;median&#x27;,\n",
       "                                                                                    random_state=42))]),\n",
       "                                                  [&#x27;Hours&#x27;, &#x27;streams&#x27;]),\n",
       "                                                 (&#x27;age_pipe&#x27;,\n",
       "                                                  Pipeline(steps=[(&#x27;agenorm&#x27;,\n",
       "                                                                   StandardScaler())]),\n",
       "                                                  [&#x27;Age&#x27;]),\n",
       "                                                 (&#x27;survey_pipe&#x27;,\n",
       "                                                  Pipeline(steps=[(&#x27;ohe_transform&#x27;,\n",
       "                                                                   OneHotEncoder(handle_unknown=&#x27;ignore&#x27;,\n",
       "                                                                                 sparse_output=False))]),\n",
       "                                                  [&#x27;GADE&#x27;, &#x27;Game&#x27;, &#x27;Platform&#x27;,\n",
       "                                                   &#x27;earnings&#x27;, &#x27;whyplay&#x27;,\n",
       "                                                   &#x27;Gender&#x27;, &#x27;Work&#x27;, &#x27;Degree&#x27;,\n",
       "                                                   &#x27;Birthplace&#x27;, &#x27;Residence&#x27;,\n",
       "                                                   &#x27;Playstyle&#x27;])])),\n",
       "                (&#x27;model&#x27;, GaussianNB())])</pre></div></div></div><div class=\"sk-serial\"><div class=\"sk-item sk-dashed-wrapped\"><div class=\"sk-label-container\"><div class=\"sk-label sk-toggleable\"><input class=\"sk-toggleable__control sk-hidden--visually\" id=\"sk-estimator-id-616\" type=\"checkbox\" ><label for=\"sk-estimator-id-616\" class=\"sk-toggleable__label sk-toggleable__label-arrow\">preprocess: ColumnTransformer</label><div class=\"sk-toggleable__content\"><pre>ColumnTransformer(transformers=[(&#x27;obj_imputer&#x27;,\n",
       "                                 Pipeline(steps=[(&#x27;ohe_transform&#x27;,\n",
       "                                                  OneHotEncoder(handle_unknown=&#x27;ignore&#x27;,\n",
       "                                                                sparse_output=False))]),\n",
       "                                 [&#x27;GADE&#x27;, &#x27;Work&#x27;]),\n",
       "                                (&#x27;numimputer&#x27;,\n",
       "                                 Pipeline(steps=[(&#x27;numimputer&#x27;,\n",
       "                                                  IterativeImputer(initial_strategy=&#x27;median&#x27;,\n",
       "                                                                   random_state=42))]),\n",
       "                                 [&#x27;Hours&#x27;, &#x27;streams&#x27;]),\n",
       "                                (&#x27;age_pipe&#x27;,\n",
       "                                 Pipeline(steps=[(&#x27;agenorm&#x27;,\n",
       "                                                  StandardScaler())]),\n",
       "                                 [&#x27;Age&#x27;]),\n",
       "                                (&#x27;survey_pipe&#x27;,\n",
       "                                 Pipeline(steps=[(&#x27;ohe_transform&#x27;,\n",
       "                                                  OneHotEncoder(handle_unknown=&#x27;ignore&#x27;,\n",
       "                                                                sparse_output=False))]),\n",
       "                                 [&#x27;GADE&#x27;, &#x27;Game&#x27;, &#x27;Platform&#x27;, &#x27;earnings&#x27;,\n",
       "                                  &#x27;whyplay&#x27;, &#x27;Gender&#x27;, &#x27;Work&#x27;, &#x27;Degree&#x27;,\n",
       "                                  &#x27;Birthplace&#x27;, &#x27;Residence&#x27;, &#x27;Playstyle&#x27;])])</pre></div></div></div><div class=\"sk-parallel\"><div class=\"sk-parallel-item\"><div class=\"sk-item\"><div class=\"sk-label-container\"><div class=\"sk-label sk-toggleable\"><input class=\"sk-toggleable__control sk-hidden--visually\" id=\"sk-estimator-id-617\" type=\"checkbox\" ><label for=\"sk-estimator-id-617\" class=\"sk-toggleable__label sk-toggleable__label-arrow\">obj_imputer</label><div class=\"sk-toggleable__content\"><pre>[&#x27;GADE&#x27;, &#x27;Work&#x27;]</pre></div></div></div><div class=\"sk-serial\"><div class=\"sk-item\"><div class=\"sk-serial\"><div class=\"sk-item\"><div class=\"sk-estimator sk-toggleable\"><input class=\"sk-toggleable__control sk-hidden--visually\" id=\"sk-estimator-id-618\" type=\"checkbox\" ><label for=\"sk-estimator-id-618\" class=\"sk-toggleable__label sk-toggleable__label-arrow\">OneHotEncoder</label><div class=\"sk-toggleable__content\"><pre>OneHotEncoder(handle_unknown=&#x27;ignore&#x27;, sparse_output=False)</pre></div></div></div></div></div></div></div></div><div class=\"sk-parallel-item\"><div class=\"sk-item\"><div class=\"sk-label-container\"><div class=\"sk-label sk-toggleable\"><input class=\"sk-toggleable__control sk-hidden--visually\" id=\"sk-estimator-id-619\" type=\"checkbox\" ><label for=\"sk-estimator-id-619\" class=\"sk-toggleable__label sk-toggleable__label-arrow\">numimputer</label><div class=\"sk-toggleable__content\"><pre>[&#x27;Hours&#x27;, &#x27;streams&#x27;]</pre></div></div></div><div class=\"sk-serial\"><div class=\"sk-item\"><div class=\"sk-serial\"><div class=\"sk-item\"><div class=\"sk-estimator sk-toggleable\"><input class=\"sk-toggleable__control sk-hidden--visually\" id=\"sk-estimator-id-620\" type=\"checkbox\" ><label for=\"sk-estimator-id-620\" class=\"sk-toggleable__label sk-toggleable__label-arrow\">IterativeImputer</label><div class=\"sk-toggleable__content\"><pre>IterativeImputer(initial_strategy=&#x27;median&#x27;, random_state=42)</pre></div></div></div></div></div></div></div></div><div class=\"sk-parallel-item\"><div class=\"sk-item\"><div class=\"sk-label-container\"><div class=\"sk-label sk-toggleable\"><input class=\"sk-toggleable__control sk-hidden--visually\" id=\"sk-estimator-id-621\" type=\"checkbox\" ><label for=\"sk-estimator-id-621\" class=\"sk-toggleable__label sk-toggleable__label-arrow\">age_pipe</label><div class=\"sk-toggleable__content\"><pre>[&#x27;Age&#x27;]</pre></div></div></div><div class=\"sk-serial\"><div class=\"sk-item\"><div class=\"sk-serial\"><div class=\"sk-item\"><div class=\"sk-estimator sk-toggleable\"><input class=\"sk-toggleable__control sk-hidden--visually\" id=\"sk-estimator-id-622\" type=\"checkbox\" ><label for=\"sk-estimator-id-622\" class=\"sk-toggleable__label sk-toggleable__label-arrow\">StandardScaler</label><div class=\"sk-toggleable__content\"><pre>StandardScaler()</pre></div></div></div></div></div></div></div></div><div class=\"sk-parallel-item\"><div class=\"sk-item\"><div class=\"sk-label-container\"><div class=\"sk-label sk-toggleable\"><input class=\"sk-toggleable__control sk-hidden--visually\" id=\"sk-estimator-id-623\" type=\"checkbox\" ><label for=\"sk-estimator-id-623\" class=\"sk-toggleable__label sk-toggleable__label-arrow\">survey_pipe</label><div class=\"sk-toggleable__content\"><pre>[&#x27;GADE&#x27;, &#x27;Game&#x27;, &#x27;Platform&#x27;, &#x27;earnings&#x27;, &#x27;whyplay&#x27;, &#x27;Gender&#x27;, &#x27;Work&#x27;, &#x27;Degree&#x27;, &#x27;Birthplace&#x27;, &#x27;Residence&#x27;, &#x27;Playstyle&#x27;]</pre></div></div></div><div class=\"sk-serial\"><div class=\"sk-item\"><div class=\"sk-serial\"><div class=\"sk-item\"><div class=\"sk-estimator sk-toggleable\"><input class=\"sk-toggleable__control sk-hidden--visually\" id=\"sk-estimator-id-624\" type=\"checkbox\" ><label for=\"sk-estimator-id-624\" class=\"sk-toggleable__label sk-toggleable__label-arrow\">OneHotEncoder</label><div class=\"sk-toggleable__content\"><pre>OneHotEncoder(handle_unknown=&#x27;ignore&#x27;, sparse_output=False)</pre></div></div></div></div></div></div></div></div></div></div><div class=\"sk-item\"><div class=\"sk-estimator sk-toggleable\"><input class=\"sk-toggleable__control sk-hidden--visually\" id=\"sk-estimator-id-625\" type=\"checkbox\" ><label for=\"sk-estimator-id-625\" class=\"sk-toggleable__label sk-toggleable__label-arrow\">GaussianNB</label><div class=\"sk-toggleable__content\"><pre>GaussianNB()</pre></div></div></div></div></div></div></div>"
      ],
      "text/plain": [
       "Pipeline(steps=[('preprocess',\n",
       "                 ColumnTransformer(transformers=[('obj_imputer',\n",
       "                                                  Pipeline(steps=[('ohe_transform',\n",
       "                                                                   OneHotEncoder(handle_unknown='ignore',\n",
       "                                                                                 sparse_output=False))]),\n",
       "                                                  ['GADE', 'Work']),\n",
       "                                                 ('numimputer',\n",
       "                                                  Pipeline(steps=[('numimputer',\n",
       "                                                                   IterativeImputer(initial_strategy='median',\n",
       "                                                                                    random_state=42))]),\n",
       "                                                  ['Hours', 'streams']),\n",
       "                                                 ('age_pipe',\n",
       "                                                  Pipeline(steps=[('agenorm',\n",
       "                                                                   StandardScaler())]),\n",
       "                                                  ['Age']),\n",
       "                                                 ('survey_pipe',\n",
       "                                                  Pipeline(steps=[('ohe_transform',\n",
       "                                                                   OneHotEncoder(handle_unknown='ignore',\n",
       "                                                                                 sparse_output=False))]),\n",
       "                                                  ['GADE', 'Game', 'Platform',\n",
       "                                                   'earnings', 'whyplay',\n",
       "                                                   'Gender', 'Work', 'Degree',\n",
       "                                                   'Birthplace', 'Residence',\n",
       "                                                   'Playstyle'])])),\n",
       "                ('model', GaussianNB())])"
      ]
     },
     "execution_count": 253,
     "metadata": {},
     "output_type": "execute_result"
    }
   ],
   "source": [
    "nb_pipe.fit(X4_train,y4_train)"
   ]
  },
  {
   "cell_type": "code",
   "execution_count": 255,
   "metadata": {},
   "outputs": [],
   "source": [
    "nb_y_pred = nb_pipe.predict(X4_test)"
   ]
  },
  {
   "cell_type": "code",
   "execution_count": 256,
   "metadata": {
    "scrolled": false
   },
   "outputs": [
    {
     "data": {
      "text/plain": [
       "<sklearn.metrics._plot.confusion_matrix.ConfusionMatrixDisplay at 0x204b68b9a30>"
      ]
     },
     "execution_count": 256,
     "metadata": {},
     "output_type": "execute_result"
    },
    {
     "data": {
      "image/png": "[encoded data removed]",
      "text/plain": [
       "<Figure size 640x480 with 2 Axes>"
      ]
     },
     "metadata": {},
     "output_type": "display_data"
    }
   ],
   "source": [
    "ConfusionMatrixDisplay.from_predictions(y4_test, nb_y_pred, normalize='all')"
   ]
  },
  {
   "cell_type": "code",
   "execution_count": 259,
   "metadata": {},
   "outputs": [
    {
     "name": "stdout",
     "output_type": "stream",
     "text": [
      "                  precision    recall  f1-score   support\n",
      "\n",
      " minimal anxiety       0.37      0.03      0.05       817\n",
      "    mild anxiety       0.90      0.10      0.17      1683\n",
      "moderate anxiety       0.11      0.09      0.10       373\n",
      "  severe anxiety       0.05      0.89      0.10       142\n",
      "\n",
      "        accuracy                           0.11      3015\n",
      "       macro avg       0.36      0.28      0.11      3015\n",
      "    weighted avg       0.62      0.11      0.13      3015\n",
      "\n"
     ]
    }
   ],
   "source": [
    "print(classification_report(y4_test, nb_y_pred, target_names = target_labels))"
   ]
  },
  {
   "cell_type": "markdown",
   "metadata": {},
   "source": [
    "### Model Evaluation "
   ]
  },
  {
   "cell_type": "markdown",
   "metadata": {},
   "source": [
    "### Naive BayesHyperparameter Tuning "
   ]
  },
  {
   "cell_type": "markdown",
   "metadata": {},
   "source": [
    "## Model V | K-Nearest Neighbors Classification "
   ]
  },
  {
   "cell_type": "code",
   "execution_count": 260,
   "metadata": {},
   "outputs": [],
   "source": [
    "# separating our target and predictor variables \n",
    "X_5 = gamers_df.drop(columns=non_predict_cols)\n",
    "y_5 = gamers_df['anxiety']"
   ]
  },
  {
   "cell_type": "code",
   "execution_count": 261,
   "metadata": {},
   "outputs": [],
   "source": [
    "# label encoding our target variable \n",
    "y_5 = lab_enc.fit_transform(y_5)"
   ]
  },
  {
   "cell_type": "code",
   "execution_count": 262,
   "metadata": {},
   "outputs": [],
   "source": [
    "# splitting our data into training and test set \n",
    "X5_train, X5_test, y5_train, y5_test = train_test_split(X_5, y_5, test_size = 0.25,random_state=42)"
   ]
  },
  {
   "cell_type": "code",
   "execution_count": 263,
   "metadata": {},
   "outputs": [
    {
     "data": {
      "text/html": [
       "<style>#sk-container-id-74 {color: black;background-color: white;}#sk-container-id-74 pre{padding: 0;}#sk-container-id-74 div.sk-toggleable {background-color: white;}#sk-container-id-74 label.sk-toggleable__label {cursor: pointer;display: block;width: 100%;margin-bottom: 0;padding: 0.3em;box-sizing: border-box;text-align: center;}#sk-container-id-74 label.sk-toggleable__label-arrow:before {content: \"▸\";float: left;margin-right: 0.25em;color: #696969;}#sk-container-id-74 label.sk-toggleable__label-arrow:hover:before {color: black;}#sk-container-id-74 div.sk-estimator:hover label.sk-toggleable__label-arrow:before {color: black;}#sk-container-id-74 div.sk-toggleable__content {max-height: 0;max-width: 0;overflow: hidden;text-align: left;background-color: #f0f8ff;}#sk-container-id-74 div.sk-toggleable__content pre {margin: 0.2em;color: black;border-radius: 0.25em;background-color: #f0f8ff;}#sk-container-id-74 input.sk-toggleable__control:checked~div.sk-toggleable__content {max-height: 200px;max-width: 100%;overflow: auto;}#sk-container-id-74 input.sk-toggleable__control:checked~label.sk-toggleable__label-arrow:before {content: \"▾\";}#sk-container-id-74 div.sk-estimator input.sk-toggleable__control:checked~label.sk-toggleable__label {background-color: #d4ebff;}#sk-container-id-74 div.sk-label input.sk-toggleable__control:checked~label.sk-toggleable__label {background-color: #d4ebff;}#sk-container-id-74 input.sk-hidden--visually {border: 0;clip: rect(1px 1px 1px 1px);clip: rect(1px, 1px, 1px, 1px);height: 1px;margin: -1px;overflow: hidden;padding: 0;position: absolute;width: 1px;}#sk-container-id-74 div.sk-estimator {font-family: monospace;background-color: #f0f8ff;border: 1px dotted black;border-radius: 0.25em;box-sizing: border-box;margin-bottom: 0.5em;}#sk-container-id-74 div.sk-estimator:hover {background-color: #d4ebff;}#sk-container-id-74 div.sk-parallel-item::after {content: \"\";width: 100%;border-bottom: 1px solid gray;flex-grow: 1;}#sk-container-id-74 div.sk-label:hover label.sk-toggleable__label {background-color: #d4ebff;}#sk-container-id-74 div.sk-serial::before {content: \"\";position: absolute;border-left: 1px solid gray;box-sizing: border-box;top: 0;bottom: 0;left: 50%;z-index: 0;}#sk-container-id-74 div.sk-serial {display: flex;flex-direction: column;align-items: center;background-color: white;padding-right: 0.2em;padding-left: 0.2em;position: relative;}#sk-container-id-74 div.sk-item {position: relative;z-index: 1;}#sk-container-id-74 div.sk-parallel {display: flex;align-items: stretch;justify-content: center;background-color: white;position: relative;}#sk-container-id-74 div.sk-item::before, #sk-container-id-74 div.sk-parallel-item::before {content: \"\";position: absolute;border-left: 1px solid gray;box-sizing: border-box;top: 0;bottom: 0;left: 50%;z-index: -1;}#sk-container-id-74 div.sk-parallel-item {display: flex;flex-direction: column;z-index: 1;position: relative;background-color: white;}#sk-container-id-74 div.sk-parallel-item:first-child::after {align-self: flex-end;width: 50%;}#sk-container-id-74 div.sk-parallel-item:last-child::after {align-self: flex-start;width: 50%;}#sk-container-id-74 div.sk-parallel-item:only-child::after {width: 0;}#sk-container-id-74 div.sk-dashed-wrapped {border: 1px dashed gray;margin: 0 0.4em 0.5em 0.4em;box-sizing: border-box;padding-bottom: 0.4em;background-color: white;}#sk-container-id-74 div.sk-label label {font-family: monospace;font-weight: bold;display: inline-block;line-height: 1.2em;}#sk-container-id-74 div.sk-label-container {text-align: center;}#sk-container-id-74 div.sk-container {/* jupyter's `normalize.less` sets `[hidden] { display: none; }` but bootstrap.min.css set `[hidden] { display: none !important; }` so we also need the `!important` here to be able to override the default hidden behavior on the sphinx rendered scikit-learn.org. See: https://github.com/scikit-learn/scikit-learn/issues/21755 */display: inline-block !important;position: relative;}#sk-container-id-74 div.sk-text-repr-fallback {display: none;}</style><div id=\"sk-container-id-74\" class=\"sk-top-container\"><div class=\"sk-text-repr-fallback\"><pre>ColumnTransformer(transformers=[(&#x27;obj_imputer&#x27;,\n",
       "                                 Pipeline(steps=[(&#x27;ohe_transform&#x27;,\n",
       "                                                  OneHotEncoder(handle_unknown=&#x27;ignore&#x27;,\n",
       "                                                                sparse_output=False))]),\n",
       "                                 [&#x27;GADE&#x27;, &#x27;Work&#x27;]),\n",
       "                                (&#x27;numimputer&#x27;,\n",
       "                                 Pipeline(steps=[(&#x27;numimputer&#x27;,\n",
       "                                                  IterativeImputer(initial_strategy=&#x27;median&#x27;,\n",
       "                                                                   random_state=42))]),\n",
       "                                 [&#x27;Hours&#x27;, &#x27;streams&#x27;]),\n",
       "                                (&#x27;age_pipe&#x27;,\n",
       "                                 Pipeline(steps=[(&#x27;agenorm&#x27;,\n",
       "                                                  StandardScaler())]),\n",
       "                                 [&#x27;Age&#x27;]),\n",
       "                                (&#x27;survey_pipe&#x27;,\n",
       "                                 Pipeline(steps=[(&#x27;ohe_transform&#x27;,\n",
       "                                                  OneHotEncoder(handle_unknown=&#x27;ignore&#x27;,\n",
       "                                                                sparse_output=False))]),\n",
       "                                 [&#x27;GADE&#x27;, &#x27;Game&#x27;, &#x27;Platform&#x27;, &#x27;earnings&#x27;,\n",
       "                                  &#x27;whyplay&#x27;, &#x27;Gender&#x27;, &#x27;Work&#x27;, &#x27;Degree&#x27;,\n",
       "                                  &#x27;Birthplace&#x27;, &#x27;Residence&#x27;, &#x27;Playstyle&#x27;])])</pre><b>In a Jupyter environment, please rerun this cell to show the HTML representation or trust the notebook. <br />On GitHub, the HTML representation is unable to render, please try loading this page with nbviewer.org.</b></div><div class=\"sk-container\" hidden><div class=\"sk-item sk-dashed-wrapped\"><div class=\"sk-label-container\"><div class=\"sk-label sk-toggleable\"><input class=\"sk-toggleable__control sk-hidden--visually\" id=\"sk-estimator-id-626\" type=\"checkbox\" ><label for=\"sk-estimator-id-626\" class=\"sk-toggleable__label sk-toggleable__label-arrow\">ColumnTransformer</label><div class=\"sk-toggleable__content\"><pre>ColumnTransformer(transformers=[(&#x27;obj_imputer&#x27;,\n",
       "                                 Pipeline(steps=[(&#x27;ohe_transform&#x27;,\n",
       "                                                  OneHotEncoder(handle_unknown=&#x27;ignore&#x27;,\n",
       "                                                                sparse_output=False))]),\n",
       "                                 [&#x27;GADE&#x27;, &#x27;Work&#x27;]),\n",
       "                                (&#x27;numimputer&#x27;,\n",
       "                                 Pipeline(steps=[(&#x27;numimputer&#x27;,\n",
       "                                                  IterativeImputer(initial_strategy=&#x27;median&#x27;,\n",
       "                                                                   random_state=42))]),\n",
       "                                 [&#x27;Hours&#x27;, &#x27;streams&#x27;]),\n",
       "                                (&#x27;age_pipe&#x27;,\n",
       "                                 Pipeline(steps=[(&#x27;agenorm&#x27;,\n",
       "                                                  StandardScaler())]),\n",
       "                                 [&#x27;Age&#x27;]),\n",
       "                                (&#x27;survey_pipe&#x27;,\n",
       "                                 Pipeline(steps=[(&#x27;ohe_transform&#x27;,\n",
       "                                                  OneHotEncoder(handle_unknown=&#x27;ignore&#x27;,\n",
       "                                                                sparse_output=False))]),\n",
       "                                 [&#x27;GADE&#x27;, &#x27;Game&#x27;, &#x27;Platform&#x27;, &#x27;earnings&#x27;,\n",
       "                                  &#x27;whyplay&#x27;, &#x27;Gender&#x27;, &#x27;Work&#x27;, &#x27;Degree&#x27;,\n",
       "                                  &#x27;Birthplace&#x27;, &#x27;Residence&#x27;, &#x27;Playstyle&#x27;])])</pre></div></div></div><div class=\"sk-parallel\"><div class=\"sk-parallel-item\"><div class=\"sk-item\"><div class=\"sk-label-container\"><div class=\"sk-label sk-toggleable\"><input class=\"sk-toggleable__control sk-hidden--visually\" id=\"sk-estimator-id-627\" type=\"checkbox\" ><label for=\"sk-estimator-id-627\" class=\"sk-toggleable__label sk-toggleable__label-arrow\">obj_imputer</label><div class=\"sk-toggleable__content\"><pre>[&#x27;GADE&#x27;, &#x27;Work&#x27;]</pre></div></div></div><div class=\"sk-serial\"><div class=\"sk-item\"><div class=\"sk-serial\"><div class=\"sk-item\"><div class=\"sk-estimator sk-toggleable\"><input class=\"sk-toggleable__control sk-hidden--visually\" id=\"sk-estimator-id-628\" type=\"checkbox\" ><label for=\"sk-estimator-id-628\" class=\"sk-toggleable__label sk-toggleable__label-arrow\">OneHotEncoder</label><div class=\"sk-toggleable__content\"><pre>OneHotEncoder(handle_unknown=&#x27;ignore&#x27;, sparse_output=False)</pre></div></div></div></div></div></div></div></div><div class=\"sk-parallel-item\"><div class=\"sk-item\"><div class=\"sk-label-container\"><div class=\"sk-label sk-toggleable\"><input class=\"sk-toggleable__control sk-hidden--visually\" id=\"sk-estimator-id-629\" type=\"checkbox\" ><label for=\"sk-estimator-id-629\" class=\"sk-toggleable__label sk-toggleable__label-arrow\">numimputer</label><div class=\"sk-toggleable__content\"><pre>[&#x27;Hours&#x27;, &#x27;streams&#x27;]</pre></div></div></div><div class=\"sk-serial\"><div class=\"sk-item\"><div class=\"sk-serial\"><div class=\"sk-item\"><div class=\"sk-estimator sk-toggleable\"><input class=\"sk-toggleable__control sk-hidden--visually\" id=\"sk-estimator-id-630\" type=\"checkbox\" ><label for=\"sk-estimator-id-630\" class=\"sk-toggleable__label sk-toggleable__label-arrow\">IterativeImputer</label><div class=\"sk-toggleable__content\"><pre>IterativeImputer(initial_strategy=&#x27;median&#x27;, random_state=42)</pre></div></div></div></div></div></div></div></div><div class=\"sk-parallel-item\"><div class=\"sk-item\"><div class=\"sk-label-container\"><div class=\"sk-label sk-toggleable\"><input class=\"sk-toggleable__control sk-hidden--visually\" id=\"sk-estimator-id-631\" type=\"checkbox\" ><label for=\"sk-estimator-id-631\" class=\"sk-toggleable__label sk-toggleable__label-arrow\">age_pipe</label><div class=\"sk-toggleable__content\"><pre>[&#x27;Age&#x27;]</pre></div></div></div><div class=\"sk-serial\"><div class=\"sk-item\"><div class=\"sk-serial\"><div class=\"sk-item\"><div class=\"sk-estimator sk-toggleable\"><input class=\"sk-toggleable__control sk-hidden--visually\" id=\"sk-estimator-id-632\" type=\"checkbox\" ><label for=\"sk-estimator-id-632\" class=\"sk-toggleable__label sk-toggleable__label-arrow\">StandardScaler</label><div class=\"sk-toggleable__content\"><pre>StandardScaler()</pre></div></div></div></div></div></div></div></div><div class=\"sk-parallel-item\"><div class=\"sk-item\"><div class=\"sk-label-container\"><div class=\"sk-label sk-toggleable\"><input class=\"sk-toggleable__control sk-hidden--visually\" id=\"sk-estimator-id-633\" type=\"checkbox\" ><label for=\"sk-estimator-id-633\" class=\"sk-toggleable__label sk-toggleable__label-arrow\">survey_pipe</label><div class=\"sk-toggleable__content\"><pre>[&#x27;GADE&#x27;, &#x27;Game&#x27;, &#x27;Platform&#x27;, &#x27;earnings&#x27;, &#x27;whyplay&#x27;, &#x27;Gender&#x27;, &#x27;Work&#x27;, &#x27;Degree&#x27;, &#x27;Birthplace&#x27;, &#x27;Residence&#x27;, &#x27;Playstyle&#x27;]</pre></div></div></div><div class=\"sk-serial\"><div class=\"sk-item\"><div class=\"sk-serial\"><div class=\"sk-item\"><div class=\"sk-estimator sk-toggleable\"><input class=\"sk-toggleable__control sk-hidden--visually\" id=\"sk-estimator-id-634\" type=\"checkbox\" ><label for=\"sk-estimator-id-634\" class=\"sk-toggleable__label sk-toggleable__label-arrow\">OneHotEncoder</label><div class=\"sk-toggleable__content\"><pre>OneHotEncoder(handle_unknown=&#x27;ignore&#x27;, sparse_output=False)</pre></div></div></div></div></div></div></div></div></div></div></div></div>"
      ],
      "text/plain": [
       "ColumnTransformer(transformers=[('obj_imputer',\n",
       "                                 Pipeline(steps=[('ohe_transform',\n",
       "                                                  OneHotEncoder(handle_unknown='ignore',\n",
       "                                                                sparse_output=False))]),\n",
       "                                 ['GADE', 'Work']),\n",
       "                                ('numimputer',\n",
       "                                 Pipeline(steps=[('numimputer',\n",
       "                                                  IterativeImputer(initial_strategy='median',\n",
       "                                                                   random_state=42))]),\n",
       "                                 ['Hours', 'streams']),\n",
       "                                ('age_pipe',\n",
       "                                 Pipeline(steps=[('agenorm',\n",
       "                                                  StandardScaler())]),\n",
       "                                 ['Age']),\n",
       "                                ('survey_pipe',\n",
       "                                 Pipeline(steps=[('ohe_transform',\n",
       "                                                  OneHotEncoder(handle_unknown='ignore',\n",
       "                                                                sparse_output=False))]),\n",
       "                                 ['GADE', 'Game', 'Platform', 'earnings',\n",
       "                                  'whyplay', 'Gender', 'Work', 'Degree',\n",
       "                                  'Birthplace', 'Residence', 'Playstyle'])])"
      ]
     },
     "execution_count": 263,
     "metadata": {},
     "output_type": "execute_result"
    }
   ],
   "source": [
    "knn_ct = ColumnTransformer(\n",
    "    [(\"obj_imputer\", survey_pipeline, ['GADE','Work']), \n",
    "     (\"numimputer\", game_habits_pipeline, ['Hours','streams']),\n",
    "     ('age_pipe', age_pipeline, ['Age']),\n",
    "     ('survey_pipe', survey_pipeline, ohe_cols)\n",
    "    ])\n",
    "knn_ct"
   ]
  },
  {
   "cell_type": "code",
   "execution_count": 264,
   "metadata": {},
   "outputs": [
    {
     "data": {
      "text/html": [
       "<style>#sk-container-id-75 {color: black;background-color: white;}#sk-container-id-75 pre{padding: 0;}#sk-container-id-75 div.sk-toggleable {background-color: white;}#sk-container-id-75 label.sk-toggleable__label {cursor: pointer;display: block;width: 100%;margin-bottom: 0;padding: 0.3em;box-sizing: border-box;text-align: center;}#sk-container-id-75 label.sk-toggleable__label-arrow:before {content: \"▸\";float: left;margin-right: 0.25em;color: #696969;}#sk-container-id-75 label.sk-toggleable__label-arrow:hover:before {color: black;}#sk-container-id-75 div.sk-estimator:hover label.sk-toggleable__label-arrow:before {color: black;}#sk-container-id-75 div.sk-toggleable__content {max-height: 0;max-width: 0;overflow: hidden;text-align: left;background-color: #f0f8ff;}#sk-container-id-75 div.sk-toggleable__content pre {margin: 0.2em;color: black;border-radius: 0.25em;background-color: #f0f8ff;}#sk-container-id-75 input.sk-toggleable__control:checked~div.sk-toggleable__content {max-height: 200px;max-width: 100%;overflow: auto;}#sk-container-id-75 input.sk-toggleable__control:checked~label.sk-toggleable__label-arrow:before {content: \"▾\";}#sk-container-id-75 div.sk-estimator input.sk-toggleable__control:checked~label.sk-toggleable__label {background-color: #d4ebff;}#sk-container-id-75 div.sk-label input.sk-toggleable__control:checked~label.sk-toggleable__label {background-color: #d4ebff;}#sk-container-id-75 input.sk-hidden--visually {border: 0;clip: rect(1px 1px 1px 1px);clip: rect(1px, 1px, 1px, 1px);height: 1px;margin: -1px;overflow: hidden;padding: 0;position: absolute;width: 1px;}#sk-container-id-75 div.sk-estimator {font-family: monospace;background-color: #f0f8ff;border: 1px dotted black;border-radius: 0.25em;box-sizing: border-box;margin-bottom: 0.5em;}#sk-container-id-75 div.sk-estimator:hover {background-color: #d4ebff;}#sk-container-id-75 div.sk-parallel-item::after {content: \"\";width: 100%;border-bottom: 1px solid gray;flex-grow: 1;}#sk-container-id-75 div.sk-label:hover label.sk-toggleable__label {background-color: #d4ebff;}#sk-container-id-75 div.sk-serial::before {content: \"\";position: absolute;border-left: 1px solid gray;box-sizing: border-box;top: 0;bottom: 0;left: 50%;z-index: 0;}#sk-container-id-75 div.sk-serial {display: flex;flex-direction: column;align-items: center;background-color: white;padding-right: 0.2em;padding-left: 0.2em;position: relative;}#sk-container-id-75 div.sk-item {position: relative;z-index: 1;}#sk-container-id-75 div.sk-parallel {display: flex;align-items: stretch;justify-content: center;background-color: white;position: relative;}#sk-container-id-75 div.sk-item::before, #sk-container-id-75 div.sk-parallel-item::before {content: \"\";position: absolute;border-left: 1px solid gray;box-sizing: border-box;top: 0;bottom: 0;left: 50%;z-index: -1;}#sk-container-id-75 div.sk-parallel-item {display: flex;flex-direction: column;z-index: 1;position: relative;background-color: white;}#sk-container-id-75 div.sk-parallel-item:first-child::after {align-self: flex-end;width: 50%;}#sk-container-id-75 div.sk-parallel-item:last-child::after {align-self: flex-start;width: 50%;}#sk-container-id-75 div.sk-parallel-item:only-child::after {width: 0;}#sk-container-id-75 div.sk-dashed-wrapped {border: 1px dashed gray;margin: 0 0.4em 0.5em 0.4em;box-sizing: border-box;padding-bottom: 0.4em;background-color: white;}#sk-container-id-75 div.sk-label label {font-family: monospace;font-weight: bold;display: inline-block;line-height: 1.2em;}#sk-container-id-75 div.sk-label-container {text-align: center;}#sk-container-id-75 div.sk-container {/* jupyter's `normalize.less` sets `[hidden] { display: none; }` but bootstrap.min.css set `[hidden] { display: none !important; }` so we also need the `!important` here to be able to override the default hidden behavior on the sphinx rendered scikit-learn.org. See: https://github.com/scikit-learn/scikit-learn/issues/21755 */display: inline-block !important;position: relative;}#sk-container-id-75 div.sk-text-repr-fallback {display: none;}</style><div id=\"sk-container-id-75\" class=\"sk-top-container\"><div class=\"sk-text-repr-fallback\"><pre>Pipeline(steps=[(&#x27;preprocess&#x27;,\n",
       "                 ColumnTransformer(transformers=[(&#x27;obj_imputer&#x27;,\n",
       "                                                  Pipeline(steps=[(&#x27;ohe_transform&#x27;,\n",
       "                                                                   OneHotEncoder(handle_unknown=&#x27;ignore&#x27;,\n",
       "                                                                                 sparse_output=False))]),\n",
       "                                                  [&#x27;GADE&#x27;, &#x27;Work&#x27;]),\n",
       "                                                 (&#x27;numimputer&#x27;,\n",
       "                                                  Pipeline(steps=[(&#x27;numimputer&#x27;,\n",
       "                                                                   IterativeImputer(initial_strategy=&#x27;median&#x27;,\n",
       "                                                                                    random_state=42))]),\n",
       "                                                  [&#x27;Hours&#x27;, &#x27;streams&#x27;]),\n",
       "                                                 (&#x27;age_pipe&#x27;,\n",
       "                                                  Pipeline(steps=[(&#x27;agenorm&#x27;,\n",
       "                                                                   StandardScaler())]),\n",
       "                                                  [&#x27;Age&#x27;]),\n",
       "                                                 (&#x27;survey_pipe&#x27;,\n",
       "                                                  Pipeline(steps=[(&#x27;ohe_transform&#x27;,\n",
       "                                                                   OneHotEncoder(handle_unknown=&#x27;ignore&#x27;,\n",
       "                                                                                 sparse_output=False))]),\n",
       "                                                  [&#x27;GADE&#x27;, &#x27;Game&#x27;, &#x27;Platform&#x27;,\n",
       "                                                   &#x27;earnings&#x27;, &#x27;whyplay&#x27;,\n",
       "                                                   &#x27;Gender&#x27;, &#x27;Work&#x27;, &#x27;Degree&#x27;,\n",
       "                                                   &#x27;Birthplace&#x27;, &#x27;Residence&#x27;,\n",
       "                                                   &#x27;Playstyle&#x27;])])),\n",
       "                (&#x27;model&#x27;, GaussianNB())])</pre><b>In a Jupyter environment, please rerun this cell to show the HTML representation or trust the notebook. <br />On GitHub, the HTML representation is unable to render, please try loading this page with nbviewer.org.</b></div><div class=\"sk-container\" hidden><div class=\"sk-item sk-dashed-wrapped\"><div class=\"sk-label-container\"><div class=\"sk-label sk-toggleable\"><input class=\"sk-toggleable__control sk-hidden--visually\" id=\"sk-estimator-id-635\" type=\"checkbox\" ><label for=\"sk-estimator-id-635\" class=\"sk-toggleable__label sk-toggleable__label-arrow\">Pipeline</label><div class=\"sk-toggleable__content\"><pre>Pipeline(steps=[(&#x27;preprocess&#x27;,\n",
       "                 ColumnTransformer(transformers=[(&#x27;obj_imputer&#x27;,\n",
       "                                                  Pipeline(steps=[(&#x27;ohe_transform&#x27;,\n",
       "                                                                   OneHotEncoder(handle_unknown=&#x27;ignore&#x27;,\n",
       "                                                                                 sparse_output=False))]),\n",
       "                                                  [&#x27;GADE&#x27;, &#x27;Work&#x27;]),\n",
       "                                                 (&#x27;numimputer&#x27;,\n",
       "                                                  Pipeline(steps=[(&#x27;numimputer&#x27;,\n",
       "                                                                   IterativeImputer(initial_strategy=&#x27;median&#x27;,\n",
       "                                                                                    random_state=42))]),\n",
       "                                                  [&#x27;Hours&#x27;, &#x27;streams&#x27;]),\n",
       "                                                 (&#x27;age_pipe&#x27;,\n",
       "                                                  Pipeline(steps=[(&#x27;agenorm&#x27;,\n",
       "                                                                   StandardScaler())]),\n",
       "                                                  [&#x27;Age&#x27;]),\n",
       "                                                 (&#x27;survey_pipe&#x27;,\n",
       "                                                  Pipeline(steps=[(&#x27;ohe_transform&#x27;,\n",
       "                                                                   OneHotEncoder(handle_unknown=&#x27;ignore&#x27;,\n",
       "                                                                                 sparse_output=False))]),\n",
       "                                                  [&#x27;GADE&#x27;, &#x27;Game&#x27;, &#x27;Platform&#x27;,\n",
       "                                                   &#x27;earnings&#x27;, &#x27;whyplay&#x27;,\n",
       "                                                   &#x27;Gender&#x27;, &#x27;Work&#x27;, &#x27;Degree&#x27;,\n",
       "                                                   &#x27;Birthplace&#x27;, &#x27;Residence&#x27;,\n",
       "                                                   &#x27;Playstyle&#x27;])])),\n",
       "                (&#x27;model&#x27;, GaussianNB())])</pre></div></div></div><div class=\"sk-serial\"><div class=\"sk-item sk-dashed-wrapped\"><div class=\"sk-label-container\"><div class=\"sk-label sk-toggleable\"><input class=\"sk-toggleable__control sk-hidden--visually\" id=\"sk-estimator-id-636\" type=\"checkbox\" ><label for=\"sk-estimator-id-636\" class=\"sk-toggleable__label sk-toggleable__label-arrow\">preprocess: ColumnTransformer</label><div class=\"sk-toggleable__content\"><pre>ColumnTransformer(transformers=[(&#x27;obj_imputer&#x27;,\n",
       "                                 Pipeline(steps=[(&#x27;ohe_transform&#x27;,\n",
       "                                                  OneHotEncoder(handle_unknown=&#x27;ignore&#x27;,\n",
       "                                                                sparse_output=False))]),\n",
       "                                 [&#x27;GADE&#x27;, &#x27;Work&#x27;]),\n",
       "                                (&#x27;numimputer&#x27;,\n",
       "                                 Pipeline(steps=[(&#x27;numimputer&#x27;,\n",
       "                                                  IterativeImputer(initial_strategy=&#x27;median&#x27;,\n",
       "                                                                   random_state=42))]),\n",
       "                                 [&#x27;Hours&#x27;, &#x27;streams&#x27;]),\n",
       "                                (&#x27;age_pipe&#x27;,\n",
       "                                 Pipeline(steps=[(&#x27;agenorm&#x27;,\n",
       "                                                  StandardScaler())]),\n",
       "                                 [&#x27;Age&#x27;]),\n",
       "                                (&#x27;survey_pipe&#x27;,\n",
       "                                 Pipeline(steps=[(&#x27;ohe_transform&#x27;,\n",
       "                                                  OneHotEncoder(handle_unknown=&#x27;ignore&#x27;,\n",
       "                                                                sparse_output=False))]),\n",
       "                                 [&#x27;GADE&#x27;, &#x27;Game&#x27;, &#x27;Platform&#x27;, &#x27;earnings&#x27;,\n",
       "                                  &#x27;whyplay&#x27;, &#x27;Gender&#x27;, &#x27;Work&#x27;, &#x27;Degree&#x27;,\n",
       "                                  &#x27;Birthplace&#x27;, &#x27;Residence&#x27;, &#x27;Playstyle&#x27;])])</pre></div></div></div><div class=\"sk-parallel\"><div class=\"sk-parallel-item\"><div class=\"sk-item\"><div class=\"sk-label-container\"><div class=\"sk-label sk-toggleable\"><input class=\"sk-toggleable__control sk-hidden--visually\" id=\"sk-estimator-id-637\" type=\"checkbox\" ><label for=\"sk-estimator-id-637\" class=\"sk-toggleable__label sk-toggleable__label-arrow\">obj_imputer</label><div class=\"sk-toggleable__content\"><pre>[&#x27;GADE&#x27;, &#x27;Work&#x27;]</pre></div></div></div><div class=\"sk-serial\"><div class=\"sk-item\"><div class=\"sk-serial\"><div class=\"sk-item\"><div class=\"sk-estimator sk-toggleable\"><input class=\"sk-toggleable__control sk-hidden--visually\" id=\"sk-estimator-id-638\" type=\"checkbox\" ><label for=\"sk-estimator-id-638\" class=\"sk-toggleable__label sk-toggleable__label-arrow\">OneHotEncoder</label><div class=\"sk-toggleable__content\"><pre>OneHotEncoder(handle_unknown=&#x27;ignore&#x27;, sparse_output=False)</pre></div></div></div></div></div></div></div></div><div class=\"sk-parallel-item\"><div class=\"sk-item\"><div class=\"sk-label-container\"><div class=\"sk-label sk-toggleable\"><input class=\"sk-toggleable__control sk-hidden--visually\" id=\"sk-estimator-id-639\" type=\"checkbox\" ><label for=\"sk-estimator-id-639\" class=\"sk-toggleable__label sk-toggleable__label-arrow\">numimputer</label><div class=\"sk-toggleable__content\"><pre>[&#x27;Hours&#x27;, &#x27;streams&#x27;]</pre></div></div></div><div class=\"sk-serial\"><div class=\"sk-item\"><div class=\"sk-serial\"><div class=\"sk-item\"><div class=\"sk-estimator sk-toggleable\"><input class=\"sk-toggleable__control sk-hidden--visually\" id=\"sk-estimator-id-640\" type=\"checkbox\" ><label for=\"sk-estimator-id-640\" class=\"sk-toggleable__label sk-toggleable__label-arrow\">IterativeImputer</label><div class=\"sk-toggleable__content\"><pre>IterativeImputer(initial_strategy=&#x27;median&#x27;, random_state=42)</pre></div></div></div></div></div></div></div></div><div class=\"sk-parallel-item\"><div class=\"sk-item\"><div class=\"sk-label-container\"><div class=\"sk-label sk-toggleable\"><input class=\"sk-toggleable__control sk-hidden--visually\" id=\"sk-estimator-id-641\" type=\"checkbox\" ><label for=\"sk-estimator-id-641\" class=\"sk-toggleable__label sk-toggleable__label-arrow\">age_pipe</label><div class=\"sk-toggleable__content\"><pre>[&#x27;Age&#x27;]</pre></div></div></div><div class=\"sk-serial\"><div class=\"sk-item\"><div class=\"sk-serial\"><div class=\"sk-item\"><div class=\"sk-estimator sk-toggleable\"><input class=\"sk-toggleable__control sk-hidden--visually\" id=\"sk-estimator-id-642\" type=\"checkbox\" ><label for=\"sk-estimator-id-642\" class=\"sk-toggleable__label sk-toggleable__label-arrow\">StandardScaler</label><div class=\"sk-toggleable__content\"><pre>StandardScaler()</pre></div></div></div></div></div></div></div></div><div class=\"sk-parallel-item\"><div class=\"sk-item\"><div class=\"sk-label-container\"><div class=\"sk-label sk-toggleable\"><input class=\"sk-toggleable__control sk-hidden--visually\" id=\"sk-estimator-id-643\" type=\"checkbox\" ><label for=\"sk-estimator-id-643\" class=\"sk-toggleable__label sk-toggleable__label-arrow\">survey_pipe</label><div class=\"sk-toggleable__content\"><pre>[&#x27;GADE&#x27;, &#x27;Game&#x27;, &#x27;Platform&#x27;, &#x27;earnings&#x27;, &#x27;whyplay&#x27;, &#x27;Gender&#x27;, &#x27;Work&#x27;, &#x27;Degree&#x27;, &#x27;Birthplace&#x27;, &#x27;Residence&#x27;, &#x27;Playstyle&#x27;]</pre></div></div></div><div class=\"sk-serial\"><div class=\"sk-item\"><div class=\"sk-serial\"><div class=\"sk-item\"><div class=\"sk-estimator sk-toggleable\"><input class=\"sk-toggleable__control sk-hidden--visually\" id=\"sk-estimator-id-644\" type=\"checkbox\" ><label for=\"sk-estimator-id-644\" class=\"sk-toggleable__label sk-toggleable__label-arrow\">OneHotEncoder</label><div class=\"sk-toggleable__content\"><pre>OneHotEncoder(handle_unknown=&#x27;ignore&#x27;, sparse_output=False)</pre></div></div></div></div></div></div></div></div></div></div><div class=\"sk-item\"><div class=\"sk-estimator sk-toggleable\"><input class=\"sk-toggleable__control sk-hidden--visually\" id=\"sk-estimator-id-645\" type=\"checkbox\" ><label for=\"sk-estimator-id-645\" class=\"sk-toggleable__label sk-toggleable__label-arrow\">GaussianNB</label><div class=\"sk-toggleable__content\"><pre>GaussianNB()</pre></div></div></div></div></div></div></div>"
      ],
      "text/plain": [
       "Pipeline(steps=[('preprocess',\n",
       "                 ColumnTransformer(transformers=[('obj_imputer',\n",
       "                                                  Pipeline(steps=[('ohe_transform',\n",
       "                                                                   OneHotEncoder(handle_unknown='ignore',\n",
       "                                                                                 sparse_output=False))]),\n",
       "                                                  ['GADE', 'Work']),\n",
       "                                                 ('numimputer',\n",
       "                                                  Pipeline(steps=[('numimputer',\n",
       "                                                                   IterativeImputer(initial_strategy='median',\n",
       "                                                                                    random_state=42))]),\n",
       "                                                  ['Hours', 'streams']),\n",
       "                                                 ('age_pipe',\n",
       "                                                  Pipeline(steps=[('agenorm',\n",
       "                                                                   StandardScaler())]),\n",
       "                                                  ['Age']),\n",
       "                                                 ('survey_pipe',\n",
       "                                                  Pipeline(steps=[('ohe_transform',\n",
       "                                                                   OneHotEncoder(handle_unknown='ignore',\n",
       "                                                                                 sparse_output=False))]),\n",
       "                                                  ['GADE', 'Game', 'Platform',\n",
       "                                                   'earnings', 'whyplay',\n",
       "                                                   'Gender', 'Work', 'Degree',\n",
       "                                                   'Birthplace', 'Residence',\n",
       "                                                   'Playstyle'])])),\n",
       "                ('model', GaussianNB())])"
      ]
     },
     "execution_count": 264,
     "metadata": {},
     "output_type": "execute_result"
    }
   ],
   "source": [
    "# K-Nearest Neighbors Classification pipeline with all features standardized \n",
    "knn_pipe = Pipeline([('preprocess', knn_ct),\n",
    "     ('model',\n",
    "      GaussianNB())])\n",
    "knn_pipe"
   ]
  },
  {
   "cell_type": "code",
   "execution_count": 265,
   "metadata": {},
   "outputs": [
    {
     "data": {
      "text/html": [
       "<style>#sk-container-id-76 {color: black;background-color: white;}#sk-container-id-76 pre{padding: 0;}#sk-container-id-76 div.sk-toggleable {background-color: white;}#sk-container-id-76 label.sk-toggleable__label {cursor: pointer;display: block;width: 100%;margin-bottom: 0;padding: 0.3em;box-sizing: border-box;text-align: center;}#sk-container-id-76 label.sk-toggleable__label-arrow:before {content: \"▸\";float: left;margin-right: 0.25em;color: #696969;}#sk-container-id-76 label.sk-toggleable__label-arrow:hover:before {color: black;}#sk-container-id-76 div.sk-estimator:hover label.sk-toggleable__label-arrow:before {color: black;}#sk-container-id-76 div.sk-toggleable__content {max-height: 0;max-width: 0;overflow: hidden;text-align: left;background-color: #f0f8ff;}#sk-container-id-76 div.sk-toggleable__content pre {margin: 0.2em;color: black;border-radius: 0.25em;background-color: #f0f8ff;}#sk-container-id-76 input.sk-toggleable__control:checked~div.sk-toggleable__content {max-height: 200px;max-width: 100%;overflow: auto;}#sk-container-id-76 input.sk-toggleable__control:checked~label.sk-toggleable__label-arrow:before {content: \"▾\";}#sk-container-id-76 div.sk-estimator input.sk-toggleable__control:checked~label.sk-toggleable__label {background-color: #d4ebff;}#sk-container-id-76 div.sk-label input.sk-toggleable__control:checked~label.sk-toggleable__label {background-color: #d4ebff;}#sk-container-id-76 input.sk-hidden--visually {border: 0;clip: rect(1px 1px 1px 1px);clip: rect(1px, 1px, 1px, 1px);height: 1px;margin: -1px;overflow: hidden;padding: 0;position: absolute;width: 1px;}#sk-container-id-76 div.sk-estimator {font-family: monospace;background-color: #f0f8ff;border: 1px dotted black;border-radius: 0.25em;box-sizing: border-box;margin-bottom: 0.5em;}#sk-container-id-76 div.sk-estimator:hover {background-color: #d4ebff;}#sk-container-id-76 div.sk-parallel-item::after {content: \"\";width: 100%;border-bottom: 1px solid gray;flex-grow: 1;}#sk-container-id-76 div.sk-label:hover label.sk-toggleable__label {background-color: #d4ebff;}#sk-container-id-76 div.sk-serial::before {content: \"\";position: absolute;border-left: 1px solid gray;box-sizing: border-box;top: 0;bottom: 0;left: 50%;z-index: 0;}#sk-container-id-76 div.sk-serial {display: flex;flex-direction: column;align-items: center;background-color: white;padding-right: 0.2em;padding-left: 0.2em;position: relative;}#sk-container-id-76 div.sk-item {position: relative;z-index: 1;}#sk-container-id-76 div.sk-parallel {display: flex;align-items: stretch;justify-content: center;background-color: white;position: relative;}#sk-container-id-76 div.sk-item::before, #sk-container-id-76 div.sk-parallel-item::before {content: \"\";position: absolute;border-left: 1px solid gray;box-sizing: border-box;top: 0;bottom: 0;left: 50%;z-index: -1;}#sk-container-id-76 div.sk-parallel-item {display: flex;flex-direction: column;z-index: 1;position: relative;background-color: white;}#sk-container-id-76 div.sk-parallel-item:first-child::after {align-self: flex-end;width: 50%;}#sk-container-id-76 div.sk-parallel-item:last-child::after {align-self: flex-start;width: 50%;}#sk-container-id-76 div.sk-parallel-item:only-child::after {width: 0;}#sk-container-id-76 div.sk-dashed-wrapped {border: 1px dashed gray;margin: 0 0.4em 0.5em 0.4em;box-sizing: border-box;padding-bottom: 0.4em;background-color: white;}#sk-container-id-76 div.sk-label label {font-family: monospace;font-weight: bold;display: inline-block;line-height: 1.2em;}#sk-container-id-76 div.sk-label-container {text-align: center;}#sk-container-id-76 div.sk-container {/* jupyter's `normalize.less` sets `[hidden] { display: none; }` but bootstrap.min.css set `[hidden] { display: none !important; }` so we also need the `!important` here to be able to override the default hidden behavior on the sphinx rendered scikit-learn.org. See: https://github.com/scikit-learn/scikit-learn/issues/21755 */display: inline-block !important;position: relative;}#sk-container-id-76 div.sk-text-repr-fallback {display: none;}</style><div id=\"sk-container-id-76\" class=\"sk-top-container\"><div class=\"sk-text-repr-fallback\"><pre>Pipeline(steps=[(&#x27;preprocess&#x27;,\n",
       "                 ColumnTransformer(transformers=[(&#x27;obj_imputer&#x27;,\n",
       "                                                  Pipeline(steps=[(&#x27;ohe_transform&#x27;,\n",
       "                                                                   OneHotEncoder(handle_unknown=&#x27;ignore&#x27;,\n",
       "                                                                                 sparse_output=False))]),\n",
       "                                                  [&#x27;GADE&#x27;, &#x27;Work&#x27;]),\n",
       "                                                 (&#x27;numimputer&#x27;,\n",
       "                                                  Pipeline(steps=[(&#x27;numimputer&#x27;,\n",
       "                                                                   IterativeImputer(initial_strategy=&#x27;median&#x27;,\n",
       "                                                                                    random_state=42))]),\n",
       "                                                  [&#x27;Hours&#x27;, &#x27;streams&#x27;]),\n",
       "                                                 (&#x27;age_pipe&#x27;,\n",
       "                                                  Pipeline(steps=[(&#x27;agenorm&#x27;,\n",
       "                                                                   StandardScaler())]),\n",
       "                                                  [&#x27;Age&#x27;]),\n",
       "                                                 (&#x27;survey_pipe&#x27;,\n",
       "                                                  Pipeline(steps=[(&#x27;ohe_transform&#x27;,\n",
       "                                                                   OneHotEncoder(handle_unknown=&#x27;ignore&#x27;,\n",
       "                                                                                 sparse_output=False))]),\n",
       "                                                  [&#x27;GADE&#x27;, &#x27;Game&#x27;, &#x27;Platform&#x27;,\n",
       "                                                   &#x27;earnings&#x27;, &#x27;whyplay&#x27;,\n",
       "                                                   &#x27;Gender&#x27;, &#x27;Work&#x27;, &#x27;Degree&#x27;,\n",
       "                                                   &#x27;Birthplace&#x27;, &#x27;Residence&#x27;,\n",
       "                                                   &#x27;Playstyle&#x27;])])),\n",
       "                (&#x27;model&#x27;, GaussianNB())])</pre><b>In a Jupyter environment, please rerun this cell to show the HTML representation or trust the notebook. <br />On GitHub, the HTML representation is unable to render, please try loading this page with nbviewer.org.</b></div><div class=\"sk-container\" hidden><div class=\"sk-item sk-dashed-wrapped\"><div class=\"sk-label-container\"><div class=\"sk-label sk-toggleable\"><input class=\"sk-toggleable__control sk-hidden--visually\" id=\"sk-estimator-id-646\" type=\"checkbox\" ><label for=\"sk-estimator-id-646\" class=\"sk-toggleable__label sk-toggleable__label-arrow\">Pipeline</label><div class=\"sk-toggleable__content\"><pre>Pipeline(steps=[(&#x27;preprocess&#x27;,\n",
       "                 ColumnTransformer(transformers=[(&#x27;obj_imputer&#x27;,\n",
       "                                                  Pipeline(steps=[(&#x27;ohe_transform&#x27;,\n",
       "                                                                   OneHotEncoder(handle_unknown=&#x27;ignore&#x27;,\n",
       "                                                                                 sparse_output=False))]),\n",
       "                                                  [&#x27;GADE&#x27;, &#x27;Work&#x27;]),\n",
       "                                                 (&#x27;numimputer&#x27;,\n",
       "                                                  Pipeline(steps=[(&#x27;numimputer&#x27;,\n",
       "                                                                   IterativeImputer(initial_strategy=&#x27;median&#x27;,\n",
       "                                                                                    random_state=42))]),\n",
       "                                                  [&#x27;Hours&#x27;, &#x27;streams&#x27;]),\n",
       "                                                 (&#x27;age_pipe&#x27;,\n",
       "                                                  Pipeline(steps=[(&#x27;agenorm&#x27;,\n",
       "                                                                   StandardScaler())]),\n",
       "                                                  [&#x27;Age&#x27;]),\n",
       "                                                 (&#x27;survey_pipe&#x27;,\n",
       "                                                  Pipeline(steps=[(&#x27;ohe_transform&#x27;,\n",
       "                                                                   OneHotEncoder(handle_unknown=&#x27;ignore&#x27;,\n",
       "                                                                                 sparse_output=False))]),\n",
       "                                                  [&#x27;GADE&#x27;, &#x27;Game&#x27;, &#x27;Platform&#x27;,\n",
       "                                                   &#x27;earnings&#x27;, &#x27;whyplay&#x27;,\n",
       "                                                   &#x27;Gender&#x27;, &#x27;Work&#x27;, &#x27;Degree&#x27;,\n",
       "                                                   &#x27;Birthplace&#x27;, &#x27;Residence&#x27;,\n",
       "                                                   &#x27;Playstyle&#x27;])])),\n",
       "                (&#x27;model&#x27;, GaussianNB())])</pre></div></div></div><div class=\"sk-serial\"><div class=\"sk-item sk-dashed-wrapped\"><div class=\"sk-label-container\"><div class=\"sk-label sk-toggleable\"><input class=\"sk-toggleable__control sk-hidden--visually\" id=\"sk-estimator-id-647\" type=\"checkbox\" ><label for=\"sk-estimator-id-647\" class=\"sk-toggleable__label sk-toggleable__label-arrow\">preprocess: ColumnTransformer</label><div class=\"sk-toggleable__content\"><pre>ColumnTransformer(transformers=[(&#x27;obj_imputer&#x27;,\n",
       "                                 Pipeline(steps=[(&#x27;ohe_transform&#x27;,\n",
       "                                                  OneHotEncoder(handle_unknown=&#x27;ignore&#x27;,\n",
       "                                                                sparse_output=False))]),\n",
       "                                 [&#x27;GADE&#x27;, &#x27;Work&#x27;]),\n",
       "                                (&#x27;numimputer&#x27;,\n",
       "                                 Pipeline(steps=[(&#x27;numimputer&#x27;,\n",
       "                                                  IterativeImputer(initial_strategy=&#x27;median&#x27;,\n",
       "                                                                   random_state=42))]),\n",
       "                                 [&#x27;Hours&#x27;, &#x27;streams&#x27;]),\n",
       "                                (&#x27;age_pipe&#x27;,\n",
       "                                 Pipeline(steps=[(&#x27;agenorm&#x27;,\n",
       "                                                  StandardScaler())]),\n",
       "                                 [&#x27;Age&#x27;]),\n",
       "                                (&#x27;survey_pipe&#x27;,\n",
       "                                 Pipeline(steps=[(&#x27;ohe_transform&#x27;,\n",
       "                                                  OneHotEncoder(handle_unknown=&#x27;ignore&#x27;,\n",
       "                                                                sparse_output=False))]),\n",
       "                                 [&#x27;GADE&#x27;, &#x27;Game&#x27;, &#x27;Platform&#x27;, &#x27;earnings&#x27;,\n",
       "                                  &#x27;whyplay&#x27;, &#x27;Gender&#x27;, &#x27;Work&#x27;, &#x27;Degree&#x27;,\n",
       "                                  &#x27;Birthplace&#x27;, &#x27;Residence&#x27;, &#x27;Playstyle&#x27;])])</pre></div></div></div><div class=\"sk-parallel\"><div class=\"sk-parallel-item\"><div class=\"sk-item\"><div class=\"sk-label-container\"><div class=\"sk-label sk-toggleable\"><input class=\"sk-toggleable__control sk-hidden--visually\" id=\"sk-estimator-id-648\" type=\"checkbox\" ><label for=\"sk-estimator-id-648\" class=\"sk-toggleable__label sk-toggleable__label-arrow\">obj_imputer</label><div class=\"sk-toggleable__content\"><pre>[&#x27;GADE&#x27;, &#x27;Work&#x27;]</pre></div></div></div><div class=\"sk-serial\"><div class=\"sk-item\"><div class=\"sk-serial\"><div class=\"sk-item\"><div class=\"sk-estimator sk-toggleable\"><input class=\"sk-toggleable__control sk-hidden--visually\" id=\"sk-estimator-id-649\" type=\"checkbox\" ><label for=\"sk-estimator-id-649\" class=\"sk-toggleable__label sk-toggleable__label-arrow\">OneHotEncoder</label><div class=\"sk-toggleable__content\"><pre>OneHotEncoder(handle_unknown=&#x27;ignore&#x27;, sparse_output=False)</pre></div></div></div></div></div></div></div></div><div class=\"sk-parallel-item\"><div class=\"sk-item\"><div class=\"sk-label-container\"><div class=\"sk-label sk-toggleable\"><input class=\"sk-toggleable__control sk-hidden--visually\" id=\"sk-estimator-id-650\" type=\"checkbox\" ><label for=\"sk-estimator-id-650\" class=\"sk-toggleable__label sk-toggleable__label-arrow\">numimputer</label><div class=\"sk-toggleable__content\"><pre>[&#x27;Hours&#x27;, &#x27;streams&#x27;]</pre></div></div></div><div class=\"sk-serial\"><div class=\"sk-item\"><div class=\"sk-serial\"><div class=\"sk-item\"><div class=\"sk-estimator sk-toggleable\"><input class=\"sk-toggleable__control sk-hidden--visually\" id=\"sk-estimator-id-651\" type=\"checkbox\" ><label for=\"sk-estimator-id-651\" class=\"sk-toggleable__label sk-toggleable__label-arrow\">IterativeImputer</label><div class=\"sk-toggleable__content\"><pre>IterativeImputer(initial_strategy=&#x27;median&#x27;, random_state=42)</pre></div></div></div></div></div></div></div></div><div class=\"sk-parallel-item\"><div class=\"sk-item\"><div class=\"sk-label-container\"><div class=\"sk-label sk-toggleable\"><input class=\"sk-toggleable__control sk-hidden--visually\" id=\"sk-estimator-id-652\" type=\"checkbox\" ><label for=\"sk-estimator-id-652\" class=\"sk-toggleable__label sk-toggleable__label-arrow\">age_pipe</label><div class=\"sk-toggleable__content\"><pre>[&#x27;Age&#x27;]</pre></div></div></div><div class=\"sk-serial\"><div class=\"sk-item\"><div class=\"sk-serial\"><div class=\"sk-item\"><div class=\"sk-estimator sk-toggleable\"><input class=\"sk-toggleable__control sk-hidden--visually\" id=\"sk-estimator-id-653\" type=\"checkbox\" ><label for=\"sk-estimator-id-653\" class=\"sk-toggleable__label sk-toggleable__label-arrow\">StandardScaler</label><div class=\"sk-toggleable__content\"><pre>StandardScaler()</pre></div></div></div></div></div></div></div></div><div class=\"sk-parallel-item\"><div class=\"sk-item\"><div class=\"sk-label-container\"><div class=\"sk-label sk-toggleable\"><input class=\"sk-toggleable__control sk-hidden--visually\" id=\"sk-estimator-id-654\" type=\"checkbox\" ><label for=\"sk-estimator-id-654\" class=\"sk-toggleable__label sk-toggleable__label-arrow\">survey_pipe</label><div class=\"sk-toggleable__content\"><pre>[&#x27;GADE&#x27;, &#x27;Game&#x27;, &#x27;Platform&#x27;, &#x27;earnings&#x27;, &#x27;whyplay&#x27;, &#x27;Gender&#x27;, &#x27;Work&#x27;, &#x27;Degree&#x27;, &#x27;Birthplace&#x27;, &#x27;Residence&#x27;, &#x27;Playstyle&#x27;]</pre></div></div></div><div class=\"sk-serial\"><div class=\"sk-item\"><div class=\"sk-serial\"><div class=\"sk-item\"><div class=\"sk-estimator sk-toggleable\"><input class=\"sk-toggleable__control sk-hidden--visually\" id=\"sk-estimator-id-655\" type=\"checkbox\" ><label for=\"sk-estimator-id-655\" class=\"sk-toggleable__label sk-toggleable__label-arrow\">OneHotEncoder</label><div class=\"sk-toggleable__content\"><pre>OneHotEncoder(handle_unknown=&#x27;ignore&#x27;, sparse_output=False)</pre></div></div></div></div></div></div></div></div></div></div><div class=\"sk-item\"><div class=\"sk-estimator sk-toggleable\"><input class=\"sk-toggleable__control sk-hidden--visually\" id=\"sk-estimator-id-656\" type=\"checkbox\" ><label for=\"sk-estimator-id-656\" class=\"sk-toggleable__label sk-toggleable__label-arrow\">GaussianNB</label><div class=\"sk-toggleable__content\"><pre>GaussianNB()</pre></div></div></div></div></div></div></div>"
      ],
      "text/plain": [
       "Pipeline(steps=[('preprocess',\n",
       "                 ColumnTransformer(transformers=[('obj_imputer',\n",
       "                                                  Pipeline(steps=[('ohe_transform',\n",
       "                                                                   OneHotEncoder(handle_unknown='ignore',\n",
       "                                                                                 sparse_output=False))]),\n",
       "                                                  ['GADE', 'Work']),\n",
       "                                                 ('numimputer',\n",
       "                                                  Pipeline(steps=[('numimputer',\n",
       "                                                                   IterativeImputer(initial_strategy='median',\n",
       "                                                                                    random_state=42))]),\n",
       "                                                  ['Hours', 'streams']),\n",
       "                                                 ('age_pipe',\n",
       "                                                  Pipeline(steps=[('agenorm',\n",
       "                                                                   StandardScaler())]),\n",
       "                                                  ['Age']),\n",
       "                                                 ('survey_pipe',\n",
       "                                                  Pipeline(steps=[('ohe_transform',\n",
       "                                                                   OneHotEncoder(handle_unknown='ignore',\n",
       "                                                                                 sparse_output=False))]),\n",
       "                                                  ['GADE', 'Game', 'Platform',\n",
       "                                                   'earnings', 'whyplay',\n",
       "                                                   'Gender', 'Work', 'Degree',\n",
       "                                                   'Birthplace', 'Residence',\n",
       "                                                   'Playstyle'])])),\n",
       "                ('model', GaussianNB())])"
      ]
     },
     "execution_count": 265,
     "metadata": {},
     "output_type": "execute_result"
    }
   ],
   "source": [
    "knn_pipe.fit(X5_train,y5_train)"
   ]
  },
  {
   "cell_type": "code",
   "execution_count": 266,
   "metadata": {},
   "outputs": [],
   "source": [
    "knn_y_pred = knn_pipe.predict(X5_test)"
   ]
  },
  {
   "cell_type": "code",
   "execution_count": 267,
   "metadata": {},
   "outputs": [
    {
     "data": {
      "text/plain": [
       "<sklearn.metrics._plot.confusion_matrix.ConfusionMatrixDisplay at 0x204b6989a90>"
      ]
     },
     "execution_count": 267,
     "metadata": {},
     "output_type": "execute_result"
    },
    {
     "data": {
      "image/png": "[encoded data removed]",
      "text/plain": [
       "<Figure size 640x480 with 2 Axes>"
      ]
     },
     "metadata": {},
     "output_type": "display_data"
    }
   ],
   "source": [
    "ConfusionMatrixDisplay.from_predictions(y5_test, knn_y_pred, normalize='all')"
   ]
  },
  {
   "cell_type": "code",
   "execution_count": 269,
   "metadata": {},
   "outputs": [
    {
     "name": "stdout",
     "output_type": "stream",
     "text": [
      "                  precision    recall  f1-score   support\n",
      "\n",
      " minimal anxiety       0.37      0.03      0.05       817\n",
      "    mild anxiety       0.90      0.10      0.17      1683\n",
      "moderate anxiety       0.11      0.09      0.10       373\n",
      "  severe anxiety       0.05      0.89      0.10       142\n",
      "\n",
      "        accuracy                           0.11      3015\n",
      "       macro avg       0.36      0.28      0.11      3015\n",
      "    weighted avg       0.62      0.11      0.13      3015\n",
      "\n"
     ]
    }
   ],
   "source": [
    "print(classification_report(y5_test, knn_y_pred, target_names = target_labels))"
   ]
  },
  {
   "cell_type": "markdown",
   "metadata": {},
   "source": [
    "### Model Evaluation "
   ]
  },
  {
   "cell_type": "markdown",
   "metadata": {},
   "source": [
    "### K-Nearest Neighbors Hyperparameter Tuning "
   ]
  },
  {
   "cell_type": "markdown",
   "metadata": {},
   "source": [
    "# Model Preprocessing (without Pipelines) "
   ]
  },
  {
   "cell_type": "code",
   "execution_count": null,
   "metadata": {},
   "outputs": [],
   "source": [
    "# replacing NaN values in GADE with 'Did not answer'\n",
    "X_train['GADE'].fillna('Did not answer',inplace=True)\n",
    "\n",
    "# viewing new distribution of values in training set \n",
    "X_train['GADE'].value_counts()"
   ]
  },
  {
   "cell_type": "code",
   "execution_count": null,
   "metadata": {},
   "outputs": [],
   "source": [
    "# replacing NaN values in Residence_ISO3 with 'AAA'\n",
    "X_train['Residence_ISO3'].fillna('AAA',inplace=True)"
   ]
  },
  {
   "cell_type": "code",
   "execution_count": null,
   "metadata": {},
   "outputs": [],
   "source": [
    "# replacing NaN values in Birthplace_ISO3 with 'AAA'\n",
    "X_train['Birthplace_ISO3'].fillna('AAA',inplace=True)"
   ]
  },
  {
   "cell_type": "code",
   "execution_count": null,
   "metadata": {},
   "outputs": [],
   "source": [
    "# viewing the distribution of values, including NaN for 'Work'\n",
    "X_train['Work'].value_counts(dropna=False)"
   ]
  },
  {
   "cell_type": "code",
   "execution_count": null,
   "metadata": {},
   "outputs": [],
   "source": [
    "# replacing 'Work' records where NaN appears with 'Did not answer'\n",
    "X_train['Work'].fillna('Did not answer',inplace=True)"
   ]
  },
  {
   "cell_type": "markdown",
   "metadata": {},
   "source": [
    "#### Iterative Imputation of `Hours` and `streams`"
   ]
  },
  {
   "cell_type": "code",
   "execution_count": null,
   "metadata": {
    "scrolled": false
   },
   "outputs": [],
   "source": [
    "# viewing which values still need to be imputed \n",
    "X_train.isna().sum()"
   ]
  },
  {
   "cell_type": "code",
   "execution_count": null,
   "metadata": {},
   "outputs": [],
   "source": [
    "# instantiating IterativeImputer to calculate \n",
    "iter_impute = IterativeImputer(initial_strategy='median',random_state=42)\n",
    "\n",
    "# fitting IterativeImputer on training set then applying transformation \n",
    "# subsetting the columns to iteratively impute on \n",
    "X_train[['Hours','streams']] = iter_impute.fit_transform(X_train[['Hours','streams']])"
   ]
  },
  {
   "cell_type": "markdown",
   "metadata": {},
   "source": [
    "Now that we've cleaned up the training set, time to apply the same transformations on the test set"
   ]
  },
  {
   "cell_type": "code",
   "execution_count": null,
   "metadata": {},
   "outputs": [],
   "source": [
    "X_test.isna().sum()"
   ]
  },
  {
   "cell_type": "code",
   "execution_count": null,
   "metadata": {},
   "outputs": [],
   "source": [
    "# replacing NaN values in GADE with 'Did not answer'\n",
    "X_test['GADE'].fillna('Did not answer',inplace=True)\n",
    "\n",
    "# viewing new distribution of values in training set \n",
    "X_test['GADE'].value_counts()"
   ]
  },
  {
   "cell_type": "code",
   "execution_count": null,
   "metadata": {},
   "outputs": [],
   "source": [
    "# replacing NaN values in Residence_ISO3 with 'AAA'\n",
    "X_test['Residence_ISO3'].fillna('AAA',inplace=True)"
   ]
  },
  {
   "cell_type": "code",
   "execution_count": null,
   "metadata": {},
   "outputs": [],
   "source": [
    "# replacing NaN values in Residence_ISO3 with 'AAA'\n",
    "X_test['Birthplace_ISO3'].fillna('AAA',inplace=True)"
   ]
  },
  {
   "cell_type": "code",
   "execution_count": null,
   "metadata": {},
   "outputs": [],
   "source": [
    "X_test['Work'].fillna('Did not answer',inplace=True)"
   ]
  },
  {
   "cell_type": "code",
   "execution_count": null,
   "metadata": {},
   "outputs": [],
   "source": [
    "X_test[['Hours','streams']] = iter_impute.transform(X_test[['Hours','streams']])"
   ]
  },
  {
   "cell_type": "markdown",
   "metadata": {},
   "source": [
    "### Baseline Dummy Classifier "
   ]
  },
  {
   "cell_type": "code",
   "execution_count": null,
   "metadata": {},
   "outputs": [],
   "source": [
    "# instantiating Dummy Classifier \n",
    "dummy_clf = DummyClassifier(strategy='stratified',random_state=42)\n",
    "\n",
    "# fitting DummyClassifier to training set \n",
    "dummy_clf.fit(X_train, y_train)\n",
    "\n",
    "# predicting values on test set with DummyClassifier \n",
    "base_y_pred = dummy_clf.predict(X_test)\n",
    "\n",
    "# creating confusion matrix between y_test and y_pred \n",
    "ConfusionMatrixDisplay.from_predictions(y_test,base_y_pred,normalize='all')"
   ]
  },
  {
   "cell_type": "code",
   "execution_count": null,
   "metadata": {},
   "outputs": [],
   "source": [
    "# classification report for baseline DummyClassifier \n",
    "print(classification_report(y_test,base_y_pred, target_names=target_labels))"
   ]
  }
 ],
 "metadata": {
  "kernelspec": {
   "display_name": "Python(flatiron-project)",
   "language": "python",
   "name": "flatiron-project"
  },
  "language_info": {
   "codemirror_mode": {
    "name": "ipython",
    "version": 3
   },
   "file_extension": ".py",
   "mimetype": "text/x-python",
   "name": "python",
   "nbconvert_exporter": "python",
   "pygments_lexer": "ipython3",
   "version": "3.9.16"
  }
 },
 "nbformat": 4,
 "nbformat_minor": 4
}
