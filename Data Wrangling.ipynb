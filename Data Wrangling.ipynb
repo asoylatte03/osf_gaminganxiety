{
 "cells": [
  {
   "cell_type": "code",
   "execution_count": 109,
   "metadata": {},
   "outputs": [],
   "source": [
    "import pandas as pd "
   ]
  },
  {
   "cell_type": "code",
   "execution_count": 110,
   "metadata": {},
   "outputs": [],
   "source": [
    "gamers_df = pd.read_csv('GamingStudy_data.csv', encoding='unicode_escape')"
   ]
  },
  {
   "cell_type": "code",
   "execution_count": 111,
   "metadata": {},
   "outputs": [
    {
     "data": {
      "text/plain": [
       "Index(['S. No.', 'Timestamp', 'GAD1', 'GAD2', 'GAD3', 'GAD4', 'GAD5', 'GAD6',\n",
       "       'GAD7', 'GADE', 'SWL1', 'SWL2', 'SWL3', 'SWL4', 'SWL5', 'Game',\n",
       "       'Platform', 'Hours', 'earnings', 'whyplay', 'League', 'highestleague',\n",
       "       'streams', 'SPIN1', 'SPIN2', 'SPIN3', 'SPIN4', 'SPIN5', 'SPIN6',\n",
       "       'SPIN7', 'SPIN8', 'SPIN9', 'SPIN10', 'SPIN11', 'SPIN12', 'SPIN13',\n",
       "       'SPIN14', 'SPIN15', 'SPIN16', 'SPIN17', 'Narcissism', 'Gender', 'Age',\n",
       "       'Work', 'Degree', 'Birthplace', 'Residence', 'Reference', 'Playstyle',\n",
       "       'accept', 'GAD_T', 'SWL_T', 'SPIN_T', 'Residence_ISO3',\n",
       "       'Birthplace_ISO3'],\n",
       "      dtype='object')"
      ]
     },
     "execution_count": 111,
     "metadata": {},
     "output_type": "execute_result"
    }
   ],
   "source": [
    "gamers_df.columns"
   ]
  },
  {
   "cell_type": "code",
   "execution_count": 112,
   "metadata": {},
   "outputs": [
    {
     "name": "stdout",
     "output_type": "stream",
     "text": [
      "<class 'pandas.core.frame.DataFrame'>\n",
      "RangeIndex: 13464 entries, 0 to 13463\n",
      "Data columns (total 55 columns):\n",
      " #   Column           Non-Null Count  Dtype  \n",
      "---  ------           --------------  -----  \n",
      " 0   S. No.           13464 non-null  int64  \n",
      " 1   Timestamp        13464 non-null  float64\n",
      " 2   GAD1             13464 non-null  int64  \n",
      " 3   GAD2             13464 non-null  int64  \n",
      " 4   GAD3             13464 non-null  int64  \n",
      " 5   GAD4             13464 non-null  int64  \n",
      " 6   GAD5             13464 non-null  int64  \n",
      " 7   GAD6             13464 non-null  int64  \n",
      " 8   GAD7             13464 non-null  int64  \n",
      " 9   GADE             12815 non-null  object \n",
      " 10  SWL1             13464 non-null  int64  \n",
      " 11  SWL2             13464 non-null  int64  \n",
      " 12  SWL3             13464 non-null  int64  \n",
      " 13  SWL4             13464 non-null  int64  \n",
      " 14  SWL5             13464 non-null  int64  \n",
      " 15  Game             13464 non-null  object \n",
      " 16  Platform         13464 non-null  object \n",
      " 17  Hours            13434 non-null  float64\n",
      " 18  earnings         13464 non-null  object \n",
      " 19  whyplay          13464 non-null  object \n",
      " 20  League           11626 non-null  object \n",
      " 21  highestleague    0 non-null      float64\n",
      " 22  streams          13364 non-null  float64\n",
      " 23  SPIN1            13340 non-null  float64\n",
      " 24  SPIN2            13310 non-null  float64\n",
      " 25  SPIN3            13324 non-null  float64\n",
      " 26  SPIN4            13305 non-null  float64\n",
      " 27  SPIN5            13298 non-null  float64\n",
      " 28  SPIN6            13308 non-null  float64\n",
      " 29  SPIN7            13326 non-null  float64\n",
      " 30  SPIN8            13320 non-null  float64\n",
      " 31  SPIN9            13306 non-null  float64\n",
      " 32  SPIN10           13304 non-null  float64\n",
      " 33  SPIN11           13277 non-null  float64\n",
      " 34  SPIN12           13296 non-null  float64\n",
      " 35  SPIN13           13277 non-null  float64\n",
      " 36  SPIN14           13308 non-null  float64\n",
      " 37  SPIN15           13317 non-null  float64\n",
      " 38  SPIN16           13317 non-null  float64\n",
      " 39  SPIN17           13289 non-null  float64\n",
      " 40  Narcissism       13441 non-null  float64\n",
      " 41  Gender           13464 non-null  object \n",
      " 42  Age              13464 non-null  int64  \n",
      " 43  Work             13426 non-null  object \n",
      " 44  Degree           13464 non-null  object \n",
      " 45  Birthplace       13464 non-null  object \n",
      " 46  Residence        13464 non-null  object \n",
      " 47  Reference        13449 non-null  object \n",
      " 48  Playstyle        13464 non-null  object \n",
      " 49  accept           13050 non-null  object \n",
      " 50  GAD_T            13464 non-null  int64  \n",
      " 51  SWL_T            13464 non-null  int64  \n",
      " 52  SPIN_T           12814 non-null  float64\n",
      " 53  Residence_ISO3   13354 non-null  object \n",
      " 54  Birthplace_ISO3  13343 non-null  object \n",
      "dtypes: float64(23), int64(16), object(16)\n",
      "memory usage: 5.6+ MB\n"
     ]
    }
   ],
   "source": [
    "gamers_df.info()"
   ]
  },
  {
   "cell_type": "code",
   "execution_count": 113,
   "metadata": {},
   "outputs": [],
   "source": [
    "cols = ['SPIN1', 'SPIN2','SPIN3', 'SPIN4', 'SPIN5','SPIN6','SPIN7', 'SPIN8', 'SPIN9', 'SPIN10', 'SPIN11','SPIN12', 'SPIN13',\n",
    " 'SPIN14', 'SPIN15', 'SPIN16', 'SPIN17', 'Narcissism', 'accept', 'SWL_T', 'SPIN_T','SWL1', 'SWL2', 'SWL3', 'SWL4', 'SWL5']\n",
    "gamers_df.drop(columns = cols, inplace = True)"
   ]
  },
  {
   "cell_type": "code",
   "execution_count": 125,
   "metadata": {},
   "outputs": [
    {
     "data": {
      "text/plain": [
       "0                                             Singleplayer\n",
       "1                    Multiplayer - online - with strangers\n",
       "2                                             Singleplayer\n",
       "3        Multiplayer - online - with online acquaintanc...\n",
       "4                    Multiplayer - online - with strangers\n",
       "                               ...                        \n",
       "13459                Multiplayer - online - with strangers\n",
       "13460                Multiplayer - online - with strangers\n",
       "13461        Multiplayer - online - with real life friends\n",
       "13462                                         Singleplayer\n",
       "13463                Multiplayer - online - with strangers\n",
       "Name: Playstyle, Length: 13464, dtype: object"
      ]
     },
     "execution_count": 125,
     "metadata": {},
     "output_type": "execute_result"
    }
   ],
   "source": [
    "gamers_df['Playstyle']"
   ]
  },
  {
   "cell_type": "code",
   "execution_count": 115,
   "metadata": {},
   "outputs": [
    {
     "data": {
      "text/plain": [
       "Index(['S. No.', 'Timestamp', 'GAD1', 'GAD2', 'GAD3', 'GAD4', 'GAD5', 'GAD6',\n",
       "       'GAD7', 'GADE', 'Game', 'Platform', 'Hours', 'earnings', 'whyplay',\n",
       "       'League', 'highestleague', 'streams', 'Gender', 'Age', 'Work', 'Degree',\n",
       "       'Birthplace', 'Residence', 'Reference', 'Playstyle', 'GAD_T',\n",
       "       'Residence_ISO3', 'Birthplace_ISO3'],\n",
       "      dtype='object')"
      ]
     },
     "execution_count": 115,
     "metadata": {},
     "output_type": "execute_result"
    }
   ],
   "source": [
    "gamers_df.columns"
   ]
  },
  {
   "cell_type": "code",
   "execution_count": 126,
   "metadata": {},
   "outputs": [
    {
     "data": {
      "text/plain": [
       "League of Legends      11314\n",
       "Other                   1021\n",
       "Starcraft 2              345\n",
       "Counter Strike           318\n",
       "World of Warcraft        152\n",
       "Hearthstone              101\n",
       "Diablo 3                  89\n",
       "Heroes of the Storm       41\n",
       "Guild Wars 2              37\n",
       "Skyrim                    28\n",
       "Destiny                   18\n",
       "Name: Game, dtype: int64"
      ]
     },
     "execution_count": 126,
     "metadata": {},
     "output_type": "execute_result"
    }
   ],
   "source": [
    "pd.options.display.max_columns = None\n",
    "gamers_df['Game'].value_counts()"
   ]
  },
  {
   "cell_type": "code",
   "execution_count": null,
   "metadata": {},
   "outputs": [],
   "source": []
  }
 ],
 "metadata": {
  "kernelspec": {
   "display_name": "Python(flatiron-project)",
   "language": "python",
   "name": "flatiron-project"
  },
  "language_info": {
   "codemirror_mode": {
    "name": "ipython",
    "version": 3
   },
   "file_extension": ".py",
   "mimetype": "text/x-python",
   "name": "python",
   "nbconvert_exporter": "python",
   "pygments_lexer": "ipython3",
   "version": "3.9.16"
  }
 },
 "nbformat": 4,
 "nbformat_minor": 4
}
